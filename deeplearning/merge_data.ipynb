{
 "cells": [
  {
   "cell_type": "code",
   "execution_count": 42,
   "metadata": {},
   "outputs": [],
   "source": [
    "import pandas as pd\n",
    "from haystack_integrations.document_stores.qdrant import QdrantDocumentStore\n",
    "import json\n",
    "from haystack.dataclasses.document import Document\n"
   ]
  },
  {
   "cell_type": "code",
   "execution_count": 3,
   "metadata": {},
   "outputs": [],
   "source": [
    "\n",
    "metadata_with_reviews = pd.read_csv(\"data/before_embedding_metadata_with_reviews.csv\")\n",
    "metadata = pd.read_csv(\"data/before_embedding_metadata.csv\")\n",
    "vegan_recipes = pd.read_csv(\"data/before_embedding_vegan_recipes.csv\")\n",
    "reviews_df = pd.read_csv(\"data/before_embedding_reviews_df.csv\")\n"
   ]
  },
  {
   "cell_type": "code",
   "execution_count": 56,
   "metadata": {},
   "outputs": [
    {
     "data": {
      "text/plain": [
       "Unnamed: 0                                                                  843\n",
       "RecipeId                                                                   1507\n",
       "Name                                                       Peppy Salad Dressing\n",
       "AuthorId                                                                   1551\n",
       "CookingTimeMinutes                                                           30\n",
       "PreparationTimeMinutes                                                        0\n",
       "TotalRecipeMinutes                                                           30\n",
       "Description                   Description not provided. Please generate a de...\n",
       "RecipeCategory                                                  Salad Dressings\n",
       "Keywords                                                            \"< 15 Mins\"\n",
       "RecipeIngredientQuantities                            1, 1, 1/8, 1/8, 1/4, 1, 1\n",
       "RecipeIngredientParts         sugar, dry mustard, pepper, water, vinegar, ga...\n",
       "AggregatedRating                                                            5.0\n",
       "ReviewCount                                                                 1.0\n",
       "Calories                                                                    9.1\n",
       "FatContent                                                                  0.0\n",
       "SaturatedFatContent                                                         0.0\n",
       "CarbohydrateContent                                                         2.3\n",
       "FiberContent                                                                0.2\n",
       "SugarContent                                                                0.5\n",
       "ProteinContent                                                              0.0\n",
       "RecipeServings                                                              8.0\n",
       "RecipeInstructions            Combine pectin sugar mustard and pepper. Stir ...\n",
       "RecipeTimeCategory                                                        Short\n",
       "RatingReviewScore                                                      0.501188\n",
       "merged_text                   Name: Peppy Salad Dressing; Cooking Time Minut...\n",
       "Name: 19, dtype: object"
      ]
     },
     "execution_count": 56,
     "metadata": {},
     "output_type": "execute_result"
    }
   ],
   "source": [
    "vegan_recipes.iloc[19]"
   ]
  },
  {
   "cell_type": "markdown",
   "metadata": {},
   "source": [
    "---\n"
   ]
  },
  {
   "cell_type": "code",
   "execution_count": null,
   "metadata": {},
   "outputs": [],
   "source": [
    "with open(\"data/recipes_data.json\", \"r\") as f:\n",
    "    vector_recipes = json.load(f)\n",
    "\n",
    "vector_recipes_dict = {elem['RecipeId']: elem['VectorData'] for elem in vector_recipes}"
   ]
  },
  {
   "cell_type": "code",
   "execution_count": 50,
   "metadata": {},
   "outputs": [],
   "source": [
    "\n",
    "document_store = QdrantDocumentStore(\n",
    "    \"100.107.35.86\",\n",
    "    index=\"recipe_test\", # anders nennen später\n",
    "    embedding_dim=768,\n",
    "    recreate_index=True, # nicht immer recreating\n",
    "    return_embedding=True,\n",
    "    wait_result_from_api=True,\n",
    ")\n",
    "\n"
   ]
  },
  {
   "cell_type": "code",
   "execution_count": 51,
   "metadata": {},
   "outputs": [
    {
     "name": "stderr",
     "output_type": "stream",
     "text": [
      "100%|██████████| 100/100 [00:00<00:00, 104.16it/s]\n"
     ]
    },
    {
     "data": {
      "text/plain": [
       "100"
      ]
     },
     "execution_count": 51,
     "metadata": {},
     "output_type": "execute_result"
    }
   ],
   "source": [
    "list_documents = []\n",
    "for i in range(0,100):\n",
    "    recipe_id = vegan_recipes.iloc[i][\"RecipeId\"]\n",
    "    recipe_text = vegan_recipes.iloc[i][\"merged_text\"]\n",
    "    recipe_vector = vector_recipes_dict[recipe_id]\n",
    "\n",
    "    list_documents.append(Document(content=recipe_text, embedding=recipe_vector))\n",
    "\n",
    "document_store.write_documents(list_documents)"
   ]
  },
  {
   "cell_type": "code",
   "execution_count": null,
   "metadata": {},
   "outputs": [
    {
     "data": {
      "text/plain": [
       "100"
      ]
     },
     "execution_count": 52,
     "metadata": {},
     "output_type": "execute_result"
    }
   ],
   "source": [
    "# to see how many documents are in the document-store\n",
    "\n",
    "# document_store.count_documents()"
   ]
  }
 ],
 "metadata": {
  "kernelspec": {
   "display_name": ".venv",
   "language": "python",
   "name": "python3"
  },
  "language_info": {
   "codemirror_mode": {
    "name": "ipython",
    "version": 3
   },
   "file_extension": ".py",
   "mimetype": "text/x-python",
   "name": "python",
   "nbconvert_exporter": "python",
   "pygments_lexer": "ipython3",
   "version": "3.9.6"
  }
 },
 "nbformat": 4,
 "nbformat_minor": 2
}
