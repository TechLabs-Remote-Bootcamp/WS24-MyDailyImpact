{
 "cells": [
  {
   "cell_type": "markdown",
   "metadata": {},
   "source": [
    "# Data Preprocessing for RAG"
   ]
  },
  {
   "cell_type": "code",
   "execution_count": 1,
   "metadata": {},
   "outputs": [],
   "source": [
    "from IPython.core.interactiveshell import InteractiveShell\n",
    "InteractiveShell.ast_node_interactivity = \"last_expr\""
   ]
  },
  {
   "cell_type": "code",
   "execution_count": 1,
   "metadata": {
    "_cell_guid": "b1076dfc-b9ad-4769-8c92-a6c4dae69d19",
    "_uuid": "8f2839f25d086af736a60e9eeb907d3b93b6e0e5",
    "execution": {
     "iopub.execute_input": "2025-02-02T20:52:52.166004Z",
     "iopub.status.busy": "2025-02-02T20:52:52.165748Z",
     "iopub.status.idle": "2025-02-02T20:53:16.578399Z",
     "shell.execute_reply": "2025-02-02T20:53:16.577496Z",
     "shell.execute_reply.started": "2025-02-02T20:52:52.165975Z"
    },
    "trusted": true
   },
   "outputs": [],
   "source": [
    "import numpy as np \n",
    "import pandas as pd \n",
    "import warnings\n",
    "warnings.filterwarnings('ignore')\n",
    "import matplotlib.pyplot as plt\n",
    "import seaborn as sns\n",
    "import re\n",
    "import html\n",
    "import gc \n",
    "import torch\n",
    "from transformers import AutoTokenizer\n",
    "from scipy.stats import describe\n",
    "from transformers import DistilBertTokenizer, DistilBertModel"
   ]
  },
  {
   "cell_type": "code",
   "execution_count": 2,
   "metadata": {
    "execution": {
     "iopub.execute_input": "2025-02-02T13:15:24.507221Z",
     "iopub.status.busy": "2025-02-02T13:15:24.506739Z",
     "iopub.status.idle": "2025-02-02T13:15:51.105336Z",
     "shell.execute_reply": "2025-02-02T13:15:51.104651Z",
     "shell.execute_reply.started": "2025-02-02T13:15:24.507198Z"
    },
    "trusted": true
   },
   "outputs": [],
   "source": [
    "# Uploading datasets\n",
    "\n",
    "file_path = '/kaggle/input/foodcom-recipes-and-reviews/'\n",
    "pd.set_option('display.max_columns', None)\n",
    "recipes_df = pd.read_csv(file_path + 'recipes.csv')\n",
    "reviews_df = pd.read_csv(file_path + 'reviews.csv')\n",
    "\n",
    "#recipes_df.head()"
   ]
  },
  {
   "cell_type": "code",
   "execution_count": 3,
   "metadata": {
    "execution": {
     "iopub.execute_input": "2025-02-02T13:15:51.106312Z",
     "iopub.status.busy": "2025-02-02T13:15:51.106066Z",
     "iopub.status.idle": "2025-02-02T13:15:51.539411Z",
     "shell.execute_reply": "2025-02-02T13:15:51.538626Z",
     "shell.execute_reply.started": "2025-02-02T13:15:51.106279Z"
    },
    "trusted": true
   },
   "outputs": [
    {
     "name": "stdout",
     "output_type": "stream",
     "text": [
      "<class 'pandas.core.frame.DataFrame'>\n",
      "RangeIndex: 522517 entries, 0 to 522516\n",
      "Data columns (total 28 columns):\n",
      " #   Column                      Non-Null Count   Dtype  \n",
      "---  ------                      --------------   -----  \n",
      " 0   RecipeId                    522517 non-null  int64  \n",
      " 1   Name                        522517 non-null  object \n",
      " 2   AuthorId                    522517 non-null  int64  \n",
      " 3   AuthorName                  522517 non-null  object \n",
      " 4   CookTime                    439972 non-null  object \n",
      " 5   PrepTime                    522517 non-null  object \n",
      " 6   TotalTime                   522517 non-null  object \n",
      " 7   DatePublished               522517 non-null  object \n",
      " 8   Description                 522512 non-null  object \n",
      " 9   Images                      522516 non-null  object \n",
      " 10  RecipeCategory              521766 non-null  object \n",
      " 11  Keywords                    505280 non-null  object \n",
      " 12  RecipeIngredientQuantities  522514 non-null  object \n",
      " 13  RecipeIngredientParts       522517 non-null  object \n",
      " 14  AggregatedRating            269294 non-null  float64\n",
      " 15  ReviewCount                 275028 non-null  float64\n",
      " 16  Calories                    522517 non-null  float64\n",
      " 17  FatContent                  522517 non-null  float64\n",
      " 18  SaturatedFatContent         522517 non-null  float64\n",
      " 19  CholesterolContent          522517 non-null  float64\n",
      " 20  SodiumContent               522517 non-null  float64\n",
      " 21  CarbohydrateContent         522517 non-null  float64\n",
      " 22  FiberContent                522517 non-null  float64\n",
      " 23  SugarContent                522517 non-null  float64\n",
      " 24  ProteinContent              522517 non-null  float64\n",
      " 25  RecipeServings              339606 non-null  float64\n",
      " 26  RecipeYield                 174446 non-null  object \n",
      " 27  RecipeInstructions          522517 non-null  object \n",
      "dtypes: float64(12), int64(2), object(14)\n",
      "memory usage: 111.6+ MB\n"
     ]
    }
   ],
   "source": [
    "#Dataset overview\n",
    "recipes_df.info()"
   ]
  },
  {
   "cell_type": "code",
   "execution_count": 4,
   "metadata": {
    "execution": {
     "iopub.execute_input": "2025-02-02T13:15:51.541709Z",
     "iopub.status.busy": "2025-02-02T13:15:51.541492Z",
     "iopub.status.idle": "2025-02-02T13:15:51.884597Z",
     "shell.execute_reply": "2025-02-02T13:15:51.883785Z",
     "shell.execute_reply.started": "2025-02-02T13:15:51.541691Z"
    },
    "trusted": true
   },
   "outputs": [
    {
     "name": "stdout",
     "output_type": "stream",
     "text": [
      "<class 'pandas.core.frame.DataFrame'>\n",
      "RangeIndex: 1401982 entries, 0 to 1401981\n",
      "Data columns (total 8 columns):\n",
      " #   Column         Non-Null Count    Dtype \n",
      "---  ------         --------------    ----- \n",
      " 0   ReviewId       1401982 non-null  int64 \n",
      " 1   RecipeId       1401982 non-null  int64 \n",
      " 2   AuthorId       1401982 non-null  int64 \n",
      " 3   AuthorName     1401982 non-null  object\n",
      " 4   Rating         1401982 non-null  int64 \n",
      " 5   Review         1401768 non-null  object\n",
      " 6   DateSubmitted  1401982 non-null  object\n",
      " 7   DateModified   1401982 non-null  object\n",
      "dtypes: int64(4), object(4)\n",
      "memory usage: 85.6+ MB\n"
     ]
    }
   ],
   "source": [
    "reviews_df.info()"
   ]
  },
  {
   "cell_type": "markdown",
   "metadata": {},
   "source": [
    "We can already eliminate some columns which are not relevant for our task."
   ]
  },
  {
   "cell_type": "code",
   "execution_count": 5,
   "metadata": {
    "execution": {
     "iopub.execute_input": "2025-02-02T13:15:51.886692Z",
     "iopub.status.busy": "2025-02-02T13:15:51.886474Z",
     "iopub.status.idle": "2025-02-02T13:15:52.079904Z",
     "shell.execute_reply": "2025-02-02T13:15:52.078959Z",
     "shell.execute_reply.started": "2025-02-02T13:15:51.886673Z"
    },
    "trusted": true
   },
   "outputs": [],
   "source": [
    "recipes_selected = recipes_df.drop(columns=['DatePublished', 'Images', 'AuthorName', 'RecipeYield'])"
   ]
  },
  {
   "cell_type": "markdown",
   "metadata": {},
   "source": [
    "## Missing Values"
   ]
  },
  {
   "cell_type": "markdown",
   "metadata": {},
   "source": [
    "First, we examine the number of missing values across features."
   ]
  },
  {
   "cell_type": "code",
   "execution_count": 6,
   "metadata": {
    "execution": {
     "iopub.execute_input": "2025-02-02T13:15:52.081164Z",
     "iopub.status.busy": "2025-02-02T13:15:52.080840Z",
     "iopub.status.idle": "2025-02-02T13:15:52.397695Z",
     "shell.execute_reply": "2025-02-02T13:15:52.397056Z",
     "shell.execute_reply.started": "2025-02-02T13:15:52.081133Z"
    },
    "trusted": true
   },
   "outputs": [
    {
     "data": {
      "text/plain": [
       "RecipeId                           0\n",
       "Name                               0\n",
       "AuthorId                           0\n",
       "CookTime                       82545\n",
       "PrepTime                           0\n",
       "TotalTime                          0\n",
       "Description                        5\n",
       "RecipeCategory                   751\n",
       "Keywords                       17237\n",
       "RecipeIngredientQuantities         3\n",
       "RecipeIngredientParts              0\n",
       "AggregatedRating              253223\n",
       "ReviewCount                   247489\n",
       "Calories                           0\n",
       "FatContent                         0\n",
       "SaturatedFatContent                0\n",
       "CholesterolContent                 0\n",
       "SodiumContent                      0\n",
       "CarbohydrateContent                0\n",
       "FiberContent                       0\n",
       "SugarContent                       0\n",
       "ProteinContent                     0\n",
       "RecipeServings                182911\n",
       "RecipeInstructions                 0\n",
       "dtype: int64"
      ]
     },
     "execution_count": 6,
     "metadata": {},
     "output_type": "execute_result"
    }
   ],
   "source": [
    "recipes_selected.isna().sum()"
   ]
  },
  {
   "cell_type": "markdown",
   "metadata": {},
   "source": [
    "We first drop rows with NaNs in Keywords since this is the basis for filtering non-plant-baced recipes."
   ]
  },
  {
   "cell_type": "code",
   "execution_count": 7,
   "metadata": {
    "execution": {
     "iopub.execute_input": "2025-02-02T13:15:52.398773Z",
     "iopub.status.busy": "2025-02-02T13:15:52.398465Z",
     "iopub.status.idle": "2025-02-02T13:15:52.579847Z",
     "shell.execute_reply": "2025-02-02T13:15:52.579194Z",
     "shell.execute_reply.started": "2025-02-02T13:15:52.398738Z"
    },
    "trusted": true
   },
   "outputs": [],
   "source": [
    "# Drop NaNs in Keywords\n",
    "\n",
    "recipes_selected = recipes_selected.dropna(subset=['Keywords'])"
   ]
  },
  {
   "cell_type": "markdown",
   "metadata": {},
   "source": [
    "To be able to filter rows based on values, we need to clean and convert some columns from dictionaries into lists."
   ]
  },
  {
   "cell_type": "code",
   "execution_count": 8,
   "metadata": {
    "execution": {
     "iopub.execute_input": "2025-02-02T13:15:52.580991Z",
     "iopub.status.busy": "2025-02-02T13:15:52.580676Z",
     "iopub.status.idle": "2025-02-02T13:16:03.684952Z",
     "shell.execute_reply": "2025-02-02T13:16:03.684133Z",
     "shell.execute_reply.started": "2025-02-02T13:15:52.580962Z"
    },
    "trusted": true
   },
   "outputs": [
    {
     "data": {
      "text/html": [
       "<div>\n",
       "<style scoped>\n",
       "    .dataframe tbody tr th:only-of-type {\n",
       "        vertical-align: middle;\n",
       "    }\n",
       "\n",
       "    .dataframe tbody tr th {\n",
       "        vertical-align: top;\n",
       "    }\n",
       "\n",
       "    .dataframe thead th {\n",
       "        text-align: right;\n",
       "    }\n",
       "</style>\n",
       "<table border=\"1\" class=\"dataframe\">\n",
       "  <thead>\n",
       "    <tr style=\"text-align: right;\">\n",
       "      <th></th>\n",
       "      <th>RecipeId</th>\n",
       "      <th>Name</th>\n",
       "      <th>AuthorId</th>\n",
       "      <th>CookTime</th>\n",
       "      <th>PrepTime</th>\n",
       "      <th>TotalTime</th>\n",
       "      <th>Description</th>\n",
       "      <th>RecipeCategory</th>\n",
       "      <th>Keywords</th>\n",
       "      <th>RecipeIngredientQuantities</th>\n",
       "      <th>RecipeIngredientParts</th>\n",
       "      <th>AggregatedRating</th>\n",
       "      <th>ReviewCount</th>\n",
       "      <th>Calories</th>\n",
       "      <th>FatContent</th>\n",
       "      <th>SaturatedFatContent</th>\n",
       "      <th>CholesterolContent</th>\n",
       "      <th>SodiumContent</th>\n",
       "      <th>CarbohydrateContent</th>\n",
       "      <th>FiberContent</th>\n",
       "      <th>SugarContent</th>\n",
       "      <th>ProteinContent</th>\n",
       "      <th>RecipeServings</th>\n",
       "      <th>RecipeInstructions</th>\n",
       "    </tr>\n",
       "  </thead>\n",
       "  <tbody>\n",
       "    <tr>\n",
       "      <th>0</th>\n",
       "      <td>38</td>\n",
       "      <td>Low-Fat Berry Blue Frozen Dessert</td>\n",
       "      <td>1533</td>\n",
       "      <td>24H</td>\n",
       "      <td>45M</td>\n",
       "      <td>24H45M</td>\n",
       "      <td>Make and share this Low-Fat Berry Blue Frozen ...</td>\n",
       "      <td>Frozen Desserts</td>\n",
       "      <td>[Dessert, Low Protein, Low Cholesterol, Health...</td>\n",
       "      <td>[4, 1/4, 1, 1]</td>\n",
       "      <td>[blueberries, granulated sugar, vanilla yogurt...</td>\n",
       "      <td>4.5</td>\n",
       "      <td>4.0</td>\n",
       "      <td>170.9</td>\n",
       "      <td>2.5</td>\n",
       "      <td>1.3</td>\n",
       "      <td>8.0</td>\n",
       "      <td>29.8</td>\n",
       "      <td>37.1</td>\n",
       "      <td>3.6</td>\n",
       "      <td>30.2</td>\n",
       "      <td>3.2</td>\n",
       "      <td>4.0</td>\n",
       "      <td>[Toss 2 cups berries with sugar., Let stand fo...</td>\n",
       "    </tr>\n",
       "    <tr>\n",
       "      <th>1</th>\n",
       "      <td>39</td>\n",
       "      <td>Biryani</td>\n",
       "      <td>1567</td>\n",
       "      <td>25M</td>\n",
       "      <td>4H</td>\n",
       "      <td>4H25M</td>\n",
       "      <td>Make and share this Biryani recipe from Food.com.</td>\n",
       "      <td>Chicken Breast</td>\n",
       "      <td>[Chicken Thigh &amp; Leg, Chicken, Poultry, Meat, ...</td>\n",
       "      <td>[1, 4, 2, 2, 8, 1/4, 8, 1/2, 1, 1, 1/4, 1/4, 1...</td>\n",
       "      <td>[saffron, milk, hot green chili peppers, onion...</td>\n",
       "      <td>3.0</td>\n",
       "      <td>1.0</td>\n",
       "      <td>1110.7</td>\n",
       "      <td>58.8</td>\n",
       "      <td>16.6</td>\n",
       "      <td>372.8</td>\n",
       "      <td>368.4</td>\n",
       "      <td>84.4</td>\n",
       "      <td>9.0</td>\n",
       "      <td>20.4</td>\n",
       "      <td>63.4</td>\n",
       "      <td>6.0</td>\n",
       "      <td>[Soak saffron in warm milk for 5 minutes and p...</td>\n",
       "    </tr>\n",
       "    <tr>\n",
       "      <th>2</th>\n",
       "      <td>40</td>\n",
       "      <td>Best Lemonade</td>\n",
       "      <td>1566</td>\n",
       "      <td>5M</td>\n",
       "      <td>30M</td>\n",
       "      <td>35M</td>\n",
       "      <td>This is from one of my  first Good House Keepi...</td>\n",
       "      <td>Beverages</td>\n",
       "      <td>[Low Protein, Low Cholesterol, Healthy, Summer...</td>\n",
       "      <td>[1 1/2, 1, NA, 1 1/2, NA, 3/4]</td>\n",
       "      <td>[sugar, lemons, rind of, lemon, zest of, fresh...</td>\n",
       "      <td>4.5</td>\n",
       "      <td>10.0</td>\n",
       "      <td>311.1</td>\n",
       "      <td>0.2</td>\n",
       "      <td>0.0</td>\n",
       "      <td>0.0</td>\n",
       "      <td>1.8</td>\n",
       "      <td>81.5</td>\n",
       "      <td>0.4</td>\n",
       "      <td>77.2</td>\n",
       "      <td>0.3</td>\n",
       "      <td>4.0</td>\n",
       "      <td>[Into a 1 quart Jar with tight fitting lid, pu...</td>\n",
       "    </tr>\n",
       "    <tr>\n",
       "      <th>3</th>\n",
       "      <td>41</td>\n",
       "      <td>Carina's Tofu-Vegetable Kebabs</td>\n",
       "      <td>1586</td>\n",
       "      <td>20M</td>\n",
       "      <td>24H</td>\n",
       "      <td>24H20M</td>\n",
       "      <td>This dish is best prepared a day in advance to...</td>\n",
       "      <td>Soy/Tofu</td>\n",
       "      <td>[Beans, Vegetable, Low Cholesterol, Weeknight,...</td>\n",
       "      <td>[12, 1, 2, 1, 10, 1, 3, 2, 2, 2, 1, 2, 1/2, 1/...</td>\n",
       "      <td>[extra firm tofu, eggplant, zucchini, mushroom...</td>\n",
       "      <td>4.5</td>\n",
       "      <td>2.0</td>\n",
       "      <td>536.1</td>\n",
       "      <td>24.0</td>\n",
       "      <td>3.8</td>\n",
       "      <td>0.0</td>\n",
       "      <td>1558.6</td>\n",
       "      <td>64.2</td>\n",
       "      <td>17.3</td>\n",
       "      <td>32.1</td>\n",
       "      <td>29.3</td>\n",
       "      <td>2.0</td>\n",
       "      <td>[Drain the tofu, carefully squeezing out exces...</td>\n",
       "    </tr>\n",
       "    <tr>\n",
       "      <th>4</th>\n",
       "      <td>42</td>\n",
       "      <td>Cabbage Soup</td>\n",
       "      <td>1538</td>\n",
       "      <td>30M</td>\n",
       "      <td>20M</td>\n",
       "      <td>50M</td>\n",
       "      <td>Make and share this Cabbage Soup recipe from F...</td>\n",
       "      <td>Vegetable</td>\n",
       "      <td>[Low Protein, Vegan, Low Cholesterol, Healthy,...</td>\n",
       "      <td>[46, 4, 1, 2, 1]</td>\n",
       "      <td>[plain tomato juice, cabbage, onion, carrots, ...</td>\n",
       "      <td>4.5</td>\n",
       "      <td>11.0</td>\n",
       "      <td>103.6</td>\n",
       "      <td>0.4</td>\n",
       "      <td>0.1</td>\n",
       "      <td>0.0</td>\n",
       "      <td>959.3</td>\n",
       "      <td>25.1</td>\n",
       "      <td>4.8</td>\n",
       "      <td>17.7</td>\n",
       "      <td>4.3</td>\n",
       "      <td>4.0</td>\n",
       "      <td>[Mix everything together and bring to a boil.,...</td>\n",
       "    </tr>\n",
       "  </tbody>\n",
       "</table>\n",
       "</div>"
      ],
      "text/plain": [
       "   RecipeId                               Name  AuthorId CookTime PrepTime  \\\n",
       "0        38  Low-Fat Berry Blue Frozen Dessert      1533      24H      45M   \n",
       "1        39                            Biryani      1567      25M       4H   \n",
       "2        40                      Best Lemonade      1566       5M      30M   \n",
       "3        41     Carina's Tofu-Vegetable Kebabs      1586      20M      24H   \n",
       "4        42                       Cabbage Soup      1538      30M      20M   \n",
       "\n",
       "  TotalTime                                        Description  \\\n",
       "0    24H45M  Make and share this Low-Fat Berry Blue Frozen ...   \n",
       "1     4H25M  Make and share this Biryani recipe from Food.com.   \n",
       "2       35M  This is from one of my  first Good House Keepi...   \n",
       "3    24H20M  This dish is best prepared a day in advance to...   \n",
       "4       50M  Make and share this Cabbage Soup recipe from F...   \n",
       "\n",
       "    RecipeCategory                                           Keywords  \\\n",
       "0  Frozen Desserts  [Dessert, Low Protein, Low Cholesterol, Health...   \n",
       "1   Chicken Breast  [Chicken Thigh & Leg, Chicken, Poultry, Meat, ...   \n",
       "2        Beverages  [Low Protein, Low Cholesterol, Healthy, Summer...   \n",
       "3         Soy/Tofu  [Beans, Vegetable, Low Cholesterol, Weeknight,...   \n",
       "4        Vegetable  [Low Protein, Vegan, Low Cholesterol, Healthy,...   \n",
       "\n",
       "                          RecipeIngredientQuantities  \\\n",
       "0                                     [4, 1/4, 1, 1]   \n",
       "1  [1, 4, 2, 2, 8, 1/4, 8, 1/2, 1, 1, 1/4, 1/4, 1...   \n",
       "2                     [1 1/2, 1, NA, 1 1/2, NA, 3/4]   \n",
       "3  [12, 1, 2, 1, 10, 1, 3, 2, 2, 2, 1, 2, 1/2, 1/...   \n",
       "4                                   [46, 4, 1, 2, 1]   \n",
       "\n",
       "                               RecipeIngredientParts  AggregatedRating  \\\n",
       "0  [blueberries, granulated sugar, vanilla yogurt...               4.5   \n",
       "1  [saffron, milk, hot green chili peppers, onion...               3.0   \n",
       "2  [sugar, lemons, rind of, lemon, zest of, fresh...               4.5   \n",
       "3  [extra firm tofu, eggplant, zucchini, mushroom...               4.5   \n",
       "4  [plain tomato juice, cabbage, onion, carrots, ...               4.5   \n",
       "\n",
       "   ReviewCount  Calories  FatContent  SaturatedFatContent  CholesterolContent  \\\n",
       "0          4.0     170.9         2.5                  1.3                 8.0   \n",
       "1          1.0    1110.7        58.8                 16.6               372.8   \n",
       "2         10.0     311.1         0.2                  0.0                 0.0   \n",
       "3          2.0     536.1        24.0                  3.8                 0.0   \n",
       "4         11.0     103.6         0.4                  0.1                 0.0   \n",
       "\n",
       "   SodiumContent  CarbohydrateContent  FiberContent  SugarContent  \\\n",
       "0           29.8                 37.1           3.6          30.2   \n",
       "1          368.4                 84.4           9.0          20.4   \n",
       "2            1.8                 81.5           0.4          77.2   \n",
       "3         1558.6                 64.2          17.3          32.1   \n",
       "4          959.3                 25.1           4.8          17.7   \n",
       "\n",
       "   ProteinContent  RecipeServings  \\\n",
       "0             3.2             4.0   \n",
       "1            63.4             6.0   \n",
       "2             0.3             4.0   \n",
       "3            29.3             2.0   \n",
       "4             4.3             4.0   \n",
       "\n",
       "                                  RecipeInstructions  \n",
       "0  [Toss 2 cups berries with sugar., Let stand fo...  \n",
       "1  [Soak saffron in warm milk for 5 minutes and p...  \n",
       "2  [Into a 1 quart Jar with tight fitting lid, pu...  \n",
       "3  [Drain the tofu, carefully squeezing out exces...  \n",
       "4  [Mix everything together and bring to a boil.,...  "
      ]
     },
     "execution_count": 8,
     "metadata": {},
     "output_type": "execute_result"
    }
   ],
   "source": [
    "# Cleaning and converting dictionary columns\n",
    "\n",
    "def clean_wrappers(value):\n",
    "    if isinstance(value, str) and value.startswith('c('):\n",
    "        value = value[2:-1]  \n",
    "        return [item.strip().strip('\"') for item in value.split(\",\")]  \n",
    "    elif isinstance(value, str) and value.startswith('PT'):\n",
    "        return value[2:].strip()  \n",
    "    else:\n",
    "        return value \n",
    "\n",
    "columns_to_clean = [\"Keywords\",\t'CookTime', 'PrepTime', 'TotalTime', \"RecipeIngredientQuantities\", \"RecipeIngredientParts\", \"RecipeInstructions\"]\n",
    "for col in columns_to_clean:\n",
    "    recipes_selected[col] = recipes_selected[col].apply(clean_wrappers)\n",
    "\n",
    "recipes_selected.head()"
   ]
  },
  {
   "cell_type": "markdown",
   "metadata": {},
   "source": [
    "## Filtering"
   ]
  },
  {
   "cell_type": "markdown",
   "metadata": {},
   "source": [
    "We print out all unique keywords to identify potentially non-plant-based ones."
   ]
  },
  {
   "cell_type": "code",
   "execution_count": 9,
   "metadata": {
    "collapsed": true,
    "execution": {
     "iopub.execute_input": "2025-02-02T13:16:03.686191Z",
     "iopub.status.busy": "2025-02-02T13:16:03.685903Z",
     "iopub.status.idle": "2025-02-02T13:16:03.985637Z",
     "shell.execute_reply": "2025-02-02T13:16:03.984725Z",
     "shell.execute_reply.started": "2025-02-02T13:16:03.686157Z"
    },
    "jupyter": {
     "outputs_hidden": true
    },
    "trusted": true
   },
   "outputs": [
    {
     "data": {
      "text/plain": [
       "array(['Dessert', 'Low Protein', 'Low Cholesterol', 'Healthy',\n",
       "       'Free Of...', 'Summer', 'Weeknight', 'Freezer', 'Easy',\n",
       "       'Chicken Thigh & Leg', 'Chicken', 'Poultry', 'Meat', 'Asian',\n",
       "       'Indian', 'Stove Top', '< 60 Mins', 'Beans', 'Vegetable',\n",
       "       'Broil/Grill', 'Oven', 'Vegan', 'Winter', '< 4 Hours', 'Thai',\n",
       "       '< 30 Mins', 'Cookie & Brownie', 'Fruit', 'Nuts', 'European',\n",
       "       'Very Low Carbs', 'High Protein', 'High In...', '< 15 Mins',\n",
       "       'For Large Groups', 'No Cook', 'Pineapple', 'Tropical Fruits',\n",
       "       'Mexican', 'Black Beans', 'Spring', 'Berries', 'Corn', 'Breads',\n",
       "       '\"< 30 Mins\"', 'South American', 'Lactose Free', 'Egg Free',\n",
       "       'Refrigerator', 'Rice', 'Apple', 'Grapes', 'Citrus', 'Kosher',\n",
       "       'Sweet', 'Cheese', 'Russian', 'Cajun', 'Potluck', 'Quick Breads',\n",
       "       'Pork', 'Roast', 'Caribbean', 'Short Grain Rice', 'Beverages',\n",
       "       'Christmas', 'Bread Machine', 'Small Appliance', 'Breakfast',\n",
       "       '\"< 4 Hours\"', 'Tuna', 'Kid Friendly', '\"Oven\"', 'Yeast Breads',\n",
       "       'Lunch/Snacks', 'Coconut', 'Beef Organ Meats', 'Beef Liver',\n",
       "       'White Rice', 'One Dish Meal', 'Chicken Breast', 'Peppers',\n",
       "       'Chinese', 'Plums', '\"< 15 Mins\"', 'Scottish', 'Portuguese',\n",
       "       'Crab', 'Lime', '\"< 60 Mins\"', 'Canning', 'Pears', 'Microwave',\n",
       "       'Greek', 'Potato', 'Spanish', 'Brazilian', 'Cauliflower',\n",
       "       'Soy/Tofu', 'Tex Mex', 'Southwestern U.S.', 'German', 'Australian',\n",
       "       'Oranges', 'Brunch', 'Sauces', 'Long Grain Rice', 'Turkish',\n",
       "       'Southwest Asia (middle East)', 'Spicy', 'Raspberries', 'Hawaiian',\n",
       "       \"St. Patrick's Day\", 'Halloween', 'Moroccan', 'African',\n",
       "       'Austrian', 'Greens', 'Deep Fried', '\"Weeknight\"', 'Lamb/Sheep',\n",
       "       'Onions', 'Spinach', 'Lentil', 'Dutch', 'Cherries', 'Canadian',\n",
       "       'Cuban', 'Japanese', 'Native American', 'South African', 'Oysters',\n",
       "       'Hungarian', 'Thanksgiving', 'Toddler Friendly', 'Savory',\n",
       "       'Spaghetti', 'Strawberry', 'Swiss', 'High Fiber', '\"Easy\"',\n",
       "       'Beginner Cook', 'Whole Chicken', '\"Stove Top\"', 'Melons',\n",
       "       '\"Deep Fried\"', 'Stir Fry', 'Steak', 'Korean', 'Grains', 'Mixer',\n",
       "       'New Zealand', 'Candy', 'Papaya', 'Swedish', 'Scandinavian',\n",
       "       'Orange Roughy', 'Dehydrator', 'Creole', '\"Fruit\"', 'Indonesian',\n",
       "       'Mussels', 'Squid', 'No Shell Fish', 'Welsh', '\"Canning\"',\n",
       "       'Hanukkah', 'Wild Game', 'Stew', 'Filipino', '\"Meat\"', 'Veal',\n",
       "       'Bar Cookie', 'Rabbit', 'Crawfish', 'Danish', 'Finnish',\n",
       "       'Frozen Desserts', '\"Winter\"', '\"No Cook\"', 'Cheesecake', 'Steam',\n",
       "       'Vietnamese', 'Gelatin', 'Pressure Cooker', 'Norwegian',\n",
       "       '\"Stir Fry\"', 'Brown Rice', 'Duck', 'College Food',\n",
       "       '\"For Large Groups\"', 'Polish', 'Egyptian', 'Pennsylvania Dutch',\n",
       "       'Ham', 'Lobster', 'Whitefish', 'Yam/Sweet Potato', 'Lemon',\n",
       "       '\"Refrigerator\"', 'Czech', 'Camping', 'Spreads', 'Pasta Shells',\n",
       "       'Trout', 'Mango', 'Lebanese', 'Chilean', 'Duck Breasts',\n",
       "       'Medium Grain Rice', 'Chicken Livers', 'Ethiopian', 'Penne',\n",
       "       'Baking', 'Ramadan', 'Pie', 'Tempeh', 'Shakes', 'Nigerian', 'Deer',\n",
       "       'Dairy Free Foods', 'Inexpensive', 'Belgian', 'Halibut',\n",
       "       'Venezuelan', 'Manicotti', 'Chocolate Chip Cookies', 'Roast Beef',\n",
       "       'Chowders', 'Household Cleaner', 'Polynesian', 'Salad Dressings',\n",
       "       'Catfish', 'Bath/Beauty', '\"Oysters\"', 'Peanut Butter',\n",
       "       'Collard Greens', 'Smoothies', 'Nepalese', 'Puerto Rican',\n",
       "       'Costa Rican', 'Guatemalan', 'Honduran', 'Punch Beverage',\n",
       "       'Mahi Mahi', '\"Small Appliance\"', 'Moose', 'Szechuan', 'Bass',\n",
       "       'Mongolian', 'Hunan', '\"Spicy\"', 'Whole Duck', 'Cantonese',\n",
       "       'Curries', 'Perch', 'Pasta Elbow', 'Ecuadorean', 'Sudanese',\n",
       "       'Cambodian', 'Turkey Breasts', 'From Scratch', 'Iraqi', 'Peruvian',\n",
       "       '\"Low Protein\"', 'Goose', 'Pheasant', 'Gumbo', 'Savory Pies',\n",
       "       '\"Inexpensive\"', 'Homeopathy/Remedies', 'Somalian', 'Colombian',\n",
       "       'Elk', 'Kiwifruit', 'Malaysian', 'Chard', 'Palestinian', 'Octopus',\n",
       "       'Georgian', 'Pakistani', 'Stocks', '\"Healthy\"', 'Jellies',\n",
       "       'Tilapia', 'Whole Turkey', 'Quail', 'Bear', 'Clear Soup',\n",
       "       'Icelandic', '\"Christmas\"', '\"Asian\"', '\"Dessert\"',\n",
       "       '\"Low Cholesterol\"', '\"Very Low Carbs\"', '\"Breads\"',\n",
       "       '\"Cookie & Brownie\"', '\"Southwestern U.S.\"', '\"Vegetable\"',\n",
       "       '\"Brunch\"', '\"Potluck\"', '\"Beans\"', '\"European\"', '\"Sweet\"',\n",
       "       '\"St. Patrick\\'s Day\"', '\"Canadian\"', '\"Summer\"', '\"High In...\"',\n",
       "       '\"Free Of...\"', '\"Creole\"', '\"Halloween\"', '\"Vegan\"',\n",
       "       '\"College Food\"', '\"Kid Friendly\"', '\"Lunch/Snacks\"', '\"Kosher\"',\n",
       "       '\"Savory\"', '\"Dairy Free Foods\"', '\"Mexican\"', '\"Thanksgiving\"',\n",
       "       'Beef Kidney', '\"Beverages\"', 'Meatloaf', '\"Cheese\"',\n",
       "       '\"One Dish Meal\"', '\"Steam\"', '\"Microwave\"', '\"Caribbean\"',\n",
       "       '\"Breakfast\"', 'Avocado', '\"Native American\"', '\"Grains\"',\n",
       "       '\"New Zealand\"', '\"Camping\"', '\"Trout\"', '\"African\"',\n",
       "       '\"South American\"', '\"Freezer\"', '\"Crab\"', '\"Nuts\"',\n",
       "       '\"Household Cleaner\"', '\"Hawaiian\"', '\"Rice\"', 'Eggs Breakfast',\n",
       "       '\"Stew\"', 'Served Hot New Years', 'Chinese New Year', 'Pumpkin',\n",
       "       '\"From Scratch\"', '\"Tuna\"', '\"Spring\"', 'Cabbage', 'Beef Sauces',\n",
       "       'For Large Groups Holiday/Event', 'Navy Bean Soup',\n",
       "       'Cranberry Sauce', 'Pork Loin', '\"Indian\"', 'Baked Beans',\n",
       "       'Bean Soup', '\"Spaghetti\"', '\"Cajun\"', 'Cucumber',\n",
       "       'Beef Crock Pot', 'Pot Roast', 'Chicken Stew', 'Chicken Stews',\n",
       "       '\"Crock Pot Slow Cooker\"', '\"Tortilla Soup\"', 'Marinara Sauce',\n",
       "       'Tomato Sauce', 'Lime Desserts', '\"Beef Barley Soup\"',\n",
       "       'Crock Pot Slow Cooker', 'Beef Sandwiches', 'Breakfast Potatoes',\n",
       "       'Breakfast Eggs', '\"Fish Halibut\"', 'Strawberries Desserts',\n",
       "       'Birthday', 'Memorial Day', 'Labor Day', 'Desserts Easy',\n",
       "       'Ice Cream', 'Meatballs', 'Artichoke', '\"Birthday\"',\n",
       "       'Mashed Potatoes', 'Coconut Desserts', 'Oatmeal',\n",
       "       'Halloween Cocktail', 'Pork Crock Pot',\n",
       "       'High In... Diabetic Friendly', '\"Hanukkah\"',\n",
       "       '\"Reynolds Wrap Contest\"', 'Reynolds Wrap Contest',\n",
       "       '\"Peanut Butter\"', 'No Bake Cookie', 'Pot Pie'], dtype=object)"
      ]
     },
     "execution_count": 9,
     "metadata": {},
     "output_type": "execute_result"
    }
   ],
   "source": [
    "recipes_selected['Keywords'].explode().unique()"
   ]
  },
  {
   "cell_type": "code",
   "execution_count": 10,
   "metadata": {
    "execution": {
     "iopub.execute_input": "2025-02-02T13:16:03.986857Z",
     "iopub.status.busy": "2025-02-02T13:16:03.986548Z",
     "iopub.status.idle": "2025-02-02T13:16:04.142830Z",
     "shell.execute_reply": "2025-02-02T13:16:04.142202Z",
     "shell.execute_reply.started": "2025-02-02T13:16:03.986827Z"
    },
    "trusted": true
   },
   "outputs": [],
   "source": [
    "recipes_selected['RecipeIngredientParts'] = recipes_selected['RecipeIngredientParts'].apply(\n",
    "    lambda x: x if isinstance(x, list) else [x] if pd.notna(x) else []\n",
    ")"
   ]
  },
  {
   "cell_type": "markdown",
   "metadata": {},
   "source": [
    "We compile a list of all animal-derived ingredients to filter out non-plant-based recipes."
   ]
  },
  {
   "cell_type": "code",
   "execution_count": 11,
   "metadata": {
    "execution": {
     "iopub.execute_input": "2025-02-02T13:16:04.144224Z",
     "iopub.status.busy": "2025-02-02T13:16:04.143974Z",
     "iopub.status.idle": "2025-02-02T13:16:04.177346Z",
     "shell.execute_reply": "2025-02-02T13:16:04.176374Z",
     "shell.execute_reply.started": "2025-02-02T13:16:04.144196Z"
    },
    "trusted": true
   },
   "outputs": [],
   "source": [
    "# Non-plant-based ingredients\n",
    "\n",
    "exclude_ingredients = [\"abalone\", \"alligator meat\", \"alligator sausage\", \"alligator tail steaks\", \"American cheese\", \"anchovy\", \"anchovy fillet\", \"anchovy fillets\", \"anchovy paste\", \"andouille chicken sausage\", \"andouille sausage\", \"andouille turkey sausage\", \"Anejo cheese\", \"asadero cheese\", \"asiago cheese\", \"back bacon\", \"bacon\", \"bacon bits\", \"bacon drippings\", \"bacon fat\", \"bacon grease\", \"bagoong\", \"beef\", \"beef bones with marrow\", \"beef bouillon\", \"beef brisket\", \"beef broth\", \"beef burger\", \"beef chuck\", \"beef drippings\", \"beef eye round\", \"beef fat\", \"beef flank steak\", \"beef kielbasa\", \"beef liver\", \"beef prosciutto\", \"beef rib\", \"beef roast\", \"beef schnitzel\", \"beef shank\", \"beef short ribs\", \"beef sirloin\", \"beef steak\", \"beef suet\", \"beef sweetbreads\", \"beef tenderloin\", \"beefsteak\", \"bleu cheese\", \"blue cheese\", \"boneless beef\", \"boneless chicken\", \"boneless duck\", \"boneless ham\", \"boneless lamb\", \"boneless pork\", \"boneless salmon\", \"bottarga\", \"bouillon\", \"braunschweiger sausage\", \"bresaola\", \"brie cheese\", \"broth\", \"buffalo mozzarella\", \"bulk Italian sausage\", \"bulk pork sausage\", \"bulk sausage\", \"butter\", \"buttermilk\", \"cabrales cheese\", \"caciocavallo\", \"camembert cheese\", \"Canadian bacon\", \"Canadian cheddar cheese\", \"capacola ham\", \"cheddar cheese\", \"cheese\", \"chicken\", \"chicken bouillon\", \"chicken broth\", \"chicken fat\", \"chicken giblets\", \"chicken gizzard\", \"chicken liver\", \"chicken meat\", \"clam\", \"clams\", \"codfish\", \"colby cheese\", \"condensed beef broth\", \"condensed chicken broth\", \"cooked corned beef\", \"cooked duck\", \"cooked ham\", \"cooked lamb\", \"cooked pork\", \"corned beef\", \"cottage cheese\", \"crab\", \"crabmeat\", \"cream\", \"cream cheese\", \"creme fraiche\", \"duck\", \"duck fat\", \"duck liver\", \"dulce de leche\", \"egg\", \"eggs\", \"eel\", \"fish\", \"fish sauce\", \"fontina cheese\", \"foie gras\", \"gelatin\", \"ghee\", \"goat cheese\", \"goose\", \"gorgonzola\", \"gouda cheese\", \"gruyere cheese\", \"ham\", \"heavy cream\", \"herring\", \"havarti cheese\", \"honey\", \"ice cream\", \"jamon serrano\", \"kidney suet\", \"kielbasa\", \"lamb\", \"lard\", \"lobster\", \"mascarpone cheese\", \"meat\", \"milk\", \"monterey jack cheese\", \"mozzarella cheese\", \"muenster cheese\", \"octopus\", \"oyster\", \"pancetta\", \"parmesan cheese\", \"pecorino cheese\", \"pheasant\", \"pork\", \"prosciutto\", \"provolone cheese\", \"quail\", \"quark\", \"rabbit\", \"ricotta cheese\", \"romano cheese\", \"roquefort cheese\", \"salmon\", \"sardine\", \"sausage\", \"scallop\", \"shrimp\", \"sour cream\", \"squid\", \"suet\", \"swiss cheese\", \"tallow\", \"trout\", \"tuna\", \"turkey\", \"veal\", \"venison\", \"whey\", \"whipped cream\", \"whole milk\", \"yogurt\",\n",
    "\n",
    "\"aioli\", \"albacore tuna\", \"albacore tuna in water\", \"alfredo sauce\", \"anchovy fillet\", \"anchovy fillets\", \"baby beef liver\", \"baby chicken\", \"baby chickens\", \"baby clams\", \"baby shrimp\", \"bacon\", \"bacon-meatloaf\", \"bangers\", \"barbecued chicken\", \"barbecued pork\", \"bay scallop\", \"bay scallops\", \"bay shrimp\", \"beef bouillon cube\", \"beef bouillon cubes\", \"beef bouillon granules\", \"beef bouillon powder\", \"beef burgers\", \"beef chuck with bone\", \"beef mince\", \"beef ribs\", \"beef round rump roast\", \"beef round steak\", \"beef round tip steak\", \"beef round tip steaks\", \"beef short ribs with bones\", \"beef silverside\", \"beef sirloin steak\", \"beef sirloin steaks\", \"beef steaks\", \"beef stew meat\", \"beef tenderloin steak\", \"beef tenderloin steaks\", \"beef tip roast\", \"beef top round steak\", \"beef broth\", \"bleu cheese\", \"bleu cheese spread\", \"blue cheese\", \"bocconcini\", \"bone dust\", \"boned lamb\", \"boneless atlantic salmon fillet\", \"boneless beef brisket\", \"boneless beef chuck\", \"boneless beef chuck roast\", \"boneless beef chuck shoulder pot roast\", \"boneless beef cube\", \"boneless beef cubes\", \"boneless beef roast\", \"boneless beef round steak\", \"boneless beef rump roast\", \"boneless beef short rib\", \"boneless beef short ribs\", \"boneless beef sirloin\", \"boneless beef top loin steak\", \"boneless beef top loin steaks\", \"boneless beef top round\", \"boneless beef top round steak\", \"boneless beef top round steaks\", \"boneless beef top sirloin steak\", \"boneless beef top sirloin steaks\", \"boneless boston pork roast\", \"boneless bottom round roast\", \"boneless center cut pork chop\", \"boneless center cut pork chops\", \"boneless center cut pork loin roast\", \"boneless chicken breast\", \"boneless chicken breast half\", \"boneless chicken breast halves\", \"boneless chicken breasts\", \"boneless duck breast\", \"boneless duck breast halves\", \"boneless duck breasts\", \"boneless duck meat\", \"boneless fresh pork\", \"boneless lamb chops\", \"boneless lamb loin\", \"boneless lamb roast\", \"boneless lamb shoulder\", \"boneless lean lamb\", \"boneless lean pork\", \"boneless leg of lamb\", \"boneless pork blade roast\", \"boneless pork butt shank steaks\", \"boneless pork chop\", \"boneless pork chops\", \"boneless pork cutlet\", \"boneless pork cutlets\", \"boneless pork filet\", \"boneless pork filets\", \"boneless pork leg\", \"boneless pork loin\", \"boneless pork loin chop\", \"boneless pork loin chops\", \"boneless pork loin roast\", \"boneless pork loin steaks\", \"boneless pork ribs\", \"boneless pork roast\", \"boneless pork shoulder\", \"boneless pork sirloin\", \"boneless pork top loin\", \"boneless round steak\", \"boneless salmon fillet\", \"boneless salmon fillets\", \"boneless sirloin tip roast\", \"boneless skinless chicken\", \"boneless skinless chicken breast\", \"boneless skinless chicken breast half\", \"boneless skinless chicken breast halves\", \"boneless skinless chicken breasts\", \"boneless skinless chicken thighs\", \"boneless skinless cod\", \"boneless skinless duck breast halves\", \"boneless skinless duck breasts\", \"boneless skinned chicken breast\", \"boneless skinned chicken breasts\", \"bonito flakes\", \"bonito stock\", \"bonito tuna\", \"bouillon cube\", \"bouillon cubes\", \"bratwurst\", \"breast milk\", \"brick cheese\", \"broiler chicken\", \"broiler chickens\", \"broiler-fryer chicken\", \"broiler-fryer chickens\", \"burrata cheese\", \"butter\", \"butter beans\", \"buttermilk\", \"butterscotch pudding\", \"calf liver\", \"caerphilly cheese\", \"camembert cheese\", \"canadian bacon\", \"canned anchovy fillet\", \"canned anchovy fillets\", \"canned baby clams\", \"canned chicken\", \"canned clams\", \"canned crab\", \"canned flaked ham\", \"canned salmon\", \"canned shrimp\", \"canned tuna\", \"catfish fillet\", \"catfish fillets\", \"catfish meat\", \"cheddar cheese\", \"cheese slice\", \"cheese slices\", \"cheese spread\", \"chicken back\", \"chicken backs\", \"chicken bouillon cube\", \"chicken bouillon cubes\", \"chicken bouillon granule\", \"chicken bouillon granules\", \"chicken bouillon mix\", \"chicken bouillon powder\", \"chicken breast\", \"chicken breast fillet\", \"chicken breast fillets\", \"chicken breast half\", \"chicken breast halve\", \"chicken breast halves\", \"chicken breasts\", \"chicken broth\", \"chicken cutlet\", \"chicken cutlets\", \"chicken drumstick\", \"chicken drumsticks\", \"chicken feet\", \"chicken fillet\", \"chicken fillets\", \"chicken gizzards\", \"chicken halves\", \"chicken leg\", \"chicken leg meat\", \"chicken legs\", \"chicken legs-thighs\", \"chicken livers\", \"chicken neck\", \"chicken necks\", \"chicken parts\", \"chicken piece\", \"chicken pieces\", \"chicken portions\", \"chicken tenderloins\", \"chicken thigh\", \"chicken thigh fillet\", \"chicken thigh fillets\", \"chicken thigh pieces\", \"chicken thighs\", \"chicken wings\", \"chinese barbecue pork\", \"chinese barbecue sauce\", \"chinese barbecued duck\", \"chorizo\", \"chorizo sausage\", \"chunk light tuna\", \"chunk tuna\", \"clam broth\", \"clam chowder\", \"clams in shell\", \"cod\", \"cod fish fillet\", \"cod fish fillets\", \"cod steaks\", \"codfish roe\", \"colby cheese\", \"colby-monterey jack cheese\", \"comte cheese\", \"cooked ham\", \"country ham\", \"country pork strips\", \"country sausage\", \"country-style boneless pork ribs\", \"country-style pork ribs\", \"crab meat\", \"crawfish\", \"crawfish fat\", \"crawfish meat\", \"crawfish tail\", \"crawfish tail meat\", \"crawfish tails\", \"crayfish\", \"crayfish tail\", \"crayfish tails\", \"cream\", \"cream cheese\", \"cream cheese spread\", \"cream cheese with chives\", \"cream cheese with green onion\", \"creamed honey\", \"creme fraiche\", \"dolcelatte\", \"double gloucester cheese\", \"duck breast\", \"duck breast halves\", \"duck breasts\", \"duck carcass\", \"duck carcasses\", \"duck confit\", \"duck fat\", \"duck hindquarters\", \"duck legs\", \"duckling\", \"ducklings\", \"ducks\", \"edam cheese\", \"egg white\", \"egg whites\", \"egg yolk\", \"egg yolks\", \"eggs\", \"farmers cheese\", \"feta\", \"feta cheese\", \"fish bouillon cube\", \"fish bouillon cubes\", \"fish stock\", \"flank steak\", \"fontina\", \"fontina cheese\", \"fryer chicken\", \"fryer chickens\", \"frying chicken\", \"frying chickens\", \"gelatin\", \"goat cheese\", \"gorgonzola\", \"gruyere\", \"gruyere cheese\", \"haddock fillet\", \"haddock fillets\", \"halibut fillet\", \"halibut fillets\", \"halibut steaks\", \"ham\", \"ham bone\", \"ham bones\", \"ham bouillon cube\", \"ham fat\", \"ham hock\", \"ham hocks\", \"ham shank\", \"ham shanks\", \"ham slices\", \"ham steak\", \"ham steaks\", \"hard-boiled egg\", \"hard-boiled eggs\", \"herring fillet\", \"herring fillets\", \"herring in wine sauce\", \"herring roe\", \"herring tidbits\", \"hot dogs\", \"ice cream\", \"italian sausage\", \"jarlsberg cheese\", \"kielbasa\", \"lamb\", \"lamb baby food\", \"lamb backstrap\", \"lamb backstraps\", \"lamb blade chops\", \"lamb bone\", \"lamb bones\", \"lamb breast\", \"lamb chop\", \"lamb chops\", \"lamb cutlets\", \"lamb fillet\", \"lamb fillets\", \"lamb gravy\", \"lamb knuckles\", \"lamb leg chops\", \"lamb leg steak\", \"lamb leg steaks\", \"lamb liver\", \"lamb loin chop\", \"lamb loin chops\", \"lamb mince\", \"lamb neck\", \"lamb necks\", \"lamb rack\", \"lamb racks\", \"lamb rib chops\", \"lamb ribs\", \"lamb shank\", \"lamb shanks\", \"lamb shoulder\", \"lamb sirloin\", \"lamb steak\", \"lamb steaks\", \"lamb stew meat\", \"lamb stock\", \"lamb stock cube\", \"lamb tenderloins\", \"lean bacon\", \"lean baked ham\", \"lean beef\", \"lean beef chuck\", \"lean beef chuck roast\", \"lean beef round\", \"lean boneless lamb\", \"lean boneless leg of lamb\", \"lean ground beef\", \"lean ground lamb\", \"lean ground turkey\", \"lean ham\", \"lean hamburger\", \"lean lamb\", \"lean lamb fillets\", \"lean lamb leg steak\", \"lean lamb pieces\", \"lean lamb steaks\", \"lean lamb stew meat\", \"lean round steak\", \"lean rump steak\", \"lean salt pork\", \"limburger cheese\", \"liver\", \"lobster head\", \"lobster meat\", \"lobster tail\", \"lobster tails\", \"lobsters\", \"loin lamb\", \"london broil beef\", \"lump crabmeat\", \"mackerel fillet\", \"mackerel fillets\", \"manchego cheese\", \"mascarpone\", \"mayonnaise\", \"maytag blue cheese\", \"meatballs\", \"mimolette cheese\", \"monterey jack cheese\", \"mozzarella cheese\", \"muenster cheese\", \"mussels\", \"new england clam chowder\", \"non-fat milk\", \"ocean perch\", \"oysters\", \"pancetta\", \"paneer cheese\", \"parma ham\", \"parmesan cheese\", \"partridge breasts\", \"partridges\", \"pecorino cheese\", \"pecorino romano cheese\", \"pepperoni\", \"perch\", \"pheasant breast\", \"pheasants\", \"pork\", \"pork belly\", \"pork bouillon cube\", \"pork broth\", \"pork butt\", \"pork chop\", \"pork chops\", \"pork cutlet\", \"pork cutlets\", \"pork fat\", \"pork jowl\", \"pork loin\", \"pork loin chops\", \"pork ribs\", \"pork roast\", \"pork sausage\", \"pork sausage link\", \"pork sausage links\", \"pork shoulder\", \"pork tenderloin\", \"pork tenderloins\", \"prosciutto\", \"prosciutto di parma\", \"prosciutto ham\", \"provolone cheese\", \"quail\", \"quail eggs\", \"queso blanco\", \"queso fresco\", \"rabbit\", \"raclette cheese\", \"red snapper\", \"red snapper fillet\", \"red snapper fillets\", \"refried beans with bacon\", \"rendered duck fat\", \"ricotta cheese\", \"robiola cheese\", \"roast beef\", \"roasting chicken\", \"roasting chickens\", \"rock cod fish\", \"roquefort blue cheese\", \"roquefort cheese\", \"salmon\", \"salmon fillet\", \"salmon fillets\", \"salmon roe\", \"salmon steak\", \"salmon steaks\", \"sardine fillet\", \"sardine fillets\", \"sausage\", \"sausage links\", \"scallops\", \"scamorza cheese\", \"sea bass\", \"sea bass fillet\", \"sea bass fillets\", \"sea scallops\", \"shrimp\", \"shrimp bouillon cube\", \"shrimp bouillon cubes\", \"shrimp paste\", \"sirloin beef\", \"sirloin lamb chops\", \"sirloin tip roast\", \"sirloin tip steak\", \"sirloin tip steaks\", \"skirt steak\", \"smoked back bacon\", \"smoked bacon\", \"smoked ham\", \"smoked ham hock\", \"smoked ham hocks\", \"smoked kielbasa\", \"smoked salmon\", \"smoked sausage\", \"smoked trout\", \"smoked trout fillet\", \"smoked trout fillets\", \"sole fillet\", \"sole fillets\", \"sour cream\", \"steamer clam\", \"steamer clams\", \"steelhead trout\", \"stewing beef\", \"stewing chicken\", \"stewing lamb\", \"stilton cheese\", \"sweetbreads\", \"swiss cheese\", \"swordfish fillets\", \"swordfish steak\", \"swordfish steaks\", \"taleggio\", \"tasso\", \"tilapia\", \"tilapia fillet\", \"tilapia fillets\", \"tiger shrimp\", \"tripe\", \"trout fillet\", \"trout fillets\", \"tuna\", \"tuna fillet\", \"tuna fillets\", \"tuna fish\", \"tuna in brine\", \"tuna in olive oil\", \"tuna in vegetable oil\", \"tuna in water\", \"tuna packed in oil\", \"tuna salad\", \"tuna steak\", \"tuna steaks\", \"turkey\", \"turkey bacon\", \"turkey breast\", \"turkey breast tenderloin\", \"turkey breast tenderloin steaks\", \"turkey breast tenderloins\", \"turkey broth\", \"turkey carcass\", \"turkey fat\", \"turkey kielbasa\", \"turkey meat\", \"turkey parts\", \"turkey polish kielbasa\", \"turkey sausage\", \"turkey slice\", \"turkey slices\", \"turkey steaks\", \"turkey stuffing\", \"turkey tenderloins\", \"veal\", \"veal broth\", \"veal demi-glace\", \"veal sweetbreads\", \"wensleydale cheese\", \"whipped cream\", \"whiting fish fillets\", \"whole chicken\", \"whole chickens\", \"whole milk\", \"whole milk cottage cheese\", \"whole milk mozzarella\", \"whole milk ricotta cheese\", \"wild ducks\", \"yogurt\", \"live lobster\", \"live lobsters\",\n",
    "\n",
    "\"97% fat-free cooked ham\", \"ahi\", \"ahi tuna steaks\", \"Alpine Lace 97% reduced-fat cooked ham\", \"Alpine Lace reduced-fat swiss cheese\", \"anchovies\", \"andouille sausages\", \"Appenzeller cheese\", \"asiago-parmesan cheese\", \"baby swiss cheese\", \"Bacardi light rum\", \"bacon\", \"bacon-meatloaf\", \"beef flavored Rice-A-Roni\", \"beef machaca\", \"beef stew meat\", \"bel paese cheese\", \"best end of neck welsh lamb\", \"black caviar\", \"black cod steaks\", \"bleu cheese\", \"blue cheese\", \"bottom round beef roast\", \"bottom round steak\", \"bottom round steaks\", \"boursin cheese\", \"breakfast sausage\", \"brie\", \"brown and serve sausages\", \"burata cheese\", \"butter\", \"butter flavor shortening\", \"butter lettuce\", \"butter pecan ice cream\", \"Butterball boneless breast of turkey\", \"buttermilk\", \"buttermilk baking mix\", \"carne asada\", \"carnaroli rice\", \"cheddar and american blend cheese\", \"cheddar and colby cheese\", \"cheddar cheese cube\", \"cheddar cheese cubes\", \"cheddar cheese powder\", \"cheese\", \"cheshire cheese\", \"chicken gumbo soup\", \"chicken style seasoning\", \"chihuahua cheese\", \"Chinese barbecue pork\", \"Chinese barbecued duck\", \"clam juice\", \"clams\", \"colby\", \"condensed chicken gumbo soup\", \"condensed milk\", \"corned beef brisket\", \"cottage cheese\", \"cottage roll\", \"crab\", \"crabmeat\", \"cream\", \"cream cheese\", \"cream sherry\", \"creamy peanut butter\", \"deli corned beef\", \"deli ham\", \"deli roast beef\", \"double Gloucester cheese\", \"duck\", \"duck fat\", \"egg\", \"egg beaters\", \"egg white\", \"egg whites\", \"egg yolk\", \"egg yolks\", \"eggs\", \"Emmental cheese\", \"evaporated milk\", \"eye of round roast\", \"farmer cheese\", \"fat free cheese\", \"fat free cream cheese\", \"fat-free cottage cheese\", \"fat-free cream cheese\", \"filet of beef\", \"filet of fresh sea bass\", \"fillet of sole\", \"fillets of sole\", \"fish\", \"fish sauce\", \"flank of beef\", \"Fontina cheese\", \"fresh crab\", \"fresh crabmeat\", \"fresh crabs\", \"fresh lump crabmeat\", \"fresh mozzarella ball\", \"fresh mozzarella balls\", \"fresh mozzarella cheese\", \"fresh salmon\", \"fresh scallops\", \"fresh sea scallop\", \"fresh sea scallops\", \"fresh shrimp\", \"fresh small shrimp\", \"fresh swordfish steaks\", \"fresh tuna\", \"fresh tuna filets\", \"frozen crab\", \"frozen crabmeat\", \"frozen lobster tail\", \"frozen lobster tails\", \"frozen shrimp\", \"gelatin\", \"goat cheese\", \"gorgonzola\", \"gorgonzola dolce blue cheese\", \"gouda cheese\", \"Greek feta cheese\", \"ground beef\", \"ground beef round\", \"ground chicken\", \"ground lamb\", \"ground pork\", \"ground turkey\", \"gruyere cheese\", \"gulf shrimp\", \"ham\", \"hamburger\", \"hamburger meat\", \"hard-shelled clams\", \"havarti with caraway\", \"havarti with dill\", \"heavy cream\", \"heavy whipping cream\", \"honey\", \"honey graham crackers\", \"honey syrup\", \"honey-molasses\", \"honey-roasted cashews\", \"ice cream\", \"Italian pork sausage\", \"Italian sausage\", \"jarlsberg cheese\", \"joint of beef\", \"jumbo lump crab meat\", \"kasseri cheese\", \"king salmon\", \"kielbasa\", \"lamb\", \"lamb chop\", \"lamb chops\", \"lancashire cheese\", \"lard\", \"Limburger cheese\", \"littleneck clams\", \"low fat cottage cheese\", \"low-fat cheddar cheese\", \"low-fat cream cheese\", \"low-fat milk\", \"low-fat mozzarella cheese\", \"low-fat ricotta cheese\", \"low-fat swiss cheese\", \"low-sodium ham\", \"mahi mahi\", \"mahi mahi fillet\", \"mahi mahi fillets\", \"masago smelt roe\", \"milk\", \"milk solids\", \"monterey jack and cheddar cheese blend\", \"monterey jack cheese\", \"monterey jack pepper cheese\", \"mozzarella\", \"mozzarella cheddar blend cheese\", \"mozzarella cheese cubes\", \"mozzarella cheese with sun-dried tomatoes and basil\", \"mozzarella string cheese\", \"mozzarella-cheddar blend cheese\", \"mozzarella-parmesan cheese blend\", \"mozzarella-provolone cheese blend\", \"non-fat cottage cheese\", \"parmesan\", \"parmesan cheese\", \"part-skim cottage cheese\", \"part-skim mozzarella cheese\", \"part-skim ricotta cheese\", \"pecorino cheese\", \"pork\", \"pork belly\", \"pork chop\", \"pork chops\", \"pork loin\", \"pork shoulder\", \"pork tenderloin\", \"poultry\", \"prosciutto\", \"provolone cheese\", \"quail eggs\", \"queso anejo\", \"rack of lamb\", \"racks of lamb\", \"red salmon\", \"reduced fat romano cheese\", \"ricotta\", \"ricotta cheese\", \"ricotta salata\", \"romano cheese\", \"Roquefort cheese\", \"salmon\", \"salmon fillet\", \"sardines\", \"sausage\", \"sausage meat\", \"sausages\", \"scallops\", \"serrano ham\", \"sharp cheddar cheese\", \"sheep's milk cheese\", \"shellfish\", \"shrimp\", \"skim milk\", \"smoked cheddar cheese\", \"smoked gouda cheese\", \"smoked gruyere cheese\", \"smoked salmon\", \"sole\", \"sour cream\", \"stilton cheese\", \"swiss cheese\", \"tuna\", \"turkey\", \"turkey breast\", \"turkey meat\", \"veal\", \"whipped cream\", \"whipped cream cheese\", \"whole milk\", \"yogurt\",\n",
    "\n",
    "\"1% fat buttermilk\", \"1% fat cottage cheese\", \"1% low-fat chocolate milk\", \"1% low-fat milk\", \"2% buttermilk\", \"2% cheddar cheese\", \"2% evaporated milk\", \"2% fat cottage cheese\", \"2% large-curd cottage cheese\", \"2% low-fat chocolate milk\", \"2% low-fat milk\", \"2% milk\", \"2% mozzarella cheese\", \"20% sour cream\", \"3-cheese gourmet cheddar blend cheese\", \"5% fat ricotta cheese\", \"97% fat-free cooked ham\", \"aged cheddar cheese\", \"aged white cheddar cheese\", \"ahi\", \"ahi tuna steaks\", \"Alpine Lace 97% reduced-fat cooked ham\", \"Alpine Lace reduced-fat swiss cheese\", \"amaretti di saronno cookies\", \"anchovies\", \"andouille sausages\", \"Appenzeller cheese\", \"asiago-parmesan cheese\", \"baby swiss cheese\", \"bacon\", \"bacon-meatloaf\", \"beef flavored Rice-A-Roni\", \"beef machaca\", \"beef stew meat\", \"bel paese cheese\", \"best end of neck welsh lamb\", \"black caviar\", \"black cod steaks\", \"bleu cheese\", \"blue cheese\", \"bone dust\", \"bottom round beef roast\", \"bottom round steak\", \"bottom round steaks\", \"boursin cheese\", \"breakfast sausage\", \"brie\", \"brown and serve sausages\", \"burata cheese\", \"butter\", \"butter flavor shortening\", \"butter lettuce\", \"butter pecan ice cream\", \"Butterball boneless breast of turkey\", \"buttermilk\", \"buttermilk baking mix\", \"carne asada\", \"cheddar and american blend cheese\", \"cheddar and colby cheese\", \"cheddar cheese cube\", \"cheddar cheese cubes\", \"cheddar cheese powder\", \"cheese\", \"cheshire cheese\", \"chicken gumbo soup\", \"chicken stock\", \"chicken style seasoning\", \"chihuahua cheese\", \"Chinese barbecue pork\", \"Chinese barbecued duck\", \"clam juice\", \"clams\", \"colby\", \"condensed chicken gumbo soup\", \"condensed milk\", \"corned beef brisket\", \"cottage cheese\", \"cottage roll\", \"crab\", \"crabmeat\", \"cream\", \"cream cheese\", \"cream sherry\", \"cream-style cottage cheese\", \"creamy peanut butter\", \"cultured buttermilk\", \"deli corned beef\", \"deli ham\", \"deli roast beef\", \"double Gloucester cheese\", \"duck\", \"duck fat\", \"egg\", \"egg beaters\",  \"egg white\", \"egg whites\", \"egg yolk\", \"egg yolks\", \"eggs\", \"Emmental cheese\", \"evaporated milk\", \"eye of round roast\", \"farmer cheese\", \"fat free cheese\", \"fat free cream cheese\", \"fat-free buttermilk\", \"fat-free cheddar cheese\", \"fat-free cottage cheese\", \"fat-free cream cheese\", \"fat-free evaporated milk\", \"fat-free ham\", \"fat-free mayonnaise\", \"fat-free milk\", \"fat-free monterey jack cheese\", \"fat-free parmesan cheese\", \"fat-free ricotta cheese\", \"fat-free sour cream\", \"fat-free swiss cheese\", \"filet of beef\", \"filet of fresh sea bass\", \"fillet of sole\", \"fillets of sole\", \"fish\", \"fish sauce\", \"flank of beef\", \"Fontina cheese\", \"fresh crab\", \"fresh crabmeat\", \"fresh crabs\", \"fresh lump crabmeat\", \"fresh mozzarella ball\", \"fresh mozzarella balls\", \"fresh mozzarella cheese\", \"fresh salmon\", \"fresh scallops\", \"fresh sea scallop\", \"fresh sea scallops\", \"fresh shrimp\", \"fresh small shrimp\", \"fresh swordfish steaks\", \"fresh tuna\", \"fresh tuna filets\", \"frozen crab\", \"frozen crabmeat\", \"frozen lobster tail\", \"frozen lobster tails\", \"frozen shrimp\", \"full-cream milk\", \"full-fat milk\", \"gelatin\", \"goat cheese\", \"gorgonzola\", \"gorgonzola dolce blue cheese\", \"gouda cheese\", \"Greek feta cheese\", \"ground beef\", \"ground beef round\", \"ground chicken\", \"ground lamb\", \"ground pork\", \"ground turkey\", \"gruyere cheese\", \"gulf shrimp\", \"half & half light cream\", \"half and half milk\", \"half cream\", \"half-and-half\", \"half-and-half cream\", \"halloumi cheese\", \"ham\", \"hamburger\", \"hamburger meat\", \"hard-shelled clams\", \"havarti with caraway\", \"havarti with dill\", \"heavy cream\", \"heavy sweet cream\", \"heavy whipping cream\", \"herbed cheddar cheese\", \"honey\", \"honey graham crackers\", \"honey syrup\", \"honey-molasses\", \"honey-roasted cashews\", \"homogenized milk\", \"ice cream\", \"Italian pork sausage\", \"Italian sausage\", \"jarlsberg cheese\", \"joint of beef\", \"jumbo lump crab meat\", \"kasseri cheese\", \"king salmon\", \"kielbasa\", \"lamb\", \"lamb chop\", \"lamb chops\", \"lancashire cheese\", \"lard\", \"large curd cottage cheese\", \"large-curd cottage cheese\", \"light butter\", \"light cheddar cheese\", \"light cheese\", \"light cottage cheese\", \"light cream cheese\", \"light jarlsberg cheese\", \"light mayonnaise\", \"light monterey jack cheese\", \"light mozzarella cheese\", \"light sour cream\", \"Limburger cheese\", \"littleneck clams\", \"low fat cottage cheese\", \"low-fat buttermilk\", \"low-fat cheddar cheese\", \"low-fat cream cheese\", \"low-fat kielbasa\", \"low-fat milk\", \"low-fat mozzarella cheese\", \"low-fat ricotta cheese\", \"low-fat sour cream\", \"low-fat swiss cheese\", \"low-moisture part-skim mozzarella cheese\", \"low-salt ham\", \"low-sodium ham\", \"mahi mahi\", \"mahi mahi fillet\", \"mahi mahi fillets\", \"masago smelt roe\", \"milk\", \"milk solids\", \"monterey jack and cheddar cheese blend\", \"monterey jack cheese\", \"monterey jack pepper cheese\", \"monterey jack-style soy cheese\", \"mozzarella\", \"mozzarella cheddar blend cheese\", \"mozzarella cheese cubes\", \"mozzarella cheese with sun-dried tomatoes and basil\", \"mozzarella string cheese\", \"mozzarella-cheddar blend cheese\", \"mozzarella-parmesan cheese blend\", \"mozzarella-provolone cheese blend\", \"non-fat beef broth\", \"non-fat cheddar cheese\", \"non-fat chicken broth\", \"non-fat cottage cheese\", \"non-fat milk\", \"non-fat parmesan cheese\", \"non-fat sour cream\", \"nonfat beef broth\", \"nonfat cheddar cheese\", \"nonfat chicken broth\", \"nonfat cottage cheese\", \"nonfat milk\", \"nonfat parmesan cheese\", \"nonfat sour cream\", \"parmesan\", \"parmesan cheese\", \"part-skim cottage cheese\", \"part-skim farmer cheese\", \"part-skim mozzarella cheese\", \"part-skim ricotta cheese\", \"pecorino cheese\", \"pecorino pepato cheese\", \"pork\", \"pork belly\", \"pork chop\", \"pork chops\", \"pork loin\", \"pork shoulder\", \"pork tenderloin\", \"poultry\", \"processed cheese\", \"processed cheese food\", \"processed cheese spread\", \"processed cheese with jalapeno peppers\", \"processed swiss cheese\", \"prosciutto\", \"prosciutto di Parma\", \"provolone cheese\", \"quail eggs\", \"quark\", \"queso anejo\", \"rack of lamb\", \"racks of lamb\", \"red salmon\", \"reduced fat romano cheese\", \"reduced-fat cheddar cheese\", \"reduced-fat cream cheese\", \"reduced-fat extra sharp cheddar cheese\", \"reduced-fat jarlsberg cheese\", \"reduced-fat kielbasa\", \"reduced-fat milk\", \"reduced-fat monterey jack cheese\", \"reduced-fat mozzarella cheese\", \"reduced-fat ricotta cheese\", \"reduced-fat sharp cheddar cheese\", \"reduced-fat sour cream\", \"reduced-fat swiss cheese\", \"ricotta\", \"ricotta cheese\", \"ricotta salata\", \"romano cheese\", \"Roquefort cheese\", \"salmon\", \"salmon fillet\", \"sardines\", \"sausage\", \"sausage meat\", \"sausages\", \"scallops\", \"serrano ham\", \"sharp American cheese\", \"sharp cheddar cheese\", \"sharp white cheddar cheese\", \"sheep's milk cheese\", \"shellfish\", \"shrimp\", \"skim evaporated milk\", \"skim milk\", \"skim milk buttermilk\", \"skim milk powder\", \"skim milk ricotta cheese\", \"skim milk yogurt\", \"smoked cheddar cheese\", \"smoked cod\", \"smoked gouda cheese\", \"smoked gruyere cheese\", \"smoked link sausage\", \"smoked mozzarella cheese\", \"smoked pork jowl\", \"smoked salmon\", \"smoked streaky bacon\", \"sockeye salmon\", \"sole\", \"sour cream\", \"sour cream substitute\", \"spring chicken\", \"Stilton cheese\", \"sweet creamy butter\", \"sweet Italian sausage\", \"sweet milk\", \"swiss cheese\", \"tuna\", \"turkey\", \"turkey breast\", \"turkey escalopes\", \"turkey meat\", \"turkey Polish kielbasa\", \"unsalted butter\", \"veal\", \"Vermont sharp cheddar cheese\", \"weisswurst sausage\", \"weisswurst sausages\", \"white cheddar cheese\", \"white meat chicken\", \"white turkey meat\", \"whipped butter\", \"whipped cream\", \"whipped cream cheese\", \"whole buttermilk\", \"whole milk\", \"yoghurt\", \"yogurt\", \"yogurt cheese\",\n",
    "\n",
    "\"Bacon-Meatloaf\", \"bacon\", \"bear shaped graham crackers\", \"beef Machaca\", \"beef\", \"blachan\", \"Bombay duck\", \"bouillon cube\", \"bouillon cubes\", \"bouillon granules\", \"butter lettuce\", \"butter\", \"buttermilk\", \"canned chicken broth\", \"canned clam juice\", \"canned crab meat\", \"cheese Whiz\", \"cheese\", \"chicken broth\", \"chicken gumbo soup\", \"chicken meat\", \"chicken sausage\", \"chicken stock\", \"chicken\", \"clam juice\", \"clams\", \"condensed milk\", \"cottage cheese\", \"crab meat\", \"cream cheese\", \"cream\", \"creme fraiche\", \"cuttlefish\", \"dairy\", \"demi-glace\", \"dried beef\", \"dried bonito flakes\", \"dried fish\", \"dried shrimp\", \"egg beaters\",  \"egg white\", \"egg whites\", \"egg yolk\", \"egg yolks\", \"egg\", \"eggs\", \"fat pork\", \"fatty bacon\", \"fatty pork\", \"fish sauce\", \"fish stock\", \"fish\", \"gelatin\", \"ground beef\", \"ground chicken\", \"ground lamb\", \"ground meat\", \"ground pork\", \"ground turkey\", \"ground veal\", \"ham\", \"heavy cream\", \"honey\", \"hot dogs\", \"ice cream\", \"kielbasa\", \"lamb chop\", \"lamb chops\", \"lamb\", \"lard\", \"milk powder\", \"milk\", \"mozzarella cheese\", \"mozzarella\", \"oyster sauce\", \"parmesan cheese\", \"parmesan\", \"pork bacon\", \"pork belly\", \"pork chop\", \"pork chops\", \"pork fat\", \"pork hock\", \"pork loin\", \"pork\", \"poultry seasoning\", \"prosciutto\", \"quark\", \"raw chicken\", \"ricotta cheese\", \"ricotta\", \"roast beef\", \"roast turkey\", \"salmon\", \"salted butter\", \"sausage\", \"shrimp paste\", \"shrimp\", \"smoked bacon\", \"sour cream\", \"squid\", \"steak\", \"sweet cream\", \"tuna\", \"turkey breast\", \"turkey\", \"unsalted butter\", \"veal\", \"whipped cream\", \"whipping cream\", \"whole milk\", \"yogurt\",\n",
    "\n",
    "\"Bacon-Meatloaf\", \"bacon\", \"bear shaped graham crackers\", \"beef Machaca\", \"beef\", \"blachan\", \"blue cheese\", \"Bombay duck\", \"bone dust\", \"bouillon cube\", \"bouillon cubes\", \"bouillon granules\", \"butter lettuce\", \"butter\", \"buttermilk\", \"canned chicken broth\", \"canned clam juice\", \"canned crab meat\", \"carnation evaporated milk\", \"cheese Whiz\", \"cheese\", \"chicken bouillon\", \"chicken broth\", \"chicken gumbo soup\", \"chicken meat\", \"chicken sausage\", \"chicken stock\", \"chicken\", \"clam juice\", \"clams\", \"condensed milk\", \"cottage cheese\", \"crab meat\", \"cream cheese\", \"cream\", \"creme fraiche\", \"custard\", \"cuttlefish\", \"dairy\", \"demi-glace\", \"dried beef\", \"dried bonito flakes\", \"dried fish\", \"dried shrimp\", \"egg beaters\",  \"egg white\", \"egg whites\", \"egg yolk\", \"egg yolks\", \"egg\", \"eggs\", \"fat free sour cream\", \"fat pork\", \"fatty bacon\", \"fatty pork\", \"fish sauce\", \"fish stock\", \"fish\", \"gelatin\", \"graham crackers\", \"ground beef\", \"ground chicken\", \"ground lamb\", \"ground meat\", \"ground pork\", \"ground turkey\", \"ground veal\", \"ham\", \"heavy cream\", \"honey\", \"hot dogs\", \"ice cream\", \"italian sausage\", \"kielbasa\", \"lamb chop\", \"lamb chops\", \"lamb\", \"lard\", \"low fat sour cream\", \"marshmallow cream\", \"marshmallow creme\", \"marshmallow\", \"marshmallows\", \"milk powder\", \"milk\", \"mozzarella cheese\", \"mozzarella\", \"non-fat sour cream\", \"oyster sauce\", \"parmesan cheese\", \"parmesan\", \"pepperoni\", \"pork bacon\", \"pork belly\", \"pork chop\", \"pork chops\", \"pork fat\", \"pork hock\", \"pork loin\", \"pork sausage\", \"pork\", \"poultry seasoning\", \"prosciutto\", \"quark\", \"raw chicken\", \"ricotta cheese\", \"ricotta\", \"roast beef\", \"roast turkey\", \"salami\", \"salmon\", \"salted butter\", \"sausage\", \"shrimp paste\", \"shrimp\", \"smoked bacon\", \"sour cream\", \"squid\", \"steak\", \"sweet cream\", \"tuna\", \"turkey breast\", \"turkey\", \"unsalted butter\", \"veal\", \"whipped cream\", \"whipping cream\", \"whole milk\", \"yogurt\",\n",
    "\n",
    "\"Absolute the Best New York Cheesecake\", \"Absolutely the Best New York Cheesecake (Gluten-Free)\", \"American cheese\", \"bacon\", \"beef\", \"beef bouillon\", \"beef broth\", \"beef chunk\", \"beef chunks\", \"beef steak\", \"beef stock\", \"beef wieners\", \"bite-size fresh mozzarella cheese balls\", \"blue cheese\", \"boston lettuce\", \"butter\", \"butter lettuce\", \"Carnation Evaporated Milk\", \"Carnation instant milk\", \"cheddar cheese\", \"cheese\", \"cheesecake\", \"chicken\", \"chicken bouillon\", \"chicken broth\", \"chicken gumbo soup\", \"chicken meat\", \"chicken piece\", \"chicken pieces\", \"chicken stock\", \"clam\", \"clams\", \"crab meat\", \"cream cheese\", \"custard\", \"dairy\", \"egg\",  \"egg white\", \"egg whites\", \"egg yolk\", \"egg yolks\", \"eggs\", \"fish\", \"fish sauce\", \"gelatin\", \"ground beef\", \"ground meat\", \"ham\", \"heavy cream\", \"honey\", \"ice cream\", \"kielbasa\", \"lamb\", \"lamb chop\", \"lamb chops\", \"lard\", \"mascarpone\", \"mayonnaise\", \"meat\", \"meatballs\", \"milk\", \"milk powder\", \"milk solid\", \"mozzarella\", \"mozzarella cheese\", \"parmesan\", \"parmesan cheese\", \"Pet milk\", \"Philadelphia Cream Cheese\", \"pork\", \"pork chops\", \"pork hocks\", \"pork loin\", \"pork roast\", \"pork sausage\", \"provolone cheese\", \"quark\", \"ricotta\", \"ricotta cheese\", \"salmon\", \"sausage\", \"scallops\", \"shrimp\", \"swiss cheese\", \"tuna\", \"tuna fillet\", \"tuna fillets\", \"tuna steaks\", \"turkey\", \"turkey breast\", \"turkey meat\", \"whey\", \"whipped cream\", \"whole milk\", \"yogurt\",\n",
    "\n",
    "\"Almesan - Vegan Parmesan\", \"american cheese\", \"anchovy\", \"bacon\", \"bacon bits\", \"bacon fat\", \"beef\", \"beef bouillon\", \"beef broth\", \"beef chunk\", \"beef chunks\", \"beef pieces\", \"beef stock\", \"blue cheese\", \"butter\", \"buttermilk\", \"canadian bacon\", \"cheddar cheese\", \"cheese\", \"cheese sauce\", \"cheese whiz\", \"chicken\", \"chicken bouillon\", \"chicken broth\", \"chicken gumbo soup\", \"chicken meat\", \"chicken piece\", \"chicken pieces\", \"chicken stock\", \"clam\", \"clams\", \"condensed milk\", \"Cool Whip\", \"cottage cheese\", \"crab meat\", \"cream\", \"cream cheese\", \"creme fraiche\", \"dried beef\", \"duck\", \"egg\", \"egg beaters\",  \"egg white\", \"egg whites\", \"egg yolk\", \"egg yolks\", \"eggs\", \"fish\", \"fish sauce\", \"gelatin\", \"goat cheese\", \"ground beef\", \"ground pork\", \"ham\", \"heavy cream\", \"honey\", \"ice cream\", \"italian sausage\", \"jumbo shrimp\", \"lamb\", \"lamb chop\", \"lamb chops\", \"lard\", \"liquid eggs\", \"milk\", \"miso\", \"monterey jack cheese\", \"mozzarella\", \"mozzarella cheese\", \"parmesan\", \"parmesan cheese\", \"parmigiano\", \"parmigiano-reggiano\", \"pheasant\", \"pork\", \"pork sausage\", \"provolone cheese\", \"quark\", \"rabbit\", \"ricotta\", \"roast beef\", \"romano cheese\", \"salmon\", \"sausage\", \"scungilli\", \"shrimp\", \"sour cream\", \"squid\", \"steak\", \"stilton cheese\", \"swiss cheese\", \"tuna\", \"turkey\", \"turkey meat\", \"venison\", \"whipped cream\", \"whipping cream\", \"whole milk\", \"worcestershire sauce\", \"yogurt\"]\n",
    "\n",
    "exclude_ingredients = list(set(exclude_ingredients))"
   ]
  },
  {
   "cell_type": "markdown",
   "metadata": {},
   "source": [
    "We also compile a list of all non-plant-based keywords for filtering."
   ]
  },
  {
   "cell_type": "code",
   "execution_count": 12,
   "metadata": {
    "execution": {
     "iopub.execute_input": "2025-02-02T13:16:04.178331Z",
     "iopub.status.busy": "2025-02-02T13:16:04.178133Z",
     "iopub.status.idle": "2025-02-02T13:16:04.192508Z",
     "shell.execute_reply": "2025-02-02T13:16:04.191752Z",
     "shell.execute_reply.started": "2025-02-02T13:16:04.178313Z"
    },
    "trusted": true
   },
   "outputs": [],
   "source": [
    "# Non-plant-based keywords\n",
    "\n",
    "exclude_keywords = [\n",
    "    'Chicken Thigh & Leg', 'Chicken', 'Poultry', 'Meat', 'Pork', 'Beef', 'Duck', \n",
    "    'Lamb/Sheep', 'Tuna', 'Beef Organ Meats', 'Meatloaf', 'Beef Liver', 'Chicken Breast', \n",
    "    'Crab', 'Lobster', 'Veal', 'Rabbit', 'Crawfish', 'Duck Breasts', 'Chicken Livers', \n",
    "    'Ham', 'Mussels', 'Squid', 'Oysters', 'Wild Game', 'Steak', 'Veal', 'Turkey Breasts', 'Elk', 'Tilapia', 'Whole Turkey', 'Quail', 'Bear', 'Tilapia', \n",
    "    'Goose', 'Pheasant', 'Gumbo', 'Duck', 'Bacon', 'Fish', 'Lamb', 'Beef Kidney', \n",
    "    'Pork Loin', 'Pork Crock Pot', 'Beef Barley Soup', 'Beef Sandwiches', 'Beef Crock Pot', \n",
    "    'Beef Sauces', 'Fish Halibut', 'Fish'\n",
    "]"
   ]
  },
  {
   "cell_type": "markdown",
   "metadata": {},
   "source": [
    "We drop all recipes with ingredients, keywords, or names from exclude_keywords and exclude_ingredients lists, yet preserve those with the 'Vegan' label."
   ]
  },
  {
   "cell_type": "code",
   "execution_count": 13,
   "metadata": {
    "execution": {
     "iopub.execute_input": "2025-02-02T13:16:04.195928Z",
     "iopub.status.busy": "2025-02-02T13:16:04.195705Z",
     "iopub.status.idle": "2025-02-02T13:33:24.537366Z",
     "shell.execute_reply": "2025-02-02T13:33:24.536659Z",
     "shell.execute_reply.started": "2025-02-02T13:16:04.195899Z"
    },
    "trusted": true
   },
   "outputs": [
    {
     "data": {
      "text/plain": [
       "(18443, 24)"
      ]
     },
     "execution_count": 13,
     "metadata": {},
     "output_type": "execute_result"
    }
   ],
   "source": [
    "# Applying filtering\n",
    "\n",
    "vegan_recipes = recipes_selected[\n",
    "    recipes_selected['Keywords'].apply(\n",
    "        lambda x: isinstance(x, list) and 'Vegan' in x and not any(keyword in x for keyword in exclude_keywords) if isinstance(x, list) else True\n",
    "    ) &\n",
    "    recipes_selected['Name'].apply(\n",
    "        lambda name: not any(keyword.lower() in name.lower() for keyword in exclude_keywords)\n",
    "    ) &\n",
    "    recipes_selected['RecipeIngredientParts'].apply(\n",
    "        lambda ingredients: not any(\n",
    "            all(ingredient.lower() in item.lower() for ingredient in exclude_ingredient.split()) \n",
    "            for exclude_ingredient in exclude_ingredients for item in ingredients\n",
    "        ) if isinstance(ingredients, list) else True\n",
    "    )\n",
    "]\n",
    "\n",
    "\n",
    "vegan_recipes.shape"
   ]
  },
  {
   "cell_type": "code",
   "execution_count": 14,
   "metadata": {
    "execution": {
     "iopub.execute_input": "2025-02-02T13:33:24.538951Z",
     "iopub.status.busy": "2025-02-02T13:33:24.538717Z",
     "iopub.status.idle": "2025-02-02T13:33:24.563826Z",
     "shell.execute_reply": "2025-02-02T13:33:24.563067Z",
     "shell.execute_reply.started": "2025-02-02T13:33:24.538930Z"
    },
    "trusted": true
   },
   "outputs": [
    {
     "data": {
      "text/html": [
       "<div>\n",
       "<style scoped>\n",
       "    .dataframe tbody tr th:only-of-type {\n",
       "        vertical-align: middle;\n",
       "    }\n",
       "\n",
       "    .dataframe tbody tr th {\n",
       "        vertical-align: top;\n",
       "    }\n",
       "\n",
       "    .dataframe thead th {\n",
       "        text-align: right;\n",
       "    }\n",
       "</style>\n",
       "<table border=\"1\" class=\"dataframe\">\n",
       "  <thead>\n",
       "    <tr style=\"text-align: right;\">\n",
       "      <th></th>\n",
       "      <th>RecipeId</th>\n",
       "      <th>Name</th>\n",
       "      <th>AuthorId</th>\n",
       "      <th>CookTime</th>\n",
       "      <th>PrepTime</th>\n",
       "      <th>TotalTime</th>\n",
       "      <th>Description</th>\n",
       "      <th>RecipeCategory</th>\n",
       "      <th>Keywords</th>\n",
       "      <th>RecipeIngredientQuantities</th>\n",
       "      <th>RecipeIngredientParts</th>\n",
       "      <th>AggregatedRating</th>\n",
       "      <th>ReviewCount</th>\n",
       "      <th>Calories</th>\n",
       "      <th>FatContent</th>\n",
       "      <th>SaturatedFatContent</th>\n",
       "      <th>CholesterolContent</th>\n",
       "      <th>SodiumContent</th>\n",
       "      <th>CarbohydrateContent</th>\n",
       "      <th>FiberContent</th>\n",
       "      <th>SugarContent</th>\n",
       "      <th>ProteinContent</th>\n",
       "      <th>RecipeServings</th>\n",
       "      <th>RecipeInstructions</th>\n",
       "    </tr>\n",
       "  </thead>\n",
       "  <tbody>\n",
       "    <tr>\n",
       "      <th>4</th>\n",
       "      <td>42</td>\n",
       "      <td>Cabbage Soup</td>\n",
       "      <td>1538</td>\n",
       "      <td>30M</td>\n",
       "      <td>20M</td>\n",
       "      <td>50M</td>\n",
       "      <td>Make and share this Cabbage Soup recipe from F...</td>\n",
       "      <td>Vegetable</td>\n",
       "      <td>[Low Protein, Vegan, Low Cholesterol, Healthy,...</td>\n",
       "      <td>[46, 4, 1, 2, 1]</td>\n",
       "      <td>[plain tomato juice, cabbage, onion, carrots, ...</td>\n",
       "      <td>4.5</td>\n",
       "      <td>11.0</td>\n",
       "      <td>103.6</td>\n",
       "      <td>0.4</td>\n",
       "      <td>0.1</td>\n",
       "      <td>0.0</td>\n",
       "      <td>959.3</td>\n",
       "      <td>25.1</td>\n",
       "      <td>4.8</td>\n",
       "      <td>17.7</td>\n",
       "      <td>4.3</td>\n",
       "      <td>4.0</td>\n",
       "      <td>[Mix everything together and bring to a boil.,...</td>\n",
       "    </tr>\n",
       "    <tr>\n",
       "      <th>50</th>\n",
       "      <td>90</td>\n",
       "      <td>Almond Paste</td>\n",
       "      <td>1537</td>\n",
       "      <td>168H</td>\n",
       "      <td>15M</td>\n",
       "      <td>168H15M</td>\n",
       "      <td>Make and share this Almond Paste recipe from F...</td>\n",
       "      <td>Dessert</td>\n",
       "      <td>[Fruit, Nuts, Lactose Free, Vegan, Low Cholest...</td>\n",
       "      <td>[1, 3, 1, 2]</td>\n",
       "      <td>[fresh lemon juice, water, sugar]</td>\n",
       "      <td>4.0</td>\n",
       "      <td>2.0</td>\n",
       "      <td>2123.5</td>\n",
       "      <td>119.8</td>\n",
       "      <td>9.0</td>\n",
       "      <td>0.0</td>\n",
       "      <td>49.1</td>\n",
       "      <td>244.0</td>\n",
       "      <td>22.6</td>\n",
       "      <td>210.7</td>\n",
       "      <td>48.9</td>\n",
       "      <td>NaN</td>\n",
       "      <td>[Force blanched almonds through fine blade of ...</td>\n",
       "    </tr>\n",
       "    <tr>\n",
       "      <th>88</th>\n",
       "      <td>133</td>\n",
       "      <td>Blueberry Pancake Syrup</td>\n",
       "      <td>1571</td>\n",
       "      <td>36M</td>\n",
       "      <td>50M</td>\n",
       "      <td>1H26M</td>\n",
       "      <td>I've made this blueberry syrup several times, ...</td>\n",
       "      <td>Sauces</td>\n",
       "      <td>[Breakfast, Dessert, Berries, Fruit, Vegan, Fr...</td>\n",
       "      <td>[4, 3, 2, 3, NA]</td>\n",
       "      <td>[blueberries, water, lemons, rind of, sugar, l...</td>\n",
       "      <td>5.0</td>\n",
       "      <td>4.0</td>\n",
       "      <td>1329.7</td>\n",
       "      <td>1.0</td>\n",
       "      <td>0.1</td>\n",
       "      <td>0.0</td>\n",
       "      <td>16.6</td>\n",
       "      <td>342.8</td>\n",
       "      <td>7.1</td>\n",
       "      <td>328.9</td>\n",
       "      <td>2.2</td>\n",
       "      <td>NaN</td>\n",
       "      <td>[Pour the blueberries into a saucepan and crus...</td>\n",
       "    </tr>\n",
       "    <tr>\n",
       "      <th>135</th>\n",
       "      <td>182</td>\n",
       "      <td>Low-Fat Apple &amp;amp; Apricot</td>\n",
       "      <td>1533</td>\n",
       "      <td>NaN</td>\n",
       "      <td>20M</td>\n",
       "      <td>20M</td>\n",
       "      <td>Make and share this Low-Fat Apple &amp;amp; Aprico...</td>\n",
       "      <td>Dessert</td>\n",
       "      <td>[Apple, Fruit, Vegan, Free Of..., &lt; 30 Mins, E...</td>\n",
       "      <td>[20, 12, 1/2, 2, 1, 1, 1, 1, NA]</td>\n",
       "      <td>[raisins, dried currant, lemon, rind of, cinna...</td>\n",
       "      <td>NaN</td>\n",
       "      <td>NaN</td>\n",
       "      <td>164.5</td>\n",
       "      <td>0.3</td>\n",
       "      <td>0.0</td>\n",
       "      <td>0.0</td>\n",
       "      <td>7.9</td>\n",
       "      <td>42.4</td>\n",
       "      <td>2.5</td>\n",
       "      <td>35.5</td>\n",
       "      <td>1.4</td>\n",
       "      <td>4.0</td>\n",
       "      <td>[Mix all ingredients thoroughly in a 3-quart p...</td>\n",
       "    </tr>\n",
       "    <tr>\n",
       "      <th>194</th>\n",
       "      <td>248</td>\n",
       "      <td>Mustard Dill Sauce I</td>\n",
       "      <td>1554</td>\n",
       "      <td>NaN</td>\n",
       "      <td>30M</td>\n",
       "      <td>30M</td>\n",
       "      <td>Make and share this Mustard Dill Sauce I recip...</td>\n",
       "      <td>Low Protein</td>\n",
       "      <td>\"&lt; 30 Mins\"</td>\n",
       "      <td>[1/2, 6, 1/4, 2, 1/2, 6]</td>\n",
       "      <td>[spicy brown mustard, sugar, distilled white v...</td>\n",
       "      <td>NaN</td>\n",
       "      <td>NaN</td>\n",
       "      <td>921.1</td>\n",
       "      <td>76.5</td>\n",
       "      <td>9.6</td>\n",
       "      <td>0.0</td>\n",
       "      <td>935.7</td>\n",
       "      <td>58.6</td>\n",
       "      <td>3.4</td>\n",
       "      <td>53.0</td>\n",
       "      <td>4.5</td>\n",
       "      <td>NaN</td>\n",
       "      <td>[Whisk first 4 ingredients in bowl., Gradually...</td>\n",
       "    </tr>\n",
       "  </tbody>\n",
       "</table>\n",
       "</div>"
      ],
      "text/plain": [
       "     RecipeId                         Name  AuthorId CookTime PrepTime  \\\n",
       "4          42                 Cabbage Soup      1538      30M      20M   \n",
       "50         90                 Almond Paste      1537     168H      15M   \n",
       "88        133      Blueberry Pancake Syrup      1571      36M      50M   \n",
       "135       182  Low-Fat Apple &amp; Apricot      1533      NaN      20M   \n",
       "194       248         Mustard Dill Sauce I      1554      NaN      30M   \n",
       "\n",
       "    TotalTime                                        Description  \\\n",
       "4         50M  Make and share this Cabbage Soup recipe from F...   \n",
       "50    168H15M  Make and share this Almond Paste recipe from F...   \n",
       "88      1H26M  I've made this blueberry syrup several times, ...   \n",
       "135       20M  Make and share this Low-Fat Apple &amp; Aprico...   \n",
       "194       30M  Make and share this Mustard Dill Sauce I recip...   \n",
       "\n",
       "    RecipeCategory                                           Keywords  \\\n",
       "4        Vegetable  [Low Protein, Vegan, Low Cholesterol, Healthy,...   \n",
       "50         Dessert  [Fruit, Nuts, Lactose Free, Vegan, Low Cholest...   \n",
       "88          Sauces  [Breakfast, Dessert, Berries, Fruit, Vegan, Fr...   \n",
       "135        Dessert  [Apple, Fruit, Vegan, Free Of..., < 30 Mins, E...   \n",
       "194    Low Protein                                        \"< 30 Mins\"   \n",
       "\n",
       "           RecipeIngredientQuantities  \\\n",
       "4                    [46, 4, 1, 2, 1]   \n",
       "50                       [1, 3, 1, 2]   \n",
       "88                   [4, 3, 2, 3, NA]   \n",
       "135  [20, 12, 1/2, 2, 1, 1, 1, 1, NA]   \n",
       "194          [1/2, 6, 1/4, 2, 1/2, 6]   \n",
       "\n",
       "                                 RecipeIngredientParts  AggregatedRating  \\\n",
       "4    [plain tomato juice, cabbage, onion, carrots, ...               4.5   \n",
       "50                   [fresh lemon juice, water, sugar]               4.0   \n",
       "88   [blueberries, water, lemons, rind of, sugar, l...               5.0   \n",
       "135  [raisins, dried currant, lemon, rind of, cinna...               NaN   \n",
       "194  [spicy brown mustard, sugar, distilled white v...               NaN   \n",
       "\n",
       "     ReviewCount  Calories  FatContent  SaturatedFatContent  \\\n",
       "4           11.0     103.6         0.4                  0.1   \n",
       "50           2.0    2123.5       119.8                  9.0   \n",
       "88           4.0    1329.7         1.0                  0.1   \n",
       "135          NaN     164.5         0.3                  0.0   \n",
       "194          NaN     921.1        76.5                  9.6   \n",
       "\n",
       "     CholesterolContent  SodiumContent  CarbohydrateContent  FiberContent  \\\n",
       "4                   0.0          959.3                 25.1           4.8   \n",
       "50                  0.0           49.1                244.0          22.6   \n",
       "88                  0.0           16.6                342.8           7.1   \n",
       "135                 0.0            7.9                 42.4           2.5   \n",
       "194                 0.0          935.7                 58.6           3.4   \n",
       "\n",
       "     SugarContent  ProteinContent  RecipeServings  \\\n",
       "4            17.7             4.3             4.0   \n",
       "50          210.7            48.9             NaN   \n",
       "88          328.9             2.2             NaN   \n",
       "135          35.5             1.4             4.0   \n",
       "194          53.0             4.5             NaN   \n",
       "\n",
       "                                    RecipeInstructions  \n",
       "4    [Mix everything together and bring to a boil.,...  \n",
       "50   [Force blanched almonds through fine blade of ...  \n",
       "88   [Pour the blueberries into a saucepan and crus...  \n",
       "135  [Mix all ingredients thoroughly in a 3-quart p...  \n",
       "194  [Whisk first 4 ingredients in bowl., Gradually...  "
      ]
     },
     "execution_count": 14,
     "metadata": {},
     "output_type": "execute_result"
    }
   ],
   "source": [
    "vegan_recipes.head()"
   ]
  },
  {
   "cell_type": "markdown",
   "metadata": {},
   "source": [
    "## Duplicates"
   ]
  },
  {
   "cell_type": "markdown",
   "metadata": {},
   "source": [
    "Before we proceed, we also need to examine and handle potential duplicates."
   ]
  },
  {
   "cell_type": "code",
   "execution_count": 15,
   "metadata": {
    "execution": {
     "iopub.execute_input": "2025-02-02T13:33:24.565046Z",
     "iopub.status.busy": "2025-02-02T13:33:24.564758Z",
     "iopub.status.idle": "2025-02-02T13:33:24.582174Z",
     "shell.execute_reply": "2025-02-02T13:33:24.581240Z",
     "shell.execute_reply.started": "2025-02-02T13:33:24.565016Z"
    },
    "trusted": true
   },
   "outputs": [
    {
     "data": {
      "text/plain": [
       "845"
      ]
     },
     "execution_count": 15,
     "metadata": {},
     "output_type": "execute_result"
    }
   ],
   "source": [
    "len(vegan_recipes[vegan_recipes['Name'].duplicated()])"
   ]
  },
  {
   "cell_type": "code",
   "execution_count": 16,
   "metadata": {
    "execution": {
     "iopub.execute_input": "2025-02-02T13:33:24.583306Z",
     "iopub.status.busy": "2025-02-02T13:33:24.583076Z",
     "iopub.status.idle": "2025-02-02T13:33:24.608568Z",
     "shell.execute_reply": "2025-02-02T13:33:24.607813Z",
     "shell.execute_reply.started": "2025-02-02T13:33:24.583286Z"
    },
    "trusted": true
   },
   "outputs": [
    {
     "data": {
      "text/plain": [
       "17598"
      ]
     },
     "execution_count": 16,
     "metadata": {},
     "output_type": "execute_result"
    }
   ],
   "source": [
    "vegan_recipes = vegan_recipes.drop_duplicates(subset='Name', keep='first')\n",
    "vegan_recipes['Name'].nunique()"
   ]
  },
  {
   "cell_type": "markdown",
   "metadata": {},
   "source": [
    "Now, we continue with handling missing values when we don't have any redunandant data left."
   ]
  },
  {
   "cell_type": "code",
   "execution_count": 17,
   "metadata": {
    "execution": {
     "iopub.execute_input": "2025-02-02T13:33:24.609553Z",
     "iopub.status.busy": "2025-02-02T13:33:24.609351Z",
     "iopub.status.idle": "2025-02-02T13:33:24.620563Z",
     "shell.execute_reply": "2025-02-02T13:33:24.619778Z",
     "shell.execute_reply.started": "2025-02-02T13:33:24.609535Z"
    },
    "trusted": true
   },
   "outputs": [
    {
     "data": {
      "text/plain": [
       "5032"
      ]
     },
     "execution_count": 17,
     "metadata": {},
     "output_type": "execute_result"
    }
   ],
   "source": [
    "# NaNs in the CookTime column\n",
    "\n",
    "len(vegan_recipes[vegan_recipes['CookTime'].isna() == True])"
   ]
  },
  {
   "cell_type": "markdown",
   "metadata": {},
   "source": [
    "Since CookTime includes both hours and minutes as of now, we convert it into minutes only."
   ]
  },
  {
   "cell_type": "code",
   "execution_count": 18,
   "metadata": {
    "execution": {
     "iopub.execute_input": "2025-02-02T13:33:24.621546Z",
     "iopub.status.busy": "2025-02-02T13:33:24.621356Z",
     "iopub.status.idle": "2025-02-02T13:33:24.723666Z",
     "shell.execute_reply": "2025-02-02T13:33:24.723046Z",
     "shell.execute_reply.started": "2025-02-02T13:33:24.621529Z"
    },
    "trusted": true
   },
   "outputs": [],
   "source": [
    "def parse_cooking_time(time_str):\n",
    "    if not isinstance(time_str, str):\n",
    "        return 0\n",
    "    \n",
    "    if time_str == '0S': \n",
    "        return 0\n",
    "    \n",
    "    hours = 0\n",
    "    minutes = 0\n",
    "\n",
    "    match = re.match(r'(?:(\\d+)H)?(?:(\\d+)M)?', time_str)\n",
    "    \n",
    "    if match:\n",
    "        if match.group(1):  \n",
    "            hours = int(match.group(1))\n",
    "        if match.group(2):  \n",
    "            minutes = int(match.group(2))\n",
    "    \n",
    "    return hours * 60 + minutes\n",
    "\n",
    "vegan_recipes['CookTime'] = vegan_recipes['CookTime'].apply(parse_cooking_time)\n",
    "vegan_recipes['PrepTime'] = vegan_recipes['PrepTime'].apply(parse_cooking_time)\n",
    "vegan_recipes['TotalTime'] = vegan_recipes['TotalTime'].apply(parse_cooking_time)"
   ]
  },
  {
   "cell_type": "markdown",
   "metadata": {},
   "source": [
    "Now, it is easier to replace missing or suspiciously low values in CookTime. Based on the imputed values, we also update PrepTime."
   ]
  },
  {
   "cell_type": "code",
   "execution_count": 19,
   "metadata": {
    "execution": {
     "iopub.execute_input": "2025-02-02T13:33:24.724666Z",
     "iopub.status.busy": "2025-02-02T13:33:24.724460Z",
     "iopub.status.idle": "2025-02-02T13:33:24.925450Z",
     "shell.execute_reply": "2025-02-02T13:33:24.924537Z",
     "shell.execute_reply.started": "2025-02-02T13:33:24.724649Z"
    },
    "trusted": true
   },
   "outputs": [
    {
     "data": {
      "text/html": [
       "<div>\n",
       "<style scoped>\n",
       "    .dataframe tbody tr th:only-of-type {\n",
       "        vertical-align: middle;\n",
       "    }\n",
       "\n",
       "    .dataframe tbody tr th {\n",
       "        vertical-align: top;\n",
       "    }\n",
       "\n",
       "    .dataframe thead th {\n",
       "        text-align: right;\n",
       "    }\n",
       "</style>\n",
       "<table border=\"1\" class=\"dataframe\">\n",
       "  <thead>\n",
       "    <tr style=\"text-align: right;\">\n",
       "      <th></th>\n",
       "      <th>RecipeId</th>\n",
       "      <th>Name</th>\n",
       "      <th>AuthorId</th>\n",
       "      <th>CookTime</th>\n",
       "      <th>PrepTime</th>\n",
       "      <th>TotalTime</th>\n",
       "      <th>Description</th>\n",
       "      <th>RecipeCategory</th>\n",
       "      <th>Keywords</th>\n",
       "      <th>RecipeIngredientQuantities</th>\n",
       "      <th>RecipeIngredientParts</th>\n",
       "      <th>AggregatedRating</th>\n",
       "      <th>ReviewCount</th>\n",
       "      <th>Calories</th>\n",
       "      <th>FatContent</th>\n",
       "      <th>SaturatedFatContent</th>\n",
       "      <th>CholesterolContent</th>\n",
       "      <th>SodiumContent</th>\n",
       "      <th>CarbohydrateContent</th>\n",
       "      <th>FiberContent</th>\n",
       "      <th>SugarContent</th>\n",
       "      <th>ProteinContent</th>\n",
       "      <th>RecipeServings</th>\n",
       "      <th>RecipeInstructions</th>\n",
       "    </tr>\n",
       "  </thead>\n",
       "  <tbody>\n",
       "    <tr>\n",
       "      <th>4</th>\n",
       "      <td>42</td>\n",
       "      <td>Cabbage Soup</td>\n",
       "      <td>1538</td>\n",
       "      <td>30</td>\n",
       "      <td>20</td>\n",
       "      <td>50</td>\n",
       "      <td>Make and share this Cabbage Soup recipe from F...</td>\n",
       "      <td>Vegetable</td>\n",
       "      <td>[Low Protein, Vegan, Low Cholesterol, Healthy,...</td>\n",
       "      <td>[46, 4, 1, 2, 1]</td>\n",
       "      <td>[plain tomato juice, cabbage, onion, carrots, ...</td>\n",
       "      <td>4.5</td>\n",
       "      <td>11.0</td>\n",
       "      <td>103.6</td>\n",
       "      <td>0.4</td>\n",
       "      <td>0.1</td>\n",
       "      <td>0.0</td>\n",
       "      <td>959.3</td>\n",
       "      <td>25.1</td>\n",
       "      <td>4.8</td>\n",
       "      <td>17.7</td>\n",
       "      <td>4.3</td>\n",
       "      <td>4.0</td>\n",
       "      <td>[Mix everything together and bring to a boil.,...</td>\n",
       "    </tr>\n",
       "    <tr>\n",
       "      <th>50</th>\n",
       "      <td>90</td>\n",
       "      <td>Almond Paste</td>\n",
       "      <td>1537</td>\n",
       "      <td>10080</td>\n",
       "      <td>15</td>\n",
       "      <td>10095</td>\n",
       "      <td>Make and share this Almond Paste recipe from F...</td>\n",
       "      <td>Dessert</td>\n",
       "      <td>[Fruit, Nuts, Lactose Free, Vegan, Low Cholest...</td>\n",
       "      <td>[1, 3, 1, 2]</td>\n",
       "      <td>[fresh lemon juice, water, sugar]</td>\n",
       "      <td>4.0</td>\n",
       "      <td>2.0</td>\n",
       "      <td>2123.5</td>\n",
       "      <td>119.8</td>\n",
       "      <td>9.0</td>\n",
       "      <td>0.0</td>\n",
       "      <td>49.1</td>\n",
       "      <td>244.0</td>\n",
       "      <td>22.6</td>\n",
       "      <td>210.7</td>\n",
       "      <td>48.9</td>\n",
       "      <td>NaN</td>\n",
       "      <td>[Force blanched almonds through fine blade of ...</td>\n",
       "    </tr>\n",
       "    <tr>\n",
       "      <th>88</th>\n",
       "      <td>133</td>\n",
       "      <td>Blueberry Pancake Syrup</td>\n",
       "      <td>1571</td>\n",
       "      <td>36</td>\n",
       "      <td>50</td>\n",
       "      <td>86</td>\n",
       "      <td>I've made this blueberry syrup several times, ...</td>\n",
       "      <td>Sauces</td>\n",
       "      <td>[Breakfast, Dessert, Berries, Fruit, Vegan, Fr...</td>\n",
       "      <td>[4, 3, 2, 3, NA]</td>\n",
       "      <td>[blueberries, water, lemons, rind of, sugar, l...</td>\n",
       "      <td>5.0</td>\n",
       "      <td>4.0</td>\n",
       "      <td>1329.7</td>\n",
       "      <td>1.0</td>\n",
       "      <td>0.1</td>\n",
       "      <td>0.0</td>\n",
       "      <td>16.6</td>\n",
       "      <td>342.8</td>\n",
       "      <td>7.1</td>\n",
       "      <td>328.9</td>\n",
       "      <td>2.2</td>\n",
       "      <td>NaN</td>\n",
       "      <td>[Pour the blueberries into a saucepan and crus...</td>\n",
       "    </tr>\n",
       "    <tr>\n",
       "      <th>135</th>\n",
       "      <td>182</td>\n",
       "      <td>Low-Fat Apple &amp;amp; Apricot</td>\n",
       "      <td>1533</td>\n",
       "      <td>20</td>\n",
       "      <td>20</td>\n",
       "      <td>20</td>\n",
       "      <td>Make and share this Low-Fat Apple &amp;amp; Aprico...</td>\n",
       "      <td>Dessert</td>\n",
       "      <td>[Apple, Fruit, Vegan, Free Of..., &lt; 30 Mins, E...</td>\n",
       "      <td>[20, 12, 1/2, 2, 1, 1, 1, 1, NA]</td>\n",
       "      <td>[raisins, dried currant, lemon, rind of, cinna...</td>\n",
       "      <td>NaN</td>\n",
       "      <td>NaN</td>\n",
       "      <td>164.5</td>\n",
       "      <td>0.3</td>\n",
       "      <td>0.0</td>\n",
       "      <td>0.0</td>\n",
       "      <td>7.9</td>\n",
       "      <td>42.4</td>\n",
       "      <td>2.5</td>\n",
       "      <td>35.5</td>\n",
       "      <td>1.4</td>\n",
       "      <td>4.0</td>\n",
       "      <td>[Mix all ingredients thoroughly in a 3-quart p...</td>\n",
       "    </tr>\n",
       "    <tr>\n",
       "      <th>194</th>\n",
       "      <td>248</td>\n",
       "      <td>Mustard Dill Sauce I</td>\n",
       "      <td>1554</td>\n",
       "      <td>30</td>\n",
       "      <td>30</td>\n",
       "      <td>30</td>\n",
       "      <td>Make and share this Mustard Dill Sauce I recip...</td>\n",
       "      <td>Low Protein</td>\n",
       "      <td>\"&lt; 30 Mins\"</td>\n",
       "      <td>[1/2, 6, 1/4, 2, 1/2, 6]</td>\n",
       "      <td>[spicy brown mustard, sugar, distilled white v...</td>\n",
       "      <td>NaN</td>\n",
       "      <td>NaN</td>\n",
       "      <td>921.1</td>\n",
       "      <td>76.5</td>\n",
       "      <td>9.6</td>\n",
       "      <td>0.0</td>\n",
       "      <td>935.7</td>\n",
       "      <td>58.6</td>\n",
       "      <td>3.4</td>\n",
       "      <td>53.0</td>\n",
       "      <td>4.5</td>\n",
       "      <td>NaN</td>\n",
       "      <td>[Whisk first 4 ingredients in bowl., Gradually...</td>\n",
       "    </tr>\n",
       "  </tbody>\n",
       "</table>\n",
       "</div>"
      ],
      "text/plain": [
       "     RecipeId                         Name  AuthorId  CookTime  PrepTime  \\\n",
       "4          42                 Cabbage Soup      1538        30        20   \n",
       "50         90                 Almond Paste      1537     10080        15   \n",
       "88        133      Blueberry Pancake Syrup      1571        36        50   \n",
       "135       182  Low-Fat Apple &amp; Apricot      1533        20        20   \n",
       "194       248         Mustard Dill Sauce I      1554        30        30   \n",
       "\n",
       "     TotalTime                                        Description  \\\n",
       "4           50  Make and share this Cabbage Soup recipe from F...   \n",
       "50       10095  Make and share this Almond Paste recipe from F...   \n",
       "88          86  I've made this blueberry syrup several times, ...   \n",
       "135         20  Make and share this Low-Fat Apple &amp; Aprico...   \n",
       "194         30  Make and share this Mustard Dill Sauce I recip...   \n",
       "\n",
       "    RecipeCategory                                           Keywords  \\\n",
       "4        Vegetable  [Low Protein, Vegan, Low Cholesterol, Healthy,...   \n",
       "50         Dessert  [Fruit, Nuts, Lactose Free, Vegan, Low Cholest...   \n",
       "88          Sauces  [Breakfast, Dessert, Berries, Fruit, Vegan, Fr...   \n",
       "135        Dessert  [Apple, Fruit, Vegan, Free Of..., < 30 Mins, E...   \n",
       "194    Low Protein                                        \"< 30 Mins\"   \n",
       "\n",
       "           RecipeIngredientQuantities  \\\n",
       "4                    [46, 4, 1, 2, 1]   \n",
       "50                       [1, 3, 1, 2]   \n",
       "88                   [4, 3, 2, 3, NA]   \n",
       "135  [20, 12, 1/2, 2, 1, 1, 1, 1, NA]   \n",
       "194          [1/2, 6, 1/4, 2, 1/2, 6]   \n",
       "\n",
       "                                 RecipeIngredientParts  AggregatedRating  \\\n",
       "4    [plain tomato juice, cabbage, onion, carrots, ...               4.5   \n",
       "50                   [fresh lemon juice, water, sugar]               4.0   \n",
       "88   [blueberries, water, lemons, rind of, sugar, l...               5.0   \n",
       "135  [raisins, dried currant, lemon, rind of, cinna...               NaN   \n",
       "194  [spicy brown mustard, sugar, distilled white v...               NaN   \n",
       "\n",
       "     ReviewCount  Calories  FatContent  SaturatedFatContent  \\\n",
       "4           11.0     103.6         0.4                  0.1   \n",
       "50           2.0    2123.5       119.8                  9.0   \n",
       "88           4.0    1329.7         1.0                  0.1   \n",
       "135          NaN     164.5         0.3                  0.0   \n",
       "194          NaN     921.1        76.5                  9.6   \n",
       "\n",
       "     CholesterolContent  SodiumContent  CarbohydrateContent  FiberContent  \\\n",
       "4                   0.0          959.3                 25.1           4.8   \n",
       "50                  0.0           49.1                244.0          22.6   \n",
       "88                  0.0           16.6                342.8           7.1   \n",
       "135                 0.0            7.9                 42.4           2.5   \n",
       "194                 0.0          935.7                 58.6           3.4   \n",
       "\n",
       "     SugarContent  ProteinContent  RecipeServings  \\\n",
       "4            17.7             4.3             4.0   \n",
       "50          210.7            48.9             NaN   \n",
       "88          328.9             2.2             NaN   \n",
       "135          35.5             1.4             4.0   \n",
       "194          53.0             4.5             NaN   \n",
       "\n",
       "                                    RecipeInstructions  \n",
       "4    [Mix everything together and bring to a boil.,...  \n",
       "50   [Force blanched almonds through fine blade of ...  \n",
       "88   [Pour the blueberries into a saucepan and crus...  \n",
       "135  [Mix all ingredients thoroughly in a 3-quart p...  \n",
       "194  [Whisk first 4 ingredients in bowl., Gradually...  "
      ]
     },
     "execution_count": 19,
     "metadata": {},
     "output_type": "execute_result"
    }
   ],
   "source": [
    "def update_cooktime(row):\n",
    "    if row['CookTime'] == 0:  \n",
    "        if 15 <= row['PrepTime'] <= 60:\n",
    "            return row['PrepTime']  \n",
    "        else:\n",
    "            return 30  \n",
    "    elif row['CookTime'] <= 5:\n",
    "            return 5\n",
    "    return row['CookTime'] \n",
    "\n",
    "vegan_recipes['CookTime'] = vegan_recipes.apply(update_cooktime, axis=1)\n",
    "vegan_recipes.head()"
   ]
  },
  {
   "cell_type": "code",
   "execution_count": 20,
   "metadata": {
    "execution": {
     "iopub.execute_input": "2025-02-02T13:33:24.926667Z",
     "iopub.status.busy": "2025-02-02T13:33:24.926378Z",
     "iopub.status.idle": "2025-02-02T13:33:24.963098Z",
     "shell.execute_reply": "2025-02-02T13:33:24.962307Z",
     "shell.execute_reply.started": "2025-02-02T13:33:24.926643Z"
    },
    "trusted": true
   },
   "outputs": [
    {
     "data": {
      "text/html": [
       "<div>\n",
       "<style scoped>\n",
       "    .dataframe tbody tr th:only-of-type {\n",
       "        vertical-align: middle;\n",
       "    }\n",
       "\n",
       "    .dataframe tbody tr th {\n",
       "        vertical-align: top;\n",
       "    }\n",
       "\n",
       "    .dataframe thead th {\n",
       "        text-align: right;\n",
       "    }\n",
       "</style>\n",
       "<table border=\"1\" class=\"dataframe\">\n",
       "  <thead>\n",
       "    <tr style=\"text-align: right;\">\n",
       "      <th></th>\n",
       "      <th>RecipeId</th>\n",
       "      <th>Name</th>\n",
       "      <th>AuthorId</th>\n",
       "      <th>CookingTimeMinutes</th>\n",
       "      <th>PreparationTimeMinutes</th>\n",
       "      <th>TotalRecipeMinutes</th>\n",
       "      <th>Description</th>\n",
       "      <th>RecipeCategory</th>\n",
       "      <th>Keywords</th>\n",
       "      <th>RecipeIngredientQuantities</th>\n",
       "      <th>RecipeIngredientParts</th>\n",
       "      <th>AggregatedRating</th>\n",
       "      <th>ReviewCount</th>\n",
       "      <th>Calories</th>\n",
       "      <th>FatContent</th>\n",
       "      <th>SaturatedFatContent</th>\n",
       "      <th>CholesterolContent</th>\n",
       "      <th>SodiumContent</th>\n",
       "      <th>CarbohydrateContent</th>\n",
       "      <th>FiberContent</th>\n",
       "      <th>SugarContent</th>\n",
       "      <th>ProteinContent</th>\n",
       "      <th>RecipeServings</th>\n",
       "      <th>RecipeInstructions</th>\n",
       "    </tr>\n",
       "  </thead>\n",
       "  <tbody>\n",
       "    <tr>\n",
       "      <th>4</th>\n",
       "      <td>42</td>\n",
       "      <td>Cabbage Soup</td>\n",
       "      <td>1538</td>\n",
       "      <td>30</td>\n",
       "      <td>20</td>\n",
       "      <td>50</td>\n",
       "      <td>Make and share this Cabbage Soup recipe from F...</td>\n",
       "      <td>Vegetable</td>\n",
       "      <td>[Low Protein, Vegan, Low Cholesterol, Healthy,...</td>\n",
       "      <td>[46, 4, 1, 2, 1]</td>\n",
       "      <td>[plain tomato juice, cabbage, onion, carrots, ...</td>\n",
       "      <td>4.5</td>\n",
       "      <td>11.0</td>\n",
       "      <td>103.6</td>\n",
       "      <td>0.4</td>\n",
       "      <td>0.1</td>\n",
       "      <td>0.0</td>\n",
       "      <td>959.3</td>\n",
       "      <td>25.1</td>\n",
       "      <td>4.8</td>\n",
       "      <td>17.7</td>\n",
       "      <td>4.3</td>\n",
       "      <td>4.0</td>\n",
       "      <td>[Mix everything together and bring to a boil.,...</td>\n",
       "    </tr>\n",
       "    <tr>\n",
       "      <th>50</th>\n",
       "      <td>90</td>\n",
       "      <td>Almond Paste</td>\n",
       "      <td>1537</td>\n",
       "      <td>10080</td>\n",
       "      <td>15</td>\n",
       "      <td>10095</td>\n",
       "      <td>Make and share this Almond Paste recipe from F...</td>\n",
       "      <td>Dessert</td>\n",
       "      <td>[Fruit, Nuts, Lactose Free, Vegan, Low Cholest...</td>\n",
       "      <td>[1, 3, 1, 2]</td>\n",
       "      <td>[fresh lemon juice, water, sugar]</td>\n",
       "      <td>4.0</td>\n",
       "      <td>2.0</td>\n",
       "      <td>2123.5</td>\n",
       "      <td>119.8</td>\n",
       "      <td>9.0</td>\n",
       "      <td>0.0</td>\n",
       "      <td>49.1</td>\n",
       "      <td>244.0</td>\n",
       "      <td>22.6</td>\n",
       "      <td>210.7</td>\n",
       "      <td>48.9</td>\n",
       "      <td>NaN</td>\n",
       "      <td>[Force blanched almonds through fine blade of ...</td>\n",
       "    </tr>\n",
       "    <tr>\n",
       "      <th>88</th>\n",
       "      <td>133</td>\n",
       "      <td>Blueberry Pancake Syrup</td>\n",
       "      <td>1571</td>\n",
       "      <td>36</td>\n",
       "      <td>50</td>\n",
       "      <td>86</td>\n",
       "      <td>I've made this blueberry syrup several times, ...</td>\n",
       "      <td>Sauces</td>\n",
       "      <td>[Breakfast, Dessert, Berries, Fruit, Vegan, Fr...</td>\n",
       "      <td>[4, 3, 2, 3, NA]</td>\n",
       "      <td>[blueberries, water, lemons, rind of, sugar, l...</td>\n",
       "      <td>5.0</td>\n",
       "      <td>4.0</td>\n",
       "      <td>1329.7</td>\n",
       "      <td>1.0</td>\n",
       "      <td>0.1</td>\n",
       "      <td>0.0</td>\n",
       "      <td>16.6</td>\n",
       "      <td>342.8</td>\n",
       "      <td>7.1</td>\n",
       "      <td>328.9</td>\n",
       "      <td>2.2</td>\n",
       "      <td>NaN</td>\n",
       "      <td>[Pour the blueberries into a saucepan and crus...</td>\n",
       "    </tr>\n",
       "    <tr>\n",
       "      <th>135</th>\n",
       "      <td>182</td>\n",
       "      <td>Low-Fat Apple &amp;amp; Apricot</td>\n",
       "      <td>1533</td>\n",
       "      <td>20</td>\n",
       "      <td>20</td>\n",
       "      <td>40</td>\n",
       "      <td>Make and share this Low-Fat Apple &amp;amp; Aprico...</td>\n",
       "      <td>Dessert</td>\n",
       "      <td>[Apple, Fruit, Vegan, Free Of..., &lt; 30 Mins, E...</td>\n",
       "      <td>[20, 12, 1/2, 2, 1, 1, 1, 1, NA]</td>\n",
       "      <td>[raisins, dried currant, lemon, rind of, cinna...</td>\n",
       "      <td>NaN</td>\n",
       "      <td>NaN</td>\n",
       "      <td>164.5</td>\n",
       "      <td>0.3</td>\n",
       "      <td>0.0</td>\n",
       "      <td>0.0</td>\n",
       "      <td>7.9</td>\n",
       "      <td>42.4</td>\n",
       "      <td>2.5</td>\n",
       "      <td>35.5</td>\n",
       "      <td>1.4</td>\n",
       "      <td>4.0</td>\n",
       "      <td>[Mix all ingredients thoroughly in a 3-quart p...</td>\n",
       "    </tr>\n",
       "    <tr>\n",
       "      <th>194</th>\n",
       "      <td>248</td>\n",
       "      <td>Mustard Dill Sauce I</td>\n",
       "      <td>1554</td>\n",
       "      <td>30</td>\n",
       "      <td>30</td>\n",
       "      <td>60</td>\n",
       "      <td>Make and share this Mustard Dill Sauce I recip...</td>\n",
       "      <td>Low Protein</td>\n",
       "      <td>\"&lt; 30 Mins\"</td>\n",
       "      <td>[1/2, 6, 1/4, 2, 1/2, 6]</td>\n",
       "      <td>[spicy brown mustard, sugar, distilled white v...</td>\n",
       "      <td>NaN</td>\n",
       "      <td>NaN</td>\n",
       "      <td>921.1</td>\n",
       "      <td>76.5</td>\n",
       "      <td>9.6</td>\n",
       "      <td>0.0</td>\n",
       "      <td>935.7</td>\n",
       "      <td>58.6</td>\n",
       "      <td>3.4</td>\n",
       "      <td>53.0</td>\n",
       "      <td>4.5</td>\n",
       "      <td>NaN</td>\n",
       "      <td>[Whisk first 4 ingredients in bowl., Gradually...</td>\n",
       "    </tr>\n",
       "  </tbody>\n",
       "</table>\n",
       "</div>"
      ],
      "text/plain": [
       "     RecipeId                         Name  AuthorId  CookingTimeMinutes  \\\n",
       "4          42                 Cabbage Soup      1538                  30   \n",
       "50         90                 Almond Paste      1537               10080   \n",
       "88        133      Blueberry Pancake Syrup      1571                  36   \n",
       "135       182  Low-Fat Apple &amp; Apricot      1533                  20   \n",
       "194       248         Mustard Dill Sauce I      1554                  30   \n",
       "\n",
       "     PreparationTimeMinutes  TotalRecipeMinutes  \\\n",
       "4                        20                  50   \n",
       "50                       15               10095   \n",
       "88                       50                  86   \n",
       "135                      20                  40   \n",
       "194                      30                  60   \n",
       "\n",
       "                                           Description RecipeCategory  \\\n",
       "4    Make and share this Cabbage Soup recipe from F...      Vegetable   \n",
       "50   Make and share this Almond Paste recipe from F...        Dessert   \n",
       "88   I've made this blueberry syrup several times, ...         Sauces   \n",
       "135  Make and share this Low-Fat Apple &amp; Aprico...        Dessert   \n",
       "194  Make and share this Mustard Dill Sauce I recip...    Low Protein   \n",
       "\n",
       "                                              Keywords  \\\n",
       "4    [Low Protein, Vegan, Low Cholesterol, Healthy,...   \n",
       "50   [Fruit, Nuts, Lactose Free, Vegan, Low Cholest...   \n",
       "88   [Breakfast, Dessert, Berries, Fruit, Vegan, Fr...   \n",
       "135  [Apple, Fruit, Vegan, Free Of..., < 30 Mins, E...   \n",
       "194                                        \"< 30 Mins\"   \n",
       "\n",
       "           RecipeIngredientQuantities  \\\n",
       "4                    [46, 4, 1, 2, 1]   \n",
       "50                       [1, 3, 1, 2]   \n",
       "88                   [4, 3, 2, 3, NA]   \n",
       "135  [20, 12, 1/2, 2, 1, 1, 1, 1, NA]   \n",
       "194          [1/2, 6, 1/4, 2, 1/2, 6]   \n",
       "\n",
       "                                 RecipeIngredientParts  AggregatedRating  \\\n",
       "4    [plain tomato juice, cabbage, onion, carrots, ...               4.5   \n",
       "50                   [fresh lemon juice, water, sugar]               4.0   \n",
       "88   [blueberries, water, lemons, rind of, sugar, l...               5.0   \n",
       "135  [raisins, dried currant, lemon, rind of, cinna...               NaN   \n",
       "194  [spicy brown mustard, sugar, distilled white v...               NaN   \n",
       "\n",
       "     ReviewCount  Calories  FatContent  SaturatedFatContent  \\\n",
       "4           11.0     103.6         0.4                  0.1   \n",
       "50           2.0    2123.5       119.8                  9.0   \n",
       "88           4.0    1329.7         1.0                  0.1   \n",
       "135          NaN     164.5         0.3                  0.0   \n",
       "194          NaN     921.1        76.5                  9.6   \n",
       "\n",
       "     CholesterolContent  SodiumContent  CarbohydrateContent  FiberContent  \\\n",
       "4                   0.0          959.3                 25.1           4.8   \n",
       "50                  0.0           49.1                244.0          22.6   \n",
       "88                  0.0           16.6                342.8           7.1   \n",
       "135                 0.0            7.9                 42.4           2.5   \n",
       "194                 0.0          935.7                 58.6           3.4   \n",
       "\n",
       "     SugarContent  ProteinContent  RecipeServings  \\\n",
       "4            17.7             4.3             4.0   \n",
       "50          210.7            48.9             NaN   \n",
       "88          328.9             2.2             NaN   \n",
       "135          35.5             1.4             4.0   \n",
       "194          53.0             4.5             NaN   \n",
       "\n",
       "                                    RecipeInstructions  \n",
       "4    [Mix everything together and bring to a boil.,...  \n",
       "50   [Force blanched almonds through fine blade of ...  \n",
       "88   [Pour the blueberries into a saucepan and crus...  \n",
       "135  [Mix all ingredients thoroughly in a 3-quart p...  \n",
       "194  [Whisk first 4 ingredients in bowl., Gradually...  "
      ]
     },
     "execution_count": 20,
     "metadata": {},
     "output_type": "execute_result"
    }
   ],
   "source": [
    "vegan_recipes['TotalTime'] = vegan_recipes['CookTime'] + vegan_recipes['PrepTime']\n",
    "vegan_recipes = vegan_recipes.rename(columns={'CookTime':'CookingTimeMinutes', 'PrepTime':'PreparationTimeMinutes', 'TotalTime':'TotalRecipeMinutes'})\n",
    "vegan_recipes.head()"
   ]
  },
  {
   "cell_type": "code",
   "execution_count": 21,
   "metadata": {
    "execution": {
     "iopub.execute_input": "2025-02-02T13:33:24.964218Z",
     "iopub.status.busy": "2025-02-02T13:33:24.963861Z",
     "iopub.status.idle": "2025-02-02T13:33:24.972740Z",
     "shell.execute_reply": "2025-02-02T13:33:24.972091Z",
     "shell.execute_reply.started": "2025-02-02T13:33:24.964170Z"
    },
    "trusted": true
   },
   "outputs": [],
   "source": [
    "def categorize_cooking_time(minutes):\n",
    "    if minutes == 0:\n",
    "        return 'No Cooking'\n",
    "    elif minutes <= 30:\n",
    "        return 'Short'\n",
    "    elif minutes <= 60:\n",
    "        return 'Medium'\n",
    "    elif minutes <= 120:\n",
    "        return 'Long'\n",
    "    else:\n",
    "        return 'Very Long'\n",
    "\n",
    "vegan_recipes['RecipeTimeCategory'] = vegan_recipes['TotalRecipeMinutes'].apply(categorize_cooking_time)"
   ]
  },
  {
   "cell_type": "code",
   "execution_count": 22,
   "metadata": {
    "execution": {
     "iopub.execute_input": "2025-02-02T13:33:24.973728Z",
     "iopub.status.busy": "2025-02-02T13:33:24.973433Z",
     "iopub.status.idle": "2025-02-02T13:33:24.984543Z",
     "shell.execute_reply": "2025-02-02T13:33:24.983888Z",
     "shell.execute_reply.started": "2025-02-02T13:33:24.973700Z"
    },
    "trusted": true
   },
   "outputs": [
    {
     "data": {
      "text/plain": [
       "0"
      ]
     },
     "execution_count": 22,
     "metadata": {},
     "output_type": "execute_result"
    }
   ],
   "source": [
    "# Sanity check\n",
    "\n",
    "vegan_recipes[\"CookingTimeMinutes\"].isna().sum()"
   ]
  },
  {
   "cell_type": "markdown",
   "metadata": {},
   "source": [
    "Let's see how many NaNs are left in other columns after filtering out non-plant-based recipes."
   ]
  },
  {
   "cell_type": "code",
   "execution_count": 23,
   "metadata": {
    "execution": {
     "iopub.execute_input": "2025-02-02T13:33:24.985697Z",
     "iopub.status.busy": "2025-02-02T13:33:24.985390Z",
     "iopub.status.idle": "2025-02-02T13:33:24.995920Z",
     "shell.execute_reply": "2025-02-02T13:33:24.995139Z",
     "shell.execute_reply.started": "2025-02-02T13:33:24.985665Z"
    },
    "trusted": true
   },
   "outputs": [
    {
     "data": {
      "text/plain": [
       "0"
      ]
     },
     "execution_count": 23,
     "metadata": {},
     "output_type": "execute_result"
    }
   ],
   "source": [
    "vegan_recipes[\"RecipeCategory\"].isna().sum()"
   ]
  },
  {
   "cell_type": "code",
   "execution_count": 24,
   "metadata": {
    "execution": {
     "iopub.execute_input": "2025-02-02T13:33:24.997079Z",
     "iopub.status.busy": "2025-02-02T13:33:24.996788Z",
     "iopub.status.idle": "2025-02-02T13:33:25.009160Z",
     "shell.execute_reply": "2025-02-02T13:33:25.008378Z",
     "shell.execute_reply.started": "2025-02-02T13:33:24.997058Z"
    },
    "trusted": true
   },
   "outputs": [
    {
     "data": {
      "text/plain": [
       "0"
      ]
     },
     "execution_count": 24,
     "metadata": {},
     "output_type": "execute_result"
    }
   ],
   "source": [
    "vegan_recipes[\"RecipeIngredientQuantities\"].isna().sum()"
   ]
  },
  {
   "cell_type": "code",
   "execution_count": 25,
   "metadata": {
    "execution": {
     "iopub.execute_input": "2025-02-02T13:33:25.009994Z",
     "iopub.status.busy": "2025-02-02T13:33:25.009766Z",
     "iopub.status.idle": "2025-02-02T13:33:25.034683Z",
     "shell.execute_reply": "2025-02-02T13:33:25.034086Z",
     "shell.execute_reply.started": "2025-02-02T13:33:25.009975Z"
    },
    "trusted": true
   },
   "outputs": [
    {
     "data": {
      "text/html": [
       "<div>\n",
       "<style scoped>\n",
       "    .dataframe tbody tr th:only-of-type {\n",
       "        vertical-align: middle;\n",
       "    }\n",
       "\n",
       "    .dataframe tbody tr th {\n",
       "        vertical-align: top;\n",
       "    }\n",
       "\n",
       "    .dataframe thead th {\n",
       "        text-align: right;\n",
       "    }\n",
       "</style>\n",
       "<table border=\"1\" class=\"dataframe\">\n",
       "  <thead>\n",
       "    <tr style=\"text-align: right;\">\n",
       "      <th></th>\n",
       "      <th>ReviewCount</th>\n",
       "      <th>AggregatedRating</th>\n",
       "    </tr>\n",
       "  </thead>\n",
       "  <tbody>\n",
       "    <tr>\n",
       "      <th>count</th>\n",
       "      <td>9505.000000</td>\n",
       "      <td>9313.000000</td>\n",
       "    </tr>\n",
       "    <tr>\n",
       "      <th>mean</th>\n",
       "      <td>4.925302</td>\n",
       "      <td>4.618812</td>\n",
       "    </tr>\n",
       "    <tr>\n",
       "      <th>std</th>\n",
       "      <td>12.908457</td>\n",
       "      <td>0.655795</td>\n",
       "    </tr>\n",
       "    <tr>\n",
       "      <th>min</th>\n",
       "      <td>1.000000</td>\n",
       "      <td>1.000000</td>\n",
       "    </tr>\n",
       "    <tr>\n",
       "      <th>25%</th>\n",
       "      <td>1.000000</td>\n",
       "      <td>4.500000</td>\n",
       "    </tr>\n",
       "    <tr>\n",
       "      <th>50%</th>\n",
       "      <td>2.000000</td>\n",
       "      <td>5.000000</td>\n",
       "    </tr>\n",
       "    <tr>\n",
       "      <th>75%</th>\n",
       "      <td>4.000000</td>\n",
       "      <td>5.000000</td>\n",
       "    </tr>\n",
       "    <tr>\n",
       "      <th>max</th>\n",
       "      <td>421.000000</td>\n",
       "      <td>5.000000</td>\n",
       "    </tr>\n",
       "  </tbody>\n",
       "</table>\n",
       "</div>"
      ],
      "text/plain": [
       "       ReviewCount  AggregatedRating\n",
       "count  9505.000000       9313.000000\n",
       "mean      4.925302          4.618812\n",
       "std      12.908457          0.655795\n",
       "min       1.000000          1.000000\n",
       "25%       1.000000          4.500000\n",
       "50%       2.000000          5.000000\n",
       "75%       4.000000          5.000000\n",
       "max     421.000000          5.000000"
      ]
     },
     "execution_count": 25,
     "metadata": {},
     "output_type": "execute_result"
    }
   ],
   "source": [
    "vegan_recipes[['ReviewCount','AggregatedRating']].describe()"
   ]
  },
  {
   "cell_type": "code",
   "execution_count": 26,
   "metadata": {
    "execution": {
     "iopub.execute_input": "2025-02-02T13:33:25.035644Z",
     "iopub.status.busy": "2025-02-02T13:33:25.035401Z",
     "iopub.status.idle": "2025-02-02T13:33:25.818951Z",
     "shell.execute_reply": "2025-02-02T13:33:25.818133Z",
     "shell.execute_reply.started": "2025-02-02T13:33:25.035624Z"
    },
    "trusted": true
   },
   "outputs": [
    {
     "data": {
      "image/png": "[encoded data removed]",
      "text/plain": [
       "<Figure size 1200x500 with 2 Axes>"
      ]
     },
     "metadata": {},
     "output_type": "display_data"
    }
   ],
   "source": [
    "sns.set(style=\"whitegrid\")\n",
    "\n",
    "plt.figure(figsize=(12, 5))\n",
    "\n",
    "plt.subplot(1, 2, 1)\n",
    "sns.histplot(vegan_recipes['AggregatedRating'], bins=10, kde=True, color='blue')\n",
    "plt.title('Distribution of AggregatedRating')\n",
    "plt.xlabel('AggregatedRating')\n",
    "plt.ylabel('Frequency')\n",
    "\n",
    "plt.subplot(1, 2, 2)\n",
    "sns.histplot(vegan_recipes['ReviewCount'], bins=10, kde=True, color='green')\n",
    "plt.title('Distribution of ReviewCount')\n",
    "plt.xlabel('ReviewCount')\n",
    "plt.ylabel('Frequency')\n",
    "\n",
    "plt.tight_layout()\n",
    "plt.show()"
   ]
  },
  {
   "cell_type": "code",
   "execution_count": 27,
   "metadata": {
    "execution": {
     "iopub.execute_input": "2025-02-02T13:33:25.820196Z",
     "iopub.status.busy": "2025-02-02T13:33:25.819850Z",
     "iopub.status.idle": "2025-02-02T13:33:25.830016Z",
     "shell.execute_reply": "2025-02-02T13:33:25.829140Z",
     "shell.execute_reply.started": "2025-02-02T13:33:25.820164Z"
    },
    "trusted": true
   },
   "outputs": [
    {
     "data": {
      "text/plain": [
       "AggregatedRating    0\n",
       "ReviewCount         0\n",
       "dtype: int64"
      ]
     },
     "execution_count": 27,
     "metadata": {},
     "output_type": "execute_result"
    }
   ],
   "source": [
    "def nan_imputation(df, cols):\n",
    "    for col in cols:\n",
    "        nans = df[col].isna()\n",
    "        df[col].fillna(0, inplace=True)\n",
    "\n",
    "    return df\n",
    "    \n",
    "cols_to_impute = [\"AggregatedRating\", \"ReviewCount\"]\n",
    "vegan_recipes = nan_imputation(vegan_recipes, cols_to_impute)\n",
    "vegan_recipes[[\"AggregatedRating\", \"ReviewCount\"]].isna().sum()"
   ]
  },
  {
   "cell_type": "code",
   "execution_count": 28,
   "metadata": {
    "execution": {
     "iopub.execute_input": "2025-02-02T13:33:25.831212Z",
     "iopub.status.busy": "2025-02-02T13:33:25.830908Z",
     "iopub.status.idle": "2025-02-02T13:33:25.855856Z",
     "shell.execute_reply": "2025-02-02T13:33:25.855011Z",
     "shell.execute_reply.started": "2025-02-02T13:33:25.831173Z"
    },
    "trusted": true
   },
   "outputs": [
    {
     "data": {
      "text/html": [
       "<div>\n",
       "<style scoped>\n",
       "    .dataframe tbody tr th:only-of-type {\n",
       "        vertical-align: middle;\n",
       "    }\n",
       "\n",
       "    .dataframe tbody tr th {\n",
       "        vertical-align: top;\n",
       "    }\n",
       "\n",
       "    .dataframe thead th {\n",
       "        text-align: right;\n",
       "    }\n",
       "</style>\n",
       "<table border=\"1\" class=\"dataframe\">\n",
       "  <thead>\n",
       "    <tr style=\"text-align: right;\">\n",
       "      <th></th>\n",
       "      <th>RecipeId</th>\n",
       "      <th>Name</th>\n",
       "      <th>AuthorId</th>\n",
       "      <th>CookingTimeMinutes</th>\n",
       "      <th>PreparationTimeMinutes</th>\n",
       "      <th>TotalRecipeMinutes</th>\n",
       "      <th>Description</th>\n",
       "      <th>RecipeCategory</th>\n",
       "      <th>Keywords</th>\n",
       "      <th>RecipeIngredientQuantities</th>\n",
       "      <th>RecipeIngredientParts</th>\n",
       "      <th>AggregatedRating</th>\n",
       "      <th>ReviewCount</th>\n",
       "      <th>Calories</th>\n",
       "      <th>FatContent</th>\n",
       "      <th>SaturatedFatContent</th>\n",
       "      <th>CholesterolContent</th>\n",
       "      <th>SodiumContent</th>\n",
       "      <th>CarbohydrateContent</th>\n",
       "      <th>FiberContent</th>\n",
       "      <th>SugarContent</th>\n",
       "      <th>ProteinContent</th>\n",
       "      <th>RecipeServings</th>\n",
       "      <th>RecipeInstructions</th>\n",
       "      <th>RecipeTimeCategory</th>\n",
       "    </tr>\n",
       "  </thead>\n",
       "  <tbody>\n",
       "    <tr>\n",
       "      <th>4</th>\n",
       "      <td>42</td>\n",
       "      <td>Cabbage Soup</td>\n",
       "      <td>1538</td>\n",
       "      <td>30</td>\n",
       "      <td>20</td>\n",
       "      <td>50</td>\n",
       "      <td>Make and share this Cabbage Soup recipe from F...</td>\n",
       "      <td>Vegetable</td>\n",
       "      <td>[Low Protein, Vegan, Low Cholesterol, Healthy,...</td>\n",
       "      <td>[46, 4, 1, 2, 1]</td>\n",
       "      <td>[plain tomato juice, cabbage, onion, carrots, ...</td>\n",
       "      <td>4.5</td>\n",
       "      <td>11.0</td>\n",
       "      <td>103.6</td>\n",
       "      <td>0.4</td>\n",
       "      <td>0.1</td>\n",
       "      <td>0.0</td>\n",
       "      <td>959.3</td>\n",
       "      <td>25.1</td>\n",
       "      <td>4.8</td>\n",
       "      <td>17.7</td>\n",
       "      <td>4.3</td>\n",
       "      <td>4.0</td>\n",
       "      <td>[Mix everything together and bring to a boil.,...</td>\n",
       "      <td>Medium</td>\n",
       "    </tr>\n",
       "    <tr>\n",
       "      <th>50</th>\n",
       "      <td>90</td>\n",
       "      <td>Almond Paste</td>\n",
       "      <td>1537</td>\n",
       "      <td>10080</td>\n",
       "      <td>15</td>\n",
       "      <td>10095</td>\n",
       "      <td>Make and share this Almond Paste recipe from F...</td>\n",
       "      <td>Dessert</td>\n",
       "      <td>[Fruit, Nuts, Lactose Free, Vegan, Low Cholest...</td>\n",
       "      <td>[1, 3, 1, 2]</td>\n",
       "      <td>[fresh lemon juice, water, sugar]</td>\n",
       "      <td>4.0</td>\n",
       "      <td>2.0</td>\n",
       "      <td>2123.5</td>\n",
       "      <td>119.8</td>\n",
       "      <td>9.0</td>\n",
       "      <td>0.0</td>\n",
       "      <td>49.1</td>\n",
       "      <td>244.0</td>\n",
       "      <td>22.6</td>\n",
       "      <td>210.7</td>\n",
       "      <td>48.9</td>\n",
       "      <td>NaN</td>\n",
       "      <td>[Force blanched almonds through fine blade of ...</td>\n",
       "      <td>Very Long</td>\n",
       "    </tr>\n",
       "    <tr>\n",
       "      <th>88</th>\n",
       "      <td>133</td>\n",
       "      <td>Blueberry Pancake Syrup</td>\n",
       "      <td>1571</td>\n",
       "      <td>36</td>\n",
       "      <td>50</td>\n",
       "      <td>86</td>\n",
       "      <td>I've made this blueberry syrup several times, ...</td>\n",
       "      <td>Sauces</td>\n",
       "      <td>[Breakfast, Dessert, Berries, Fruit, Vegan, Fr...</td>\n",
       "      <td>[4, 3, 2, 3, NA]</td>\n",
       "      <td>[blueberries, water, lemons, rind of, sugar, l...</td>\n",
       "      <td>5.0</td>\n",
       "      <td>4.0</td>\n",
       "      <td>1329.7</td>\n",
       "      <td>1.0</td>\n",
       "      <td>0.1</td>\n",
       "      <td>0.0</td>\n",
       "      <td>16.6</td>\n",
       "      <td>342.8</td>\n",
       "      <td>7.1</td>\n",
       "      <td>328.9</td>\n",
       "      <td>2.2</td>\n",
       "      <td>NaN</td>\n",
       "      <td>[Pour the blueberries into a saucepan and crus...</td>\n",
       "      <td>Long</td>\n",
       "    </tr>\n",
       "    <tr>\n",
       "      <th>135</th>\n",
       "      <td>182</td>\n",
       "      <td>Low-Fat Apple &amp;amp; Apricot</td>\n",
       "      <td>1533</td>\n",
       "      <td>20</td>\n",
       "      <td>20</td>\n",
       "      <td>40</td>\n",
       "      <td>Make and share this Low-Fat Apple &amp;amp; Aprico...</td>\n",
       "      <td>Dessert</td>\n",
       "      <td>[Apple, Fruit, Vegan, Free Of..., &lt; 30 Mins, E...</td>\n",
       "      <td>[20, 12, 1/2, 2, 1, 1, 1, 1, NA]</td>\n",
       "      <td>[raisins, dried currant, lemon, rind of, cinna...</td>\n",
       "      <td>0.0</td>\n",
       "      <td>0.0</td>\n",
       "      <td>164.5</td>\n",
       "      <td>0.3</td>\n",
       "      <td>0.0</td>\n",
       "      <td>0.0</td>\n",
       "      <td>7.9</td>\n",
       "      <td>42.4</td>\n",
       "      <td>2.5</td>\n",
       "      <td>35.5</td>\n",
       "      <td>1.4</td>\n",
       "      <td>4.0</td>\n",
       "      <td>[Mix all ingredients thoroughly in a 3-quart p...</td>\n",
       "      <td>Medium</td>\n",
       "    </tr>\n",
       "    <tr>\n",
       "      <th>194</th>\n",
       "      <td>248</td>\n",
       "      <td>Mustard Dill Sauce I</td>\n",
       "      <td>1554</td>\n",
       "      <td>30</td>\n",
       "      <td>30</td>\n",
       "      <td>60</td>\n",
       "      <td>Make and share this Mustard Dill Sauce I recip...</td>\n",
       "      <td>Low Protein</td>\n",
       "      <td>\"&lt; 30 Mins\"</td>\n",
       "      <td>[1/2, 6, 1/4, 2, 1/2, 6]</td>\n",
       "      <td>[spicy brown mustard, sugar, distilled white v...</td>\n",
       "      <td>0.0</td>\n",
       "      <td>0.0</td>\n",
       "      <td>921.1</td>\n",
       "      <td>76.5</td>\n",
       "      <td>9.6</td>\n",
       "      <td>0.0</td>\n",
       "      <td>935.7</td>\n",
       "      <td>58.6</td>\n",
       "      <td>3.4</td>\n",
       "      <td>53.0</td>\n",
       "      <td>4.5</td>\n",
       "      <td>NaN</td>\n",
       "      <td>[Whisk first 4 ingredients in bowl., Gradually...</td>\n",
       "      <td>Medium</td>\n",
       "    </tr>\n",
       "  </tbody>\n",
       "</table>\n",
       "</div>"
      ],
      "text/plain": [
       "     RecipeId                         Name  AuthorId  CookingTimeMinutes  \\\n",
       "4          42                 Cabbage Soup      1538                  30   \n",
       "50         90                 Almond Paste      1537               10080   \n",
       "88        133      Blueberry Pancake Syrup      1571                  36   \n",
       "135       182  Low-Fat Apple &amp; Apricot      1533                  20   \n",
       "194       248         Mustard Dill Sauce I      1554                  30   \n",
       "\n",
       "     PreparationTimeMinutes  TotalRecipeMinutes  \\\n",
       "4                        20                  50   \n",
       "50                       15               10095   \n",
       "88                       50                  86   \n",
       "135                      20                  40   \n",
       "194                      30                  60   \n",
       "\n",
       "                                           Description RecipeCategory  \\\n",
       "4    Make and share this Cabbage Soup recipe from F...      Vegetable   \n",
       "50   Make and share this Almond Paste recipe from F...        Dessert   \n",
       "88   I've made this blueberry syrup several times, ...         Sauces   \n",
       "135  Make and share this Low-Fat Apple &amp; Aprico...        Dessert   \n",
       "194  Make and share this Mustard Dill Sauce I recip...    Low Protein   \n",
       "\n",
       "                                              Keywords  \\\n",
       "4    [Low Protein, Vegan, Low Cholesterol, Healthy,...   \n",
       "50   [Fruit, Nuts, Lactose Free, Vegan, Low Cholest...   \n",
       "88   [Breakfast, Dessert, Berries, Fruit, Vegan, Fr...   \n",
       "135  [Apple, Fruit, Vegan, Free Of..., < 30 Mins, E...   \n",
       "194                                        \"< 30 Mins\"   \n",
       "\n",
       "           RecipeIngredientQuantities  \\\n",
       "4                    [46, 4, 1, 2, 1]   \n",
       "50                       [1, 3, 1, 2]   \n",
       "88                   [4, 3, 2, 3, NA]   \n",
       "135  [20, 12, 1/2, 2, 1, 1, 1, 1, NA]   \n",
       "194          [1/2, 6, 1/4, 2, 1/2, 6]   \n",
       "\n",
       "                                 RecipeIngredientParts  AggregatedRating  \\\n",
       "4    [plain tomato juice, cabbage, onion, carrots, ...               4.5   \n",
       "50                   [fresh lemon juice, water, sugar]               4.0   \n",
       "88   [blueberries, water, lemons, rind of, sugar, l...               5.0   \n",
       "135  [raisins, dried currant, lemon, rind of, cinna...               0.0   \n",
       "194  [spicy brown mustard, sugar, distilled white v...               0.0   \n",
       "\n",
       "     ReviewCount  Calories  FatContent  SaturatedFatContent  \\\n",
       "4           11.0     103.6         0.4                  0.1   \n",
       "50           2.0    2123.5       119.8                  9.0   \n",
       "88           4.0    1329.7         1.0                  0.1   \n",
       "135          0.0     164.5         0.3                  0.0   \n",
       "194          0.0     921.1        76.5                  9.6   \n",
       "\n",
       "     CholesterolContent  SodiumContent  CarbohydrateContent  FiberContent  \\\n",
       "4                   0.0          959.3                 25.1           4.8   \n",
       "50                  0.0           49.1                244.0          22.6   \n",
       "88                  0.0           16.6                342.8           7.1   \n",
       "135                 0.0            7.9                 42.4           2.5   \n",
       "194                 0.0          935.7                 58.6           3.4   \n",
       "\n",
       "     SugarContent  ProteinContent  RecipeServings  \\\n",
       "4            17.7             4.3             4.0   \n",
       "50          210.7            48.9             NaN   \n",
       "88          328.9             2.2             NaN   \n",
       "135          35.5             1.4             4.0   \n",
       "194          53.0             4.5             NaN   \n",
       "\n",
       "                                    RecipeInstructions RecipeTimeCategory  \n",
       "4    [Mix everything together and bring to a boil.,...             Medium  \n",
       "50   [Force blanched almonds through fine blade of ...          Very Long  \n",
       "88   [Pour the blueberries into a saucepan and crus...               Long  \n",
       "135  [Mix all ingredients thoroughly in a 3-quart p...             Medium  \n",
       "194  [Whisk first 4 ingredients in bowl., Gradually...             Medium  "
      ]
     },
     "execution_count": 28,
     "metadata": {},
     "output_type": "execute_result"
    }
   ],
   "source": [
    "vegan_recipes.head()"
   ]
  },
  {
   "cell_type": "markdown",
   "metadata": {},
   "source": [
    "### Cleaning textual data"
   ]
  },
  {
   "cell_type": "markdown",
   "metadata": {},
   "source": [
    "Some of our categorical features are lists, and we want to convert them into strings before we proceed."
   ]
  },
  {
   "cell_type": "code",
   "execution_count": 29,
   "metadata": {
    "execution": {
     "iopub.execute_input": "2025-02-02T13:33:25.856911Z",
     "iopub.status.busy": "2025-02-02T13:33:25.856685Z",
     "iopub.status.idle": "2025-02-02T13:33:26.356083Z",
     "shell.execute_reply": "2025-02-02T13:33:26.355359Z",
     "shell.execute_reply.started": "2025-02-02T13:33:25.856865Z"
    },
    "trusted": true
   },
   "outputs": [],
   "source": [
    "list_cols = ['Keywords', 'RecipeIngredientQuantities', 'RecipeIngredientParts', 'RecipeInstructions']\n",
    "\n",
    "for col in list_cols:\n",
    "    vegan_recipes[col] = vegan_recipes[col].apply(\n",
    "        lambda x: [str(item).strip(\"'\") if pd.notna(item) else item for item in x] if isinstance(x, list) else x\n",
    "    )"
   ]
  },
  {
   "cell_type": "code",
   "execution_count": 30,
   "metadata": {
    "execution": {
     "iopub.execute_input": "2025-02-02T13:33:26.357191Z",
     "iopub.status.busy": "2025-02-02T13:33:26.356861Z",
     "iopub.status.idle": "2025-02-02T13:33:26.836893Z",
     "shell.execute_reply": "2025-02-02T13:33:26.836026Z",
     "shell.execute_reply.started": "2025-02-02T13:33:26.357161Z"
    },
    "trusted": true
   },
   "outputs": [
    {
     "data": {
      "text/html": [
       "<div>\n",
       "<style scoped>\n",
       "    .dataframe tbody tr th:only-of-type {\n",
       "        vertical-align: middle;\n",
       "    }\n",
       "\n",
       "    .dataframe tbody tr th {\n",
       "        vertical-align: top;\n",
       "    }\n",
       "\n",
       "    .dataframe thead th {\n",
       "        text-align: right;\n",
       "    }\n",
       "</style>\n",
       "<table border=\"1\" class=\"dataframe\">\n",
       "  <thead>\n",
       "    <tr style=\"text-align: right;\">\n",
       "      <th></th>\n",
       "      <th>Keywords</th>\n",
       "      <th>RecipeIngredientQuantities</th>\n",
       "      <th>RecipeIngredientParts</th>\n",
       "      <th>RecipeInstructions</th>\n",
       "    </tr>\n",
       "  </thead>\n",
       "  <tbody>\n",
       "    <tr>\n",
       "      <th>4</th>\n",
       "      <td>Low Protein, Vegan, Low Cholesterol, Healthy, ...</td>\n",
       "      <td>46, 4, 1, 2, 1</td>\n",
       "      <td>plain tomato juice, cabbage, onion, carrots, c...</td>\n",
       "      <td>Mix everything together and bring to a boil. R...</td>\n",
       "    </tr>\n",
       "    <tr>\n",
       "      <th>50</th>\n",
       "      <td>Fruit, Nuts, Lactose Free, Vegan, Low Choleste...</td>\n",
       "      <td>1, 3, 1, 2</td>\n",
       "      <td>fresh lemon juice, water, sugar</td>\n",
       "      <td>Force blanched almonds through fine blade of f...</td>\n",
       "    </tr>\n",
       "    <tr>\n",
       "      <th>88</th>\n",
       "      <td>Breakfast, Dessert, Berries, Fruit, Vegan, Fre...</td>\n",
       "      <td>4, 3, 2, 3, NA</td>\n",
       "      <td>blueberries, water, lemons, rind of, sugar, le...</td>\n",
       "      <td>Pour the blueberries into a saucepan and crush...</td>\n",
       "    </tr>\n",
       "    <tr>\n",
       "      <th>135</th>\n",
       "      <td>Apple, Fruit, Vegan, Free Of..., &lt; 30 Mins, Easy</td>\n",
       "      <td>20, 12, 1/2, 2, 1, 1, 1, 1, NA</td>\n",
       "      <td>raisins, dried currant, lemon, rind of, cinnam...</td>\n",
       "      <td>Mix all ingredients thoroughly in a 3-quart po...</td>\n",
       "    </tr>\n",
       "    <tr>\n",
       "      <th>194</th>\n",
       "      <td>\"&lt; 30 Mins\"</td>\n",
       "      <td>1/2, 6, 1/4, 2, 1/2, 6</td>\n",
       "      <td>spicy brown mustard, sugar, distilled white vi...</td>\n",
       "      <td>Whisk first 4 ingredients in bowl. Gradually w...</td>\n",
       "    </tr>\n",
       "  </tbody>\n",
       "</table>\n",
       "</div>"
      ],
      "text/plain": [
       "                                              Keywords  \\\n",
       "4    Low Protein, Vegan, Low Cholesterol, Healthy, ...   \n",
       "50   Fruit, Nuts, Lactose Free, Vegan, Low Choleste...   \n",
       "88   Breakfast, Dessert, Berries, Fruit, Vegan, Fre...   \n",
       "135   Apple, Fruit, Vegan, Free Of..., < 30 Mins, Easy   \n",
       "194                                        \"< 30 Mins\"   \n",
       "\n",
       "         RecipeIngredientQuantities  \\\n",
       "4                    46, 4, 1, 2, 1   \n",
       "50                       1, 3, 1, 2   \n",
       "88                   4, 3, 2, 3, NA   \n",
       "135  20, 12, 1/2, 2, 1, 1, 1, 1, NA   \n",
       "194          1/2, 6, 1/4, 2, 1/2, 6   \n",
       "\n",
       "                                 RecipeIngredientParts  \\\n",
       "4    plain tomato juice, cabbage, onion, carrots, c...   \n",
       "50                     fresh lemon juice, water, sugar   \n",
       "88   blueberries, water, lemons, rind of, sugar, le...   \n",
       "135  raisins, dried currant, lemon, rind of, cinnam...   \n",
       "194  spicy brown mustard, sugar, distilled white vi...   \n",
       "\n",
       "                                    RecipeInstructions  \n",
       "4    Mix everything together and bring to a boil. R...  \n",
       "50   Force blanched almonds through fine blade of f...  \n",
       "88   Pour the blueberries into a saucepan and crush...  \n",
       "135  Mix all ingredients thoroughly in a 3-quart po...  \n",
       "194  Whisk first 4 ingredients in bowl. Gradually w...  "
      ]
     },
     "execution_count": 30,
     "metadata": {},
     "output_type": "execute_result"
    }
   ],
   "source": [
    "list_cols = ['Keywords', 'RecipeIngredientQuantities', 'RecipeIngredientParts', 'RecipeInstructions']\n",
    "\n",
    "for col in list_cols:\n",
    "    if col == 'RecipeInstructions':\n",
    "        vegan_recipes[col] = vegan_recipes[col].apply(\n",
    "            lambda x: ' '.join([str(item) if pd.notna(item) else 'NaN' for item in x])\n",
    "            if isinstance(x, list) else x\n",
    "        )\n",
    "    else:\n",
    "        vegan_recipes[col] = vegan_recipes[col].apply(\n",
    "            lambda x: ', '.join([str(item) if pd.notna(item) else 'NaN' for item in x])\n",
    "            if isinstance(x, list) else x\n",
    "        )\n",
    "\n",
    "vegan_recipes[list_cols].head()"
   ]
  },
  {
   "cell_type": "markdown",
   "metadata": {},
   "source": [
    "During data exploration, we noticed that some values include HTML elements that we want to get rid of."
   ]
  },
  {
   "cell_type": "code",
   "execution_count": 31,
   "metadata": {
    "execution": {
     "iopub.execute_input": "2025-02-02T13:33:26.838066Z",
     "iopub.status.busy": "2025-02-02T13:33:26.837765Z",
     "iopub.status.idle": "2025-02-02T13:33:27.207487Z",
     "shell.execute_reply": "2025-02-02T13:33:27.206501Z",
     "shell.execute_reply.started": "2025-02-02T13:33:26.838031Z"
    },
    "trusted": true
   },
   "outputs": [
    {
     "data": {
      "text/plain": [
       "(8747, 25)"
      ]
     },
     "execution_count": 31,
     "metadata": {},
     "output_type": "execute_result"
    }
   ],
   "source": [
    "vegan_recipes[\n",
    "    vegan_recipes[['Name', 'Description', 'RecipeInstructions']].apply(\n",
    "        lambda col: col.str.contains(r'http[s]?://\\S+|www\\.\\S+|[|%$@#^**]|\\.com|www\\.[^\\s]*\\.com|\\r|\\n', regex=True, na=False)\n",
    "    ).any(axis=1) \n",
    "].shape"
   ]
  },
  {
   "cell_type": "markdown",
   "metadata": {},
   "source": [
    "We do the same for reviews that will be used as metadata."
   ]
  },
  {
   "cell_type": "code",
   "execution_count": 32,
   "metadata": {
    "execution": {
     "iopub.execute_input": "2025-02-02T13:33:27.208800Z",
     "iopub.status.busy": "2025-02-02T13:33:27.208465Z",
     "iopub.status.idle": "2025-02-02T13:33:28.000194Z",
     "shell.execute_reply": "2025-02-02T13:33:27.999320Z",
     "shell.execute_reply.started": "2025-02-02T13:33:27.208768Z"
    },
    "trusted": true
   },
   "outputs": [
    {
     "data": {
      "text/html": [
       "<div>\n",
       "<style scoped>\n",
       "    .dataframe tbody tr th:only-of-type {\n",
       "        vertical-align: middle;\n",
       "    }\n",
       "\n",
       "    .dataframe tbody tr th {\n",
       "        vertical-align: top;\n",
       "    }\n",
       "\n",
       "    .dataframe thead th {\n",
       "        text-align: right;\n",
       "    }\n",
       "</style>\n",
       "<table border=\"1\" class=\"dataframe\">\n",
       "  <thead>\n",
       "    <tr style=\"text-align: right;\">\n",
       "      <th></th>\n",
       "      <th>RecipeId</th>\n",
       "      <th>Name</th>\n",
       "      <th>AuthorId</th>\n",
       "      <th>CookingTimeMinutes</th>\n",
       "      <th>PreparationTimeMinutes</th>\n",
       "      <th>TotalRecipeMinutes</th>\n",
       "      <th>Description</th>\n",
       "      <th>RecipeCategory</th>\n",
       "      <th>Keywords</th>\n",
       "      <th>RecipeIngredientQuantities</th>\n",
       "      <th>RecipeIngredientParts</th>\n",
       "      <th>AggregatedRating</th>\n",
       "      <th>ReviewCount</th>\n",
       "      <th>Calories</th>\n",
       "      <th>FatContent</th>\n",
       "      <th>SaturatedFatContent</th>\n",
       "      <th>CholesterolContent</th>\n",
       "      <th>SodiumContent</th>\n",
       "      <th>CarbohydrateContent</th>\n",
       "      <th>FiberContent</th>\n",
       "      <th>SugarContent</th>\n",
       "      <th>ProteinContent</th>\n",
       "      <th>RecipeServings</th>\n",
       "      <th>RecipeInstructions</th>\n",
       "      <th>RecipeTimeCategory</th>\n",
       "    </tr>\n",
       "  </thead>\n",
       "  <tbody>\n",
       "  </tbody>\n",
       "</table>\n",
       "</div>"
      ],
      "text/plain": [
       "Empty DataFrame\n",
       "Columns: [RecipeId, Name, AuthorId, CookingTimeMinutes, PreparationTimeMinutes, TotalRecipeMinutes, Description, RecipeCategory, Keywords, RecipeIngredientQuantities, RecipeIngredientParts, AggregatedRating, ReviewCount, Calories, FatContent, SaturatedFatContent, CholesterolContent, SodiumContent, CarbohydrateContent, FiberContent, SugarContent, ProteinContent, RecipeServings, RecipeInstructions, RecipeTimeCategory]\n",
       "Index: []"
      ]
     },
     "execution_count": 32,
     "metadata": {},
     "output_type": "execute_result"
    }
   ],
   "source": [
    "vegan_recipes[['Name', 'Description', 'RecipeInstructions']] = vegan_recipes[\n",
    "    ['Name', 'Description', 'RecipeInstructions']\n",
    "].applymap(\n",
    "    lambda x: re.sub(r'http[s]?://\\S+|www\\.\\S+|[|%$@#^**]|\\.com|www\\.[^\\s]*\\.com|\\r|\\n', '', html.unescape(x)) \n",
    "              if isinstance(x, str) else x\n",
    ")\n",
    "\n",
    "# Sanity check\n",
    "\n",
    "vegan_recipes[\n",
    "    vegan_recipes[['Name', 'Description', 'RecipeInstructions']].apply(\n",
    "        lambda col: col.str.contains(r'http[s]?://\\S+|www\\.\\S+|[|%$@#^**]|\\.com|www\\.[^\\s]*\\.com|\\r|\\n', regex=True, na=False)\n",
    "    ).any(axis=1) \n",
    "]"
   ]
  },
  {
   "cell_type": "code",
   "execution_count": 33,
   "metadata": {
    "execution": {
     "iopub.execute_input": "2025-02-02T13:33:28.001429Z",
     "iopub.status.busy": "2025-02-02T13:33:28.001109Z",
     "iopub.status.idle": "2025-02-02T13:33:28.018184Z",
     "shell.execute_reply": "2025-02-02T13:33:28.017306Z",
     "shell.execute_reply.started": "2025-02-02T13:33:28.001399Z"
    },
    "trusted": true
   },
   "outputs": [
    {
     "data": {
      "text/plain": [
       "(5736, 25)"
      ]
     },
     "execution_count": 33,
     "metadata": {},
     "output_type": "execute_result"
    }
   ],
   "source": [
    "vegan_recipes[vegan_recipes['Description'].str.startswith('Make and share', na=False)].shape"
   ]
  },
  {
   "cell_type": "code",
   "execution_count": 34,
   "metadata": {
    "execution": {
     "iopub.execute_input": "2025-02-02T13:33:28.019301Z",
     "iopub.status.busy": "2025-02-02T13:33:28.019012Z",
     "iopub.status.idle": "2025-02-02T13:33:28.031556Z",
     "shell.execute_reply": "2025-02-02T13:33:28.030800Z",
     "shell.execute_reply.started": "2025-02-02T13:33:28.019273Z"
    },
    "trusted": true
   },
   "outputs": [],
   "source": [
    "vegan_recipes['Description'] = vegan_recipes['Description'].apply(\n",
    "    lambda x: 'Description not provided. Please generate a description.' if isinstance(x, str) and x.startswith('Make and share') else x\n",
    ")"
   ]
  },
  {
   "cell_type": "code",
   "execution_count": 35,
   "metadata": {
    "execution": {
     "iopub.execute_input": "2025-02-02T13:33:28.032574Z",
     "iopub.status.busy": "2025-02-02T13:33:28.032319Z",
     "iopub.status.idle": "2025-02-02T13:33:37.702358Z",
     "shell.execute_reply": "2025-02-02T13:33:37.701633Z",
     "shell.execute_reply.started": "2025-02-02T13:33:28.032552Z"
    },
    "trusted": true
   },
   "outputs": [
    {
     "data": {
      "text/plain": [
       "(215135, 8)"
      ]
     },
     "execution_count": 35,
     "metadata": {},
     "output_type": "execute_result"
    }
   ],
   "source": [
    "reviews_df[\n",
    "    reviews_df['Review'].astype(str).str.contains(r'http[s]?://\\S+|www\\.\\S+|[|%$@#^**]|\\.com|www\\.[^\\s]*\\.com|\\r|\\n', regex=True, na=False)\n",
    "].shape"
   ]
  },
  {
   "cell_type": "code",
   "execution_count": 37,
   "metadata": {
    "execution": {
     "iopub.execute_input": "2025-02-02T13:34:13.750676Z",
     "iopub.status.busy": "2025-02-02T13:34:13.750390Z",
     "iopub.status.idle": "2025-02-02T13:34:46.707317Z",
     "shell.execute_reply": "2025-02-02T13:34:46.706424Z",
     "shell.execute_reply.started": "2025-02-02T13:34:13.750654Z"
    },
    "trusted": true
   },
   "outputs": [
    {
     "data": {
      "text/plain": [
       "0"
      ]
     },
     "execution_count": 37,
     "metadata": {},
     "output_type": "execute_result"
    }
   ],
   "source": [
    "reviews_df['Review'] = reviews_df['Review'].apply(\n",
    "    lambda x: re.sub(r'http[s]?://\\S+|www\\.\\S+|[|%$@#^*]+|\\.com|www\\.[^\\s]*\\.com|\\r|\\n|&[a-z]+;', '', html.unescape(x)) if isinstance(x, str) else x\n",
    ")\n",
    "\n",
    "# Sanity check\n",
    "reviews_df['Review'].apply(\n",
    "    lambda x: bool(re.search(r'http[s]?://\\S+|www\\.\\S+|[|%$@#^*]+|\\.com|www\\.[^\\s]*\\.com|\\r|\\n|&[a-z]+;', str(x))) \n",
    ").sum()"
   ]
  },
  {
   "cell_type": "code",
   "execution_count": 38,
   "metadata": {
    "execution": {
     "iopub.execute_input": "2025-02-02T13:34:48.601724Z",
     "iopub.status.busy": "2025-02-02T13:34:48.601407Z",
     "iopub.status.idle": "2025-02-02T13:35:04.543653Z",
     "shell.execute_reply": "2025-02-02T13:35:04.542940Z",
     "shell.execute_reply.started": "2025-02-02T13:34:48.601695Z"
    },
    "trusted": true
   },
   "outputs": [
    {
     "data": {
      "text/html": [
       "<div>\n",
       "<style scoped>\n",
       "    .dataframe tbody tr th:only-of-type {\n",
       "        vertical-align: middle;\n",
       "    }\n",
       "\n",
       "    .dataframe tbody tr th {\n",
       "        vertical-align: top;\n",
       "    }\n",
       "\n",
       "    .dataframe thead th {\n",
       "        text-align: right;\n",
       "    }\n",
       "</style>\n",
       "<table border=\"1\" class=\"dataframe\">\n",
       "  <thead>\n",
       "    <tr style=\"text-align: right;\">\n",
       "      <th></th>\n",
       "      <th>RecipeId</th>\n",
       "      <th>Review</th>\n",
       "    </tr>\n",
       "  </thead>\n",
       "  <tbody>\n",
       "    <tr>\n",
       "      <th>0</th>\n",
       "      <td>38</td>\n",
       "      <td>Yummy, yummy, yummy! I am a big fan of fruit a...</td>\n",
       "    </tr>\n",
       "    <tr>\n",
       "      <th>1</th>\n",
       "      <td>39</td>\n",
       "      <td>I have an Indian friend who made this dish for...</td>\n",
       "    </tr>\n",
       "    <tr>\n",
       "      <th>2</th>\n",
       "      <td>40</td>\n",
       "      <td>My favourite lemonade recipe is essentially th...</td>\n",
       "    </tr>\n",
       "    <tr>\n",
       "      <th>3</th>\n",
       "      <td>41</td>\n",
       "      <td>I thought this was very GOOD! ANYONE who is af...</td>\n",
       "    </tr>\n",
       "    <tr>\n",
       "      <th>4</th>\n",
       "      <td>42</td>\n",
       "      <td>This is a very good soup.  We served ours warm...</td>\n",
       "    </tr>\n",
       "  </tbody>\n",
       "</table>\n",
       "</div>"
      ],
      "text/plain": [
       "   RecipeId                                             Review\n",
       "0        38  Yummy, yummy, yummy! I am a big fan of fruit a...\n",
       "1        39  I have an Indian friend who made this dish for...\n",
       "2        40  My favourite lemonade recipe is essentially th...\n",
       "3        41  I thought this was very GOOD! ANYONE who is af...\n",
       "4        42  This is a very good soup.  We served ours warm..."
      ]
     },
     "execution_count": 38,
     "metadata": {},
     "output_type": "execute_result"
    }
   ],
   "source": [
    "reviews_df = reviews_df.groupby('RecipeId', as_index=False).agg({\n",
    "    'Review': lambda reviews: '; '.join(reviews.astype(str))},\n",
    "abs)\n",
    "\n",
    "reviews_df.head()"
   ]
  },
  {
   "cell_type": "markdown",
   "metadata": {},
   "source": [
    "## Preparing Data for Embedding"
   ]
  },
  {
   "cell_type": "code",
   "execution_count": 39,
   "metadata": {
    "execution": {
     "iopub.execute_input": "2025-02-02T13:35:09.963313Z",
     "iopub.status.busy": "2025-02-02T13:35:09.963014Z",
     "iopub.status.idle": "2025-02-02T13:35:13.479021Z",
     "shell.execute_reply": "2025-02-02T13:35:13.478154Z",
     "shell.execute_reply.started": "2025-02-02T13:35:09.963291Z"
    },
    "trusted": true
   },
   "outputs": [
    {
     "data": {
      "text/plain": [
       "4      Name: Cabbage Soup; Cooking Time Minutes: 30; ...\n",
       "50     Name: Almond Paste; Cooking Time Minutes: 1008...\n",
       "88     Name: Blueberry Pancake Syrup; Cooking Time Mi...\n",
       "135    Name: Low-Fat Apple & Apricot; Cooking Time Mi...\n",
       "194    Name: Mustard Dill Sauce I; Cooking Time Minut...\n",
       "Name: merged_text, dtype: object"
      ]
     },
     "execution_count": 39,
     "metadata": {},
     "output_type": "execute_result"
    }
   ],
   "source": [
    "selected_cols = vegan_recipes.iloc[:, [1, 3, 4, 5, 6, 7, 8, 9, 10, 13, 14, 15, 16, 17, 18, 19, 20, 21, 22, 23, 24]]\n",
    "\n",
    "def format_column_name(col):\n",
    "    return re.sub(r'([a-z0-9])([A-Z])', r'\\1 \\2', col)\n",
    "\n",
    "vegan_recipes[\"merged_text\"] = selected_cols.apply(\n",
    "    lambda row: \"; \".join(\n",
    "        [f\"{format_column_name(col)}: {', '.join(row[col]) if isinstance(row[col], list) else row[col]}\"\n",
    "         for col in selected_cols.columns]\n",
    "    ), axis=1\n",
    ")\n",
    "\n",
    "vegan_recipes['merged_text'].head()"
   ]
  },
  {
   "cell_type": "code",
   "execution_count": 40,
   "metadata": {
    "collapsed": true,
    "execution": {
     "iopub.execute_input": "2025-02-02T13:35:16.806495Z",
     "iopub.status.busy": "2025-02-02T13:35:16.806160Z",
     "iopub.status.idle": "2025-02-02T13:35:16.849333Z",
     "shell.execute_reply": "2025-02-02T13:35:16.848240Z",
     "shell.execute_reply.started": "2025-02-02T13:35:16.806468Z"
    },
    "jupyter": {
     "outputs_hidden": true
    },
    "trusted": true
   },
   "outputs": [
    {
     "data": {
      "text/plain": [
       "['Name: Cabbage Soup; Cooking Time Minutes: 30; Preparation Time Minutes: 20; Total Recipe Minutes: 50; Description: Description not provided. Please generate a description.; Recipe Category: Vegetable; Keywords: Low Protein, Vegan, Low Cholesterol, Healthy, Winter, < 60 Mins, Easy; Recipe Ingredient Quantities: 46, 4, 1, 2, 1; Recipe Ingredient Parts: plain tomato juice, cabbage, onion, carrots, celery; Calories: 103.6; Fat Content: 0.4; Saturated Fat Content: 0.1; Cholesterol Content: 0.0; Sodium Content: 959.3; Carbohydrate Content: 25.1; Fiber Content: 4.8; Sugar Content: 17.7; Protein Content: 4.3; Recipe Servings: 4.0; Recipe Instructions: Mix everything together and bring to a boil. Reduce heat and simmer for 30 minutes (longer if you prefer your veggies to be soft). Refrigerate until cool. Serve chilled with sour cream.; Recipe Time Category: Medium',\n",
       " 'Name: Almond Paste; Cooking Time Minutes: 10080; Preparation Time Minutes: 15; Total Recipe Minutes: 10095; Description: Description not provided. Please generate a description.; Recipe Category: Dessert; Keywords: Fruit, Nuts, Lactose Free, Vegan, Low Cholesterol, Egg Free, Free Of..., Weeknight, Refrigerator, Easy; Recipe Ingredient Quantities: 1, 3, 1, 2; Recipe Ingredient Parts: fresh lemon juice, water, sugar; Calories: 2123.5; Fat Content: 119.8; Saturated Fat Content: 9.0; Cholesterol Content: 0.0; Sodium Content: 49.1; Carbohydrate Content: 244.0; Fiber Content: 22.6; Sugar Content: 210.7; Protein Content: 48.9; Recipe Servings: nan; Recipe Instructions: Force blanched almonds through fine blade of food chopper 4x or whirl in electric blender. Add lemon juice. Cook water and sugar until candy thermometer registers 240F or until a small amount of mixture dropped into cold water forms a soft ball. Add to ground almonds. Mix well. When cool enough to handle knead until smooth. Cool. Pack in a jar cover & store in refrigerator for at least 1 week to ripen. Makes about 2 pounds. NOTE: If almond paste is too stiff to handle after storage place in top part of double boiler and heat over hot NOT boiling water until sufficiently soft to handle. Use in cookies coffee cakes or in other pastries and desserts.; Recipe Time Category: Very Long',\n",
       " \"Name: Blueberry Pancake Syrup; Cooking Time Minutes: 36; Preparation Time Minutes: 50; Total Recipe Minutes: 86; Description: I've made this blueberry syrup several times, but I bet it would work well for raspberries.  It's worth a try!; Recipe Category: Sauces; Keywords: Breakfast, Dessert, Berries, Fruit, Vegan, Free Of..., Sweet, Weeknight, < 4 Hours, Easy; Recipe Ingredient Quantities: 4, 3, 2, 3, NA; Recipe Ingredient Parts: blueberries, water, lemons, rind of, sugar, lemon juice; Calories: 1329.7; Fat Content: 1.0; Saturated Fat Content: 0.1; Cholesterol Content: 0.0; Sodium Content: 16.6; Carbohydrate Content: 342.8; Fiber Content: 7.1; Sugar Content: 328.9; Protein Content: 2.2; Recipe Servings: nan; Recipe Instructions: Pour the blueberries into a saucepan and crush them with a potato masher or a wooden spoon until most of the skins are broken. Add 1 cup of water  and strips of lemon peel and bring to a simmer. Turn heat down to low and cook the berries for 5 minutes at just under a simmer. Pour the hot berries into a strainer lined with two layers of cheesecloth and let the blueberry juice drip through. Twist the cloth to extract all the juice; there should be about 2 cups. Discard the berry pulp. Combine the remaining  2 cups water with the sugar in a small saucepan. Bring the mixture to a boil stirring until the sugar is dissolved and the mixture is clear. Wash down the sides of the pan with a wet pastry brush then boil the syrup without stirring until it reaches 260 degrees on a candy thermometer. Add the blueberry syrup to the sugar syrup and bring the mixture to boil. Boil for 1 minute.  Let the syrup cool then add lemon juice to taste. Pour the syrup into two pint jars and refrigerate if you plan to use it in a month or two. To can (for indefinite storage) Pour into canning jars with 1/2 inch headspace.  Process in hot water bath for 30 minutes. Cool.; Recipe Time Category: Long\",\n",
       " 'Name: Low-Fat Apple & Apricot; Cooking Time Minutes: 20; Preparation Time Minutes: 20; Total Recipe Minutes: 40; Description: Description not provided. Please generate a description.; Recipe Category: Dessert; Keywords: Apple, Fruit, Vegan, Free Of..., < 30 Mins, Easy; Recipe Ingredient Quantities: 20, 12, 1/2, 2, 1, 1, 1, 1, NA; Recipe Ingredient Parts: raisins, dried currant, lemon, rind of, cinnamon stick, clove; Calories: 164.5; Fat Content: 0.3; Saturated Fat Content: 0.0; Cholesterol Content: 0.0; Sodium Content: 7.9; Carbohydrate Content: 42.4; Fiber Content: 2.5; Sugar Content: 35.5; Protein Content: 1.4; Recipe Servings: 4.0; Recipe Instructions: Mix all ingredients thoroughly in a 3-quart pot. Simmer uncovered for the better part of an hour stirring often. Add more juice if necessary and discard spice packet at end of cooking time. Serve warm or chilled. Keeps for days in the refrigerator.; Recipe Time Category: Medium',\n",
       " 'Name: Mustard Dill Sauce I; Cooking Time Minutes: 30; Preparation Time Minutes: 30; Total Recipe Minutes: 60; Description: Description not provided. Please generate a description.; Recipe Category: Low Protein; Keywords: \"< 30 Mins\"; Recipe Ingredient Quantities: 1/2, 6, 1/4, 2, 1/2, 6; Recipe Ingredient Parts: spicy brown mustard, sugar, distilled white vinegar, dry mustard, fresh dill; Calories: 921.1; Fat Content: 76.5; Saturated Fat Content: 9.6; Cholesterol Content: 0.0; Sodium Content: 935.7; Carbohydrate Content: 58.6; Fiber Content: 3.4; Sugar Content: 53.0; Protein Content: 4.5; Recipe Servings: nan; Recipe Instructions: Whisk first 4 ingredients in bowl. Gradually whisk in oil. Stir in dill. Cover and chill.; Recipe Time Category: Medium',\n"]
     },
     "execution_count": 40,
     "metadata": {},
     "output_type": "execute_result"
    }
   ],
   "source": [
    "texts = vegan_recipes[\"merged_text\"].to_list()\n",
    "texts"
   ]
  },
  {
   "cell_type": "code",
   "execution_count": 2,
   "metadata": {},
   "outputs": [],
   "source": [
    "from IPython.display import clear_output\n",
    "clear_output(wait=True)"
   ]
  },
  {
   "cell_type": "code",
   "execution_count": 42,
   "metadata": {
    "collapsed": true,
    "execution": {
     "iopub.execute_input": "2025-02-02T13:36:47.471411Z",
     "iopub.status.busy": "2025-02-02T13:36:47.471123Z",
     "iopub.status.idle": "2025-02-02T13:36:47.498743Z",
     "shell.execute_reply": "2025-02-02T13:36:47.497925Z",
     "shell.execute_reply.started": "2025-02-02T13:36:47.471388Z"
    },
    "jupyter": {
     "outputs_hidden": true
    },
    "trusted": true
   },
   "outputs": [
    {
     "data": {
      "text/html": [
       "<div>\n",
       "<style scoped>\n",
       "    .dataframe tbody tr th:only-of-type {\n",
       "        vertical-align: middle;\n",
       "    }\n",
       "\n",
       "    .dataframe tbody tr th {\n",
       "        vertical-align: top;\n",
       "    }\n",
       "\n",
       "    .dataframe thead th {\n",
       "        text-align: right;\n",
       "    }\n",
       "</style>\n",
       "<table border=\"1\" class=\"dataframe\">\n",
       "  <thead>\n",
       "    <tr style=\"text-align: right;\">\n",
       "      <th></th>\n",
       "      <th>RecipeId</th>\n",
       "      <th>Name</th>\n",
       "      <th>CookingTimeMinutes</th>\n",
       "      <th>PreparationTimeMinutes</th>\n",
       "      <th>TotalRecipeMinutes</th>\n",
       "      <th>Description</th>\n",
       "      <th>RecipeCategory</th>\n",
       "      <th>Keywords</th>\n",
       "      <th>RecipeIngredientQuantities</th>\n",
       "      <th>RecipeIngredientParts</th>\n",
       "      <th>AggregatedRating</th>\n",
       "      <th>ReviewCount</th>\n",
       "      <th>Calories</th>\n",
       "      <th>FatContent</th>\n",
       "      <th>SaturatedFatContent</th>\n",
       "      <th>CholesterolContent</th>\n",
       "      <th>SodiumContent</th>\n",
       "      <th>CarbohydrateContent</th>\n",
       "      <th>FiberContent</th>\n",
       "      <th>SugarContent</th>\n",
       "      <th>ProteinContent</th>\n",
       "      <th>RecipeServings</th>\n",
       "      <th>RecipeTimeCategory</th>\n",
       "    </tr>\n",
       "  </thead>\n",
       "  <tbody>\n",
       "    <tr>\n",
       "      <th>4</th>\n",
       "      <td>42</td>\n",
       "      <td>Cabbage Soup</td>\n",
       "      <td>30</td>\n",
       "      <td>20</td>\n",
       "      <td>50</td>\n",
       "      <td>Description not provided. Please generate a de...</td>\n",
       "      <td>Vegetable</td>\n",
       "      <td>Low Protein, Vegan, Low Cholesterol, Healthy, ...</td>\n",
       "      <td>46, 4, 1, 2, 1</td>\n",
       "      <td>plain tomato juice, cabbage, onion, carrots, c...</td>\n",
       "      <td>4.5</td>\n",
       "      <td>11.0</td>\n",
       "      <td>103.6</td>\n",
       "      <td>0.4</td>\n",
       "      <td>0.1</td>\n",
       "      <td>0.0</td>\n",
       "      <td>959.3</td>\n",
       "      <td>25.1</td>\n",
       "      <td>4.8</td>\n",
       "      <td>17.7</td>\n",
       "      <td>4.3</td>\n",
       "      <td>4.0</td>\n",
       "      <td>Medium</td>\n",
       "    </tr>\n",
       "    <tr>\n",
       "      <th>50</th>\n",
       "      <td>90</td>\n",
       "      <td>Almond Paste</td>\n",
       "      <td>10080</td>\n",
       "      <td>15</td>\n",
       "      <td>10095</td>\n",
       "      <td>Description not provided. Please generate a de...</td>\n",
       "      <td>Dessert</td>\n",
       "      <td>Fruit, Nuts, Lactose Free, Vegan, Low Choleste...</td>\n",
       "      <td>1, 3, 1, 2</td>\n",
       "      <td>fresh lemon juice, water, sugar</td>\n",
       "      <td>4.0</td>\n",
       "      <td>2.0</td>\n",
       "      <td>2123.5</td>\n",
       "      <td>119.8</td>\n",
       "      <td>9.0</td>\n",
       "      <td>0.0</td>\n",
       "      <td>49.1</td>\n",
       "      <td>244.0</td>\n",
       "      <td>22.6</td>\n",
       "      <td>210.7</td>\n",
       "      <td>48.9</td>\n",
       "      <td>NaN</td>\n",
       "      <td>Very Long</td>\n",
       "    </tr>\n",
       "    <tr>\n",
       "      <th>88</th>\n",
       "      <td>133</td>\n",
       "      <td>Blueberry Pancake Syrup</td>\n",
       "      <td>36</td>\n",
       "      <td>50</td>\n",
       "      <td>86</td>\n",
       "      <td>I've made this blueberry syrup several times, ...</td>\n",
       "      <td>Sauces</td>\n",
       "      <td>Breakfast, Dessert, Berries, Fruit, Vegan, Fre...</td>\n",
       "      <td>4, 3, 2, 3, NA</td>\n",
       "      <td>blueberries, water, lemons, rind of, sugar, le...</td>\n",
       "      <td>5.0</td>\n",
       "      <td>4.0</td>\n",
       "      <td>1329.7</td>\n",
       "      <td>1.0</td>\n",
       "      <td>0.1</td>\n",
       "      <td>0.0</td>\n",
       "      <td>16.6</td>\n",
       "      <td>342.8</td>\n",
       "      <td>7.1</td>\n",
       "      <td>328.9</td>\n",
       "      <td>2.2</td>\n",
       "      <td>NaN</td>\n",
       "      <td>Long</td>\n",
       "    </tr>\n",
       "    <tr>\n",
       "      <th>135</th>\n",
       "      <td>182</td>\n",
       "      <td>Low-Fat Apple &amp; Apricot</td>\n",
       "      <td>20</td>\n",
       "      <td>20</td>\n",
       "      <td>40</td>\n",
       "      <td>Description not provided. Please generate a de...</td>\n",
       "      <td>Dessert</td>\n",
       "      <td>Apple, Fruit, Vegan, Free Of..., &lt; 30 Mins, Easy</td>\n",
       "      <td>20, 12, 1/2, 2, 1, 1, 1, 1, NA</td>\n",
       "      <td>raisins, dried currant, lemon, rind of, cinnam...</td>\n",
       "      <td>0.0</td>\n",
       "      <td>0.0</td>\n",
       "      <td>164.5</td>\n",
       "      <td>0.3</td>\n",
       "      <td>0.0</td>\n",
       "      <td>0.0</td>\n",
       "      <td>7.9</td>\n",
       "      <td>42.4</td>\n",
       "      <td>2.5</td>\n",
       "      <td>35.5</td>\n",
       "      <td>1.4</td>\n",
       "      <td>4.0</td>\n",
       "      <td>Medium</td>\n",
       "    </tr>\n",
       "    <tr>\n",
       "      <th>194</th>\n",
       "      <td>248</td>\n",
       "      <td>Mustard Dill Sauce I</td>\n",
       "      <td>30</td>\n",
       "      <td>30</td>\n",
       "      <td>60</td>\n",
       "      <td>Description not provided. Please generate a de...</td>\n",
       "      <td>Low Protein</td>\n",
       "      <td>\"&lt; 30 Mins\"</td>\n",
       "      <td>1/2, 6, 1/4, 2, 1/2, 6</td>\n",
       "      <td>spicy brown mustard, sugar, distilled white vi...</td>\n",
       "      <td>0.0</td>\n",
       "      <td>0.0</td>\n",
       "      <td>921.1</td>\n",
       "      <td>76.5</td>\n",
       "      <td>9.6</td>\n",
       "      <td>0.0</td>\n",
       "      <td>935.7</td>\n",
       "      <td>58.6</td>\n",
       "      <td>3.4</td>\n",
       "      <td>53.0</td>\n",
       "      <td>4.5</td>\n",
       "      <td>NaN</td>\n",
       "      <td>Medium</td>\n",
       "    </tr>\n",
       "  </tbody>\n",
       "</table>\n",
       "</div>"
      ],
      "text/plain": [
       "     RecipeId                     Name  CookingTimeMinutes  \\\n",
       "4          42             Cabbage Soup                  30   \n",
       "50         90             Almond Paste               10080   \n",
       "88        133  Blueberry Pancake Syrup                  36   \n",
       "135       182  Low-Fat Apple & Apricot                  20   \n",
       "194       248     Mustard Dill Sauce I                  30   \n",
       "\n",
       "     PreparationTimeMinutes  TotalRecipeMinutes  \\\n",
       "4                        20                  50   \n",
       "50                       15               10095   \n",
       "88                       50                  86   \n",
       "135                      20                  40   \n",
       "194                      30                  60   \n",
       "\n",
       "                                           Description RecipeCategory  \\\n",
       "4    Description not provided. Please generate a de...      Vegetable   \n",
       "50   Description not provided. Please generate a de...        Dessert   \n",
       "88   I've made this blueberry syrup several times, ...         Sauces   \n",
       "135  Description not provided. Please generate a de...        Dessert   \n",
       "194  Description not provided. Please generate a de...    Low Protein   \n",
       "\n",
       "                                              Keywords  \\\n",
       "4    Low Protein, Vegan, Low Cholesterol, Healthy, ...   \n",
       "50   Fruit, Nuts, Lactose Free, Vegan, Low Choleste...   \n",
       "88   Breakfast, Dessert, Berries, Fruit, Vegan, Fre...   \n",
       "135   Apple, Fruit, Vegan, Free Of..., < 30 Mins, Easy   \n",
       "194                                        \"< 30 Mins\"   \n",
       "\n",
       "         RecipeIngredientQuantities  \\\n",
       "4                    46, 4, 1, 2, 1   \n",
       "50                       1, 3, 1, 2   \n",
       "88                   4, 3, 2, 3, NA   \n",
       "135  20, 12, 1/2, 2, 1, 1, 1, 1, NA   \n",
       "194          1/2, 6, 1/4, 2, 1/2, 6   \n",
       "\n",
       "                                 RecipeIngredientParts  AggregatedRating  \\\n",
       "4    plain tomato juice, cabbage, onion, carrots, c...               4.5   \n",
       "50                     fresh lemon juice, water, sugar               4.0   \n",
       "88   blueberries, water, lemons, rind of, sugar, le...               5.0   \n",
       "135  raisins, dried currant, lemon, rind of, cinnam...               0.0   \n",
       "194  spicy brown mustard, sugar, distilled white vi...               0.0   \n",
       "\n",
       "     ReviewCount  Calories  FatContent  SaturatedFatContent  \\\n",
       "4           11.0     103.6         0.4                  0.1   \n",
       "50           2.0    2123.5       119.8                  9.0   \n",
       "88           4.0    1329.7         1.0                  0.1   \n",
       "135          0.0     164.5         0.3                  0.0   \n",
       "194          0.0     921.1        76.5                  9.6   \n",
       "\n",
       "     CholesterolContent  SodiumContent  CarbohydrateContent  FiberContent  \\\n",
       "4                   0.0          959.3                 25.1           4.8   \n",
       "50                  0.0           49.1                244.0          22.6   \n",
       "88                  0.0           16.6                342.8           7.1   \n",
       "135                 0.0            7.9                 42.4           2.5   \n",
       "194                 0.0          935.7                 58.6           3.4   \n",
       "\n",
       "     SugarContent  ProteinContent  RecipeServings RecipeTimeCategory  \n",
       "4            17.7             4.3             4.0             Medium  \n",
       "50          210.7            48.9             NaN          Very Long  \n",
       "88          328.9             2.2             NaN               Long  \n",
       "135          35.5             1.4             4.0             Medium  \n",
       "194          53.0             4.5             NaN             Medium  "
      ]
     },
     "execution_count": 42,
     "metadata": {},
     "output_type": "execute_result"
    }
   ],
   "source": [
    "metadata = vegan_recipes.iloc[:,[0, 1, 3, 4, 5, 6, 7, 8, 9, 10, 11, 12, 13, 14, 15, 16, 17, 18, 19, 20, 21, 22, 24]]\n",
    "metadata.head()"
   ]
  },
  {
   "cell_type": "code",
   "execution_count": 64,
   "metadata": {
    "execution": {
     "iopub.execute_input": "2025-02-02T15:25:52.619280Z",
     "iopub.status.busy": "2025-02-02T15:25:52.618985Z",
     "iopub.status.idle": "2025-02-02T15:25:52.695190Z",
     "shell.execute_reply": "2025-02-02T15:25:52.694496Z",
     "shell.execute_reply.started": "2025-02-02T15:25:52.619258Z"
    },
    "trusted": true
   },
   "outputs": [
    {
     "data": {
      "text/html": [
       "<div>\n",
       "<style scoped>\n",
       "    .dataframe tbody tr th:only-of-type {\n",
       "        vertical-align: middle;\n",
       "    }\n",
       "\n",
       "    .dataframe tbody tr th {\n",
       "        vertical-align: top;\n",
       "    }\n",
       "\n",
       "    .dataframe thead th {\n",
       "        text-align: right;\n",
       "    }\n",
       "</style>\n",
       "<table border=\"1\" class=\"dataframe\">\n",
       "  <thead>\n",
       "    <tr style=\"text-align: right;\">\n",
       "      <th></th>\n",
       "      <th>RecipeId</th>\n",
       "      <th>Name</th>\n",
       "      <th>CookingTimeMinutes</th>\n",
       "      <th>PreparationTimeMinutes</th>\n",
       "      <th>TotalRecipeMinutes</th>\n",
       "      <th>Description</th>\n",
       "      <th>RecipeCategory</th>\n",
       "      <th>Keywords</th>\n",
       "      <th>RecipeIngredientQuantities</th>\n",
       "      <th>RecipeIngredientParts</th>\n",
       "      <th>AggregatedRating</th>\n",
       "      <th>ReviewCount</th>\n",
       "      <th>Calories</th>\n",
       "      <th>FatContent</th>\n",
       "      <th>SaturatedFatContent</th>\n",
       "      <th>CholesterolContent</th>\n",
       "      <th>SodiumContent</th>\n",
       "      <th>CarbohydrateContent</th>\n",
       "      <th>FiberContent</th>\n",
       "      <th>SugarContent</th>\n",
       "      <th>ProteinContent</th>\n",
       "      <th>RecipeServings</th>\n",
       "      <th>RecipeTimeCategory</th>\n",
       "      <th>Review</th>\n",
       "    </tr>\n",
       "  </thead>\n",
       "  <tbody>\n",
       "    <tr>\n",
       "      <th>0</th>\n",
       "      <td>42</td>\n",
       "      <td>Cabbage Soup</td>\n",
       "      <td>30</td>\n",
       "      <td>20</td>\n",
       "      <td>50</td>\n",
       "      <td>Description not provided. Please generate a de...</td>\n",
       "      <td>Vegetable</td>\n",
       "      <td>Low Protein, Vegan, Low Cholesterol, Healthy, ...</td>\n",
       "      <td>46, 4, 1, 2, 1</td>\n",
       "      <td>plain tomato juice, cabbage, onion, carrots, c...</td>\n",
       "      <td>4.5</td>\n",
       "      <td>11.0</td>\n",
       "      <td>103.6</td>\n",
       "      <td>0.4</td>\n",
       "      <td>0.1</td>\n",
       "      <td>0.0</td>\n",
       "      <td>959.3</td>\n",
       "      <td>25.1</td>\n",
       "      <td>4.8</td>\n",
       "      <td>17.7</td>\n",
       "      <td>4.3</td>\n",
       "      <td>4.0</td>\n",
       "      <td>Medium</td>\n",
       "      <td>This is a very good soup.  We served ours warm...</td>\n",
       "    </tr>\n",
       "    <tr>\n",
       "      <th>1</th>\n",
       "      <td>90</td>\n",
       "      <td>Almond Paste</td>\n",
       "      <td>10080</td>\n",
       "      <td>15</td>\n",
       "      <td>10095</td>\n",
       "      <td>Description not provided. Please generate a de...</td>\n",
       "      <td>Dessert</td>\n",
       "      <td>Fruit, Nuts, Lactose Free, Vegan, Low Choleste...</td>\n",
       "      <td>1, 3, 1, 2</td>\n",
       "      <td>fresh lemon juice, water, sugar</td>\n",
       "      <td>4.0</td>\n",
       "      <td>2.0</td>\n",
       "      <td>2123.5</td>\n",
       "      <td>119.8</td>\n",
       "      <td>9.0</td>\n",
       "      <td>0.0</td>\n",
       "      <td>49.1</td>\n",
       "      <td>244.0</td>\n",
       "      <td>22.6</td>\n",
       "      <td>210.7</td>\n",
       "      <td>48.9</td>\n",
       "      <td>NaN</td>\n",
       "      <td>Very Long</td>\n",
       "      <td>I liked this recipe very much.  I would recomm...</td>\n",
       "    </tr>\n",
       "    <tr>\n",
       "      <th>2</th>\n",
       "      <td>133</td>\n",
       "      <td>Blueberry Pancake Syrup</td>\n",
       "      <td>36</td>\n",
       "      <td>50</td>\n",
       "      <td>86</td>\n",
       "      <td>I've made this blueberry syrup several times, ...</td>\n",
       "      <td>Sauces</td>\n",
       "      <td>Breakfast, Dessert, Berries, Fruit, Vegan, Fre...</td>\n",
       "      <td>4, 3, 2, 3, NA</td>\n",
       "      <td>blueberries, water, lemons, rind of, sugar, le...</td>\n",
       "      <td>5.0</td>\n",
       "      <td>4.0</td>\n",
       "      <td>1329.7</td>\n",
       "      <td>1.0</td>\n",
       "      <td>0.1</td>\n",
       "      <td>0.0</td>\n",
       "      <td>16.6</td>\n",
       "      <td>342.8</td>\n",
       "      <td>7.1</td>\n",
       "      <td>328.9</td>\n",
       "      <td>2.2</td>\n",
       "      <td>NaN</td>\n",
       "      <td>Long</td>\n",
       "      <td>this was wonderful - canned it in pints for fu...</td>\n",
       "    </tr>\n",
       "    <tr>\n",
       "      <th>3</th>\n",
       "      <td>182</td>\n",
       "      <td>Low-Fat Apple &amp; Apricot</td>\n",
       "      <td>20</td>\n",
       "      <td>20</td>\n",
       "      <td>40</td>\n",
       "      <td>Description not provided. Please generate a de...</td>\n",
       "      <td>Dessert</td>\n",
       "      <td>Apple, Fruit, Vegan, Free Of..., &lt; 30 Mins, Easy</td>\n",
       "      <td>20, 12, 1/2, 2, 1, 1, 1, 1, NA</td>\n",
       "      <td>raisins, dried currant, lemon, rind of, cinnam...</td>\n",
       "      <td>0.0</td>\n",
       "      <td>0.0</td>\n",
       "      <td>164.5</td>\n",
       "      <td>0.3</td>\n",
       "      <td>0.0</td>\n",
       "      <td>0.0</td>\n",
       "      <td>7.9</td>\n",
       "      <td>42.4</td>\n",
       "      <td>2.5</td>\n",
       "      <td>35.5</td>\n",
       "      <td>1.4</td>\n",
       "      <td>4.0</td>\n",
       "      <td>Medium</td>\n",
       "      <td>NaN</td>\n",
       "    </tr>\n",
       "    <tr>\n",
       "      <th>4</th>\n",
       "      <td>248</td>\n",
       "      <td>Mustard Dill Sauce I</td>\n",
       "      <td>30</td>\n",
       "      <td>30</td>\n",
       "      <td>60</td>\n",
       "      <td>Description not provided. Please generate a de...</td>\n",
       "      <td>Low Protein</td>\n",
       "      <td>\"&lt; 30 Mins\"</td>\n",
       "      <td>1/2, 6, 1/4, 2, 1/2, 6</td>\n",
       "      <td>spicy brown mustard, sugar, distilled white vi...</td>\n",
       "      <td>0.0</td>\n",
       "      <td>0.0</td>\n",
       "      <td>921.1</td>\n",
       "      <td>76.5</td>\n",
       "      <td>9.6</td>\n",
       "      <td>0.0</td>\n",
       "      <td>935.7</td>\n",
       "      <td>58.6</td>\n",
       "      <td>3.4</td>\n",
       "      <td>53.0</td>\n",
       "      <td>4.5</td>\n",
       "      <td>NaN</td>\n",
       "      <td>Medium</td>\n",
       "      <td>NaN</td>\n",
       "    </tr>\n",
       "  </tbody>\n",
       "</table>\n",
       "</div>"
      ],
      "text/plain": [
       "   RecipeId                     Name  CookingTimeMinutes  \\\n",
       "0        42             Cabbage Soup                  30   \n",
       "1        90             Almond Paste               10080   \n",
       "2       133  Blueberry Pancake Syrup                  36   \n",
       "3       182  Low-Fat Apple & Apricot                  20   \n",
       "4       248     Mustard Dill Sauce I                  30   \n",
       "\n",
       "   PreparationTimeMinutes  TotalRecipeMinutes  \\\n",
       "0                      20                  50   \n",
       "1                      15               10095   \n",
       "2                      50                  86   \n",
       "3                      20                  40   \n",
       "4                      30                  60   \n",
       "\n",
       "                                         Description RecipeCategory  \\\n",
       "0  Description not provided. Please generate a de...      Vegetable   \n",
       "1  Description not provided. Please generate a de...        Dessert   \n",
       "2  I've made this blueberry syrup several times, ...         Sauces   \n",
       "3  Description not provided. Please generate a de...        Dessert   \n",
       "4  Description not provided. Please generate a de...    Low Protein   \n",
       "\n",
       "                                            Keywords  \\\n",
       "0  Low Protein, Vegan, Low Cholesterol, Healthy, ...   \n",
       "1  Fruit, Nuts, Lactose Free, Vegan, Low Choleste...   \n",
       "2  Breakfast, Dessert, Berries, Fruit, Vegan, Fre...   \n",
       "3   Apple, Fruit, Vegan, Free Of..., < 30 Mins, Easy   \n",
       "4                                        \"< 30 Mins\"   \n",
       "\n",
       "       RecipeIngredientQuantities  \\\n",
       "0                  46, 4, 1, 2, 1   \n",
       "1                      1, 3, 1, 2   \n",
       "2                  4, 3, 2, 3, NA   \n",
       "3  20, 12, 1/2, 2, 1, 1, 1, 1, NA   \n",
       "4          1/2, 6, 1/4, 2, 1/2, 6   \n",
       "\n",
       "                               RecipeIngredientParts  AggregatedRating  \\\n",
       "0  plain tomato juice, cabbage, onion, carrots, c...               4.5   \n",
       "1                    fresh lemon juice, water, sugar               4.0   \n",
       "2  blueberries, water, lemons, rind of, sugar, le...               5.0   \n",
       "3  raisins, dried currant, lemon, rind of, cinnam...               0.0   \n",
       "4  spicy brown mustard, sugar, distilled white vi...               0.0   \n",
       "\n",
       "   ReviewCount  Calories  FatContent  SaturatedFatContent  CholesterolContent  \\\n",
       "0         11.0     103.6         0.4                  0.1                 0.0   \n",
       "1          2.0    2123.5       119.8                  9.0                 0.0   \n",
       "2          4.0    1329.7         1.0                  0.1                 0.0   \n",
       "3          0.0     164.5         0.3                  0.0                 0.0   \n",
       "4          0.0     921.1        76.5                  9.6                 0.0   \n",
       "\n",
       "   SodiumContent  CarbohydrateContent  FiberContent  SugarContent  \\\n",
       "0          959.3                 25.1           4.8          17.7   \n",
       "1           49.1                244.0          22.6         210.7   \n",
       "2           16.6                342.8           7.1         328.9   \n",
       "3            7.9                 42.4           2.5          35.5   \n",
       "4          935.7                 58.6           3.4          53.0   \n",
       "\n",
       "   ProteinContent  RecipeServings RecipeTimeCategory  \\\n",
       "0             4.3             4.0             Medium   \n",
       "1            48.9             NaN          Very Long   \n",
       "2             2.2             NaN               Long   \n",
       "3             1.4             4.0             Medium   \n",
       "4             4.5             NaN             Medium   \n",
       "\n",
       "                                              Review  \n",
       "0  This is a very good soup.  We served ours warm...  \n",
       "1  I liked this recipe very much.  I would recomm...  \n",
       "2  this was wonderful - canned it in pints for fu...  \n",
       "3                                                NaN  \n",
       "4                                                NaN  "
      ]
     },
     "execution_count": 64,
     "metadata": {},
     "output_type": "execute_result"
    }
   ],
   "source": [
    "metadata_with_reviews = pd.merge(metadata, reviews_df[['RecipeId', 'Review']], on='RecipeId', how='left')\n",
    "metadata_with_reviews.head()"
   ]
  },
  {
   "cell_type": "code",
   "execution_count": 66,
   "metadata": {
    "execution": {
     "iopub.execute_input": "2025-02-02T15:26:02.750089Z",
     "iopub.status.busy": "2025-02-02T15:26:02.749791Z",
     "iopub.status.idle": "2025-02-02T15:26:02.757927Z",
     "shell.execute_reply": "2025-02-02T15:26:02.757065Z",
     "shell.execute_reply.started": "2025-02-02T15:26:02.750066Z"
    },
    "trusted": true
   },
   "outputs": [
    {
     "data": {
      "text/plain": [
       "0"
      ]
     },
     "execution_count": 66,
     "metadata": {},
     "output_type": "execute_result"
    }
   ],
   "source": [
    "metadata_with_reviews['Review'].isna().sum()"
   ]
  },
  {
   "cell_type": "code",
   "execution_count": 65,
   "metadata": {
    "execution": {
     "iopub.execute_input": "2025-02-02T15:25:59.098265Z",
     "iopub.status.busy": "2025-02-02T15:25:59.097976Z",
     "iopub.status.idle": "2025-02-02T15:25:59.105765Z",
     "shell.execute_reply": "2025-02-02T15:25:59.104987Z",
     "shell.execute_reply.started": "2025-02-02T15:25:59.098243Z"
    },
    "trusted": true
   },
   "outputs": [],
   "source": [
    "metadata_with_reviews['Review'].fillna('No reviews', inplace=True)"
   ]
  },
  {
   "cell_type": "code",
   "execution_count": 67,
   "metadata": {
    "execution": {
     "iopub.execute_input": "2025-02-02T15:26:04.685753Z",
     "iopub.status.busy": "2025-02-02T15:26:04.685473Z",
     "iopub.status.idle": "2025-02-02T15:26:04.705772Z",
     "shell.execute_reply": "2025-02-02T15:26:04.704959Z",
     "shell.execute_reply.started": "2025-02-02T15:26:04.685730Z"
    },
    "trusted": true
   },
   "outputs": [
    {
     "data": {
      "text/html": [
       "<div>\n",
       "<style scoped>\n",
       "    .dataframe tbody tr th:only-of-type {\n",
       "        vertical-align: middle;\n",
       "    }\n",
       "\n",
       "    .dataframe tbody tr th {\n",
       "        vertical-align: top;\n",
       "    }\n",
       "\n",
       "    .dataframe thead th {\n",
       "        text-align: right;\n",
       "    }\n",
       "</style>\n",
       "<table border=\"1\" class=\"dataframe\">\n",
       "  <thead>\n",
       "    <tr style=\"text-align: right;\">\n",
       "      <th></th>\n",
       "      <th>RecipeId</th>\n",
       "      <th>Name</th>\n",
       "      <th>CookingTimeMinutes</th>\n",
       "      <th>PreparationTimeMinutes</th>\n",
       "      <th>TotalRecipeMinutes</th>\n",
       "      <th>Description</th>\n",
       "      <th>RecipeCategory</th>\n",
       "      <th>Keywords</th>\n",
       "      <th>RecipeIngredientQuantities</th>\n",
       "      <th>RecipeIngredientParts</th>\n",
       "      <th>AggregatedRating</th>\n",
       "      <th>ReviewCount</th>\n",
       "      <th>Calories</th>\n",
       "      <th>FatContent</th>\n",
       "      <th>SaturatedFatContent</th>\n",
       "      <th>CholesterolContent</th>\n",
       "      <th>SodiumContent</th>\n",
       "      <th>CarbohydrateContent</th>\n",
       "      <th>FiberContent</th>\n",
       "      <th>SugarContent</th>\n",
       "      <th>ProteinContent</th>\n",
       "      <th>RecipeServings</th>\n",
       "      <th>RecipeTimeCategory</th>\n",
       "      <th>Review</th>\n",
       "    </tr>\n",
       "  </thead>\n",
       "  <tbody>\n",
       "    <tr>\n",
       "      <th>0</th>\n",
       "      <td>42</td>\n",
       "      <td>Cabbage Soup</td>\n",
       "      <td>30</td>\n",
       "      <td>20</td>\n",
       "      <td>50</td>\n",
       "      <td>Description not provided. Please generate a de...</td>\n",
       "      <td>Vegetable</td>\n",
       "      <td>Low Protein, Vegan, Low Cholesterol, Healthy, ...</td>\n",
       "      <td>46, 4, 1, 2, 1</td>\n",
       "      <td>plain tomato juice, cabbage, onion, carrots, c...</td>\n",
       "      <td>4.5</td>\n",
       "      <td>11.0</td>\n",
       "      <td>103.6</td>\n",
       "      <td>0.4</td>\n",
       "      <td>0.1</td>\n",
       "      <td>0.0</td>\n",
       "      <td>959.3</td>\n",
       "      <td>25.1</td>\n",
       "      <td>4.8</td>\n",
       "      <td>17.7</td>\n",
       "      <td>4.3</td>\n",
       "      <td>4.0</td>\n",
       "      <td>Medium</td>\n",
       "      <td>This is a very good soup.  We served ours warm...</td>\n",
       "    </tr>\n",
       "    <tr>\n",
       "      <th>1</th>\n",
       "      <td>90</td>\n",
       "      <td>Almond Paste</td>\n",
       "      <td>10080</td>\n",
       "      <td>15</td>\n",
       "      <td>10095</td>\n",
       "      <td>Description not provided. Please generate a de...</td>\n",
       "      <td>Dessert</td>\n",
       "      <td>Fruit, Nuts, Lactose Free, Vegan, Low Choleste...</td>\n",
       "      <td>1, 3, 1, 2</td>\n",
       "      <td>fresh lemon juice, water, sugar</td>\n",
       "      <td>4.0</td>\n",
       "      <td>2.0</td>\n",
       "      <td>2123.5</td>\n",
       "      <td>119.8</td>\n",
       "      <td>9.0</td>\n",
       "      <td>0.0</td>\n",
       "      <td>49.1</td>\n",
       "      <td>244.0</td>\n",
       "      <td>22.6</td>\n",
       "      <td>210.7</td>\n",
       "      <td>48.9</td>\n",
       "      <td>NaN</td>\n",
       "      <td>Very Long</td>\n",
       "      <td>I liked this recipe very much.  I would recomm...</td>\n",
       "    </tr>\n",
       "    <tr>\n",
       "      <th>2</th>\n",
       "      <td>133</td>\n",
       "      <td>Blueberry Pancake Syrup</td>\n",
       "      <td>36</td>\n",
       "      <td>50</td>\n",
       "      <td>86</td>\n",
       "      <td>I've made this blueberry syrup several times, ...</td>\n",
       "      <td>Sauces</td>\n",
       "      <td>Breakfast, Dessert, Berries, Fruit, Vegan, Fre...</td>\n",
       "      <td>4, 3, 2, 3, NA</td>\n",
       "      <td>blueberries, water, lemons, rind of, sugar, le...</td>\n",
       "      <td>5.0</td>\n",
       "      <td>4.0</td>\n",
       "      <td>1329.7</td>\n",
       "      <td>1.0</td>\n",
       "      <td>0.1</td>\n",
       "      <td>0.0</td>\n",
       "      <td>16.6</td>\n",
       "      <td>342.8</td>\n",
       "      <td>7.1</td>\n",
       "      <td>328.9</td>\n",
       "      <td>2.2</td>\n",
       "      <td>NaN</td>\n",
       "      <td>Long</td>\n",
       "      <td>this was wonderful - canned it in pints for fu...</td>\n",
       "    </tr>\n",
       "    <tr>\n",
       "      <th>3</th>\n",
       "      <td>182</td>\n",
       "      <td>Low-Fat Apple &amp; Apricot</td>\n",
       "      <td>20</td>\n",
       "      <td>20</td>\n",
       "      <td>40</td>\n",
       "      <td>Description not provided. Please generate a de...</td>\n",
       "      <td>Dessert</td>\n",
       "      <td>Apple, Fruit, Vegan, Free Of..., &lt; 30 Mins, Easy</td>\n",
       "      <td>20, 12, 1/2, 2, 1, 1, 1, 1, NA</td>\n",
       "      <td>raisins, dried currant, lemon, rind of, cinnam...</td>\n",
       "      <td>0.0</td>\n",
       "      <td>0.0</td>\n",
       "      <td>164.5</td>\n",
       "      <td>0.3</td>\n",
       "      <td>0.0</td>\n",
       "      <td>0.0</td>\n",
       "      <td>7.9</td>\n",
       "      <td>42.4</td>\n",
       "      <td>2.5</td>\n",
       "      <td>35.5</td>\n",
       "      <td>1.4</td>\n",
       "      <td>4.0</td>\n",
       "      <td>Medium</td>\n",
       "      <td>No reviews</td>\n",
       "    </tr>\n",
       "    <tr>\n",
       "      <th>4</th>\n",
       "      <td>248</td>\n",
       "      <td>Mustard Dill Sauce I</td>\n",
       "      <td>30</td>\n",
       "      <td>30</td>\n",
       "      <td>60</td>\n",
       "      <td>Description not provided. Please generate a de...</td>\n",
       "      <td>Low Protein</td>\n",
       "      <td>\"&lt; 30 Mins\"</td>\n",
       "      <td>1/2, 6, 1/4, 2, 1/2, 6</td>\n",
       "      <td>spicy brown mustard, sugar, distilled white vi...</td>\n",
       "      <td>0.0</td>\n",
       "      <td>0.0</td>\n",
       "      <td>921.1</td>\n",
       "      <td>76.5</td>\n",
       "      <td>9.6</td>\n",
       "      <td>0.0</td>\n",
       "      <td>935.7</td>\n",
       "      <td>58.6</td>\n",
       "      <td>3.4</td>\n",
       "      <td>53.0</td>\n",
       "      <td>4.5</td>\n",
       "      <td>NaN</td>\n",
       "      <td>Medium</td>\n",
       "      <td>No reviews</td>\n",
       "    </tr>\n",
       "  </tbody>\n",
       "</table>\n",
       "</div>"
      ],
      "text/plain": [
       "   RecipeId                     Name  CookingTimeMinutes  \\\n",
       "0        42             Cabbage Soup                  30   \n",
       "1        90             Almond Paste               10080   \n",
       "2       133  Blueberry Pancake Syrup                  36   \n",
       "3       182  Low-Fat Apple & Apricot                  20   \n",
       "4       248     Mustard Dill Sauce I                  30   \n",
       "\n",
       "   PreparationTimeMinutes  TotalRecipeMinutes  \\\n",
       "0                      20                  50   \n",
       "1                      15               10095   \n",
       "2                      50                  86   \n",
       "3                      20                  40   \n",
       "4                      30                  60   \n",
       "\n",
       "                                         Description RecipeCategory  \\\n",
       "0  Description not provided. Please generate a de...      Vegetable   \n",
       "1  Description not provided. Please generate a de...        Dessert   \n",
       "2  I've made this blueberry syrup several times, ...         Sauces   \n",
       "3  Description not provided. Please generate a de...        Dessert   \n",
       "4  Description not provided. Please generate a de...    Low Protein   \n",
       "\n",
       "                                            Keywords  \\\n",
       "0  Low Protein, Vegan, Low Cholesterol, Healthy, ...   \n",
       "1  Fruit, Nuts, Lactose Free, Vegan, Low Choleste...   \n",
       "2  Breakfast, Dessert, Berries, Fruit, Vegan, Fre...   \n",
       "3   Apple, Fruit, Vegan, Free Of..., < 30 Mins, Easy   \n",
       "4                                        \"< 30 Mins\"   \n",
       "\n",
       "       RecipeIngredientQuantities  \\\n",
       "0                  46, 4, 1, 2, 1   \n",
       "1                      1, 3, 1, 2   \n",
       "2                  4, 3, 2, 3, NA   \n",
       "3  20, 12, 1/2, 2, 1, 1, 1, 1, NA   \n",
       "4          1/2, 6, 1/4, 2, 1/2, 6   \n",
       "\n",
       "                               RecipeIngredientParts  AggregatedRating  \\\n",
       "0  plain tomato juice, cabbage, onion, carrots, c...               4.5   \n",
       "1                    fresh lemon juice, water, sugar               4.0   \n",
       "2  blueberries, water, lemons, rind of, sugar, le...               5.0   \n",
       "3  raisins, dried currant, lemon, rind of, cinnam...               0.0   \n",
       "4  spicy brown mustard, sugar, distilled white vi...               0.0   \n",
       "\n",
       "   ReviewCount  Calories  FatContent  SaturatedFatContent  CholesterolContent  \\\n",
       "0         11.0     103.6         0.4                  0.1                 0.0   \n",
       "1          2.0    2123.5       119.8                  9.0                 0.0   \n",
       "2          4.0    1329.7         1.0                  0.1                 0.0   \n",
       "3          0.0     164.5         0.3                  0.0                 0.0   \n",
       "4          0.0     921.1        76.5                  9.6                 0.0   \n",
       "\n",
       "   SodiumContent  CarbohydrateContent  FiberContent  SugarContent  \\\n",
       "0          959.3                 25.1           4.8          17.7   \n",
       "1           49.1                244.0          22.6         210.7   \n",
       "2           16.6                342.8           7.1         328.9   \n",
       "3            7.9                 42.4           2.5          35.5   \n",
       "4          935.7                 58.6           3.4          53.0   \n",
       "\n",
       "   ProteinContent  RecipeServings RecipeTimeCategory  \\\n",
       "0             4.3             4.0             Medium   \n",
       "1            48.9             NaN          Very Long   \n",
       "2             2.2             NaN               Long   \n",
       "3             1.4             4.0             Medium   \n",
       "4             4.5             NaN             Medium   \n",
       "\n",
       "                                              Review  \n",
       "0  This is a very good soup.  We served ours warm...  \n",
       "1  I liked this recipe very much.  I would recomm...  \n",
       "2  this was wonderful - canned it in pints for fu...  \n",
       "3                                         No reviews  \n",
       "4                                         No reviews  "
      ]
     },
     "execution_count": 67,
     "metadata": {},
     "output_type": "execute_result"
    }
   ],
   "source": [
    "metadata_with_reviews.head()"
   ]
  },
  {
   "cell_type": "markdown",
   "metadata": {},
   "source": [
    "# Main Dataset Embeddings"
   ]
  },
  {
   "cell_type": "code",
   "execution_count": 45,
   "metadata": {
    "execution": {
     "iopub.execute_input": "2025-02-02T13:37:13.580330Z",
     "iopub.status.busy": "2025-02-02T13:37:13.580018Z",
     "iopub.status.idle": "2025-02-02T13:37:14.755496Z",
     "shell.execute_reply": "2025-02-02T13:37:14.754565Z",
     "shell.execute_reply.started": "2025-02-02T13:37:13.580307Z"
    },
    "trusted": true
   },
   "outputs": [],
   "source": [
    "def report_gpu(): \n",
    "    print(torch.cuda.list_gpu_processes()) \n",
    "gc.collect() \n",
    "torch.cuda.empty_cache()"
   ]
  },
  {
   "cell_type": "code",
   "execution_count": 54,
   "metadata": {
    "execution": {
     "iopub.execute_input": "2025-02-02T11:07:18.313021Z",
     "iopub.status.busy": "2025-02-02T11:07:18.312632Z",
     "iopub.status.idle": "2025-02-02T11:07:26.164672Z",
     "shell.execute_reply": "2025-02-02T11:07:26.163936Z",
     "shell.execute_reply.started": "2025-02-02T11:07:18.312994Z"
    },
    "trusted": true
   },
   "outputs": [
    {
     "data": {
      "application/vnd.jupyter.widget-view+json": {
       "model_id": "fc68bcba319c4053870d23e4899305b0",
       "version_major": 2,
       "version_minor": 0
      },
      "text/plain": [
       "tokenizer_config.json:   0%|          | 0.00/48.0 [00:00<?, ?B/s]"
      ]
     },
     "metadata": {},
     "output_type": "display_data"
    },
    {
     "data": {
      "application/vnd.jupyter.widget-view+json": {
       "model_id": "6213a05c73ff43b08908edd28377fc1e",
       "version_major": 2,
       "version_minor": 0
      },
      "text/plain": [
       "config.json:   0%|          | 0.00/483 [00:00<?, ?B/s]"
      ]
     },
     "metadata": {},
     "output_type": "display_data"
    },
    {
     "data": {
      "application/vnd.jupyter.widget-view+json": {
       "model_id": "23ac7a56138544d9b1388151c85c518d",
       "version_major": 2,
       "version_minor": 0
      },
      "text/plain": [
       "vocab.txt:   0%|          | 0.00/232k [00:00<?, ?B/s]"
      ]
     },
     "metadata": {},
     "output_type": "display_data"
    },
    {
     "data": {
      "application/vnd.jupyter.widget-view+json": {
       "model_id": "3855a809a6ac4aceb5881f39c8063e7c",
       "version_major": 2,
       "version_minor": 0
      },
      "text/plain": [
       "tokenizer.json:   0%|          | 0.00/466k [00:00<?, ?B/s]"
      ]
     },
     "metadata": {},
     "output_type": "display_data"
    },
    {
     "name": "stderr",
     "output_type": "stream",
     "text": [
      "Token indices sequence length is longer than the specified maximum sequence length for this model (636 > 512). Running this sequence through the model will result in indexing errors\n"
     ]
    },
    {
     "data": {
      "text/plain": [
       "DescribeResult(nobs=17598, minmax=(165, 2063), mean=359.77236049551084, variance=13771.943972048926, skewness=2.1692397175070317, kurtosis=12.317848416833488)"
      ]
     },
     "execution_count": 54,
     "metadata": {},
     "output_type": "execute_result"
    }
   ],
   "source": [
    "tokenizer = AutoTokenizer.from_pretrained(\"distilbert-base-uncased\")\n",
    "\n",
    "tokenized_texts = tokenizer(texts, padding=False, truncation=False, return_tensors = None)\n",
    "\n",
    "lengths = [len(tokens) for tokens in tokenized_texts['input_ids']]\n",
    "\n",
    "describe(lengths)"
   ]
  },
  {
   "cell_type": "code",
   "execution_count": 55,
   "metadata": {
    "execution": {
     "iopub.execute_input": "2025-02-02T11:07:29.291290Z",
     "iopub.status.busy": "2025-02-02T11:07:29.290982Z",
     "iopub.status.idle": "2025-02-02T11:07:29.596828Z",
     "shell.execute_reply": "2025-02-02T11:07:29.595987Z",
     "shell.execute_reply.started": "2025-02-02T11:07:29.291265Z"
    },
    "trusted": true
   },
   "outputs": [
    {
     "data": {
      "image/png": "[encoded data removed]",
      "text/plain": [
       "<Figure size 600x300 with 1 Axes>"
      ]
     },
     "metadata": {},
     "output_type": "display_data"
    }
   ],
   "source": [
    "plt.figure(figsize=(6, 3))\n",
    "plt.hist(lengths, bins=20, color='skyblue', edgecolor='black', alpha=0.5) \n",
    "plt.title(\"Distribution of Text Lengths\", fontsize=10)\n",
    "plt.xlabel(\"Text Length (Number of Tokens)\", fontsize=10)\n",
    "plt.ylabel(\"Frequency\", fontsize=10)\n",
    "plt.grid(axis='y', linestyle='--', alpha=0.7)\n",
    "\n",
    "plt.show()"
   ]
  },
  {
   "cell_type": "code",
   "execution_count": 46,
   "metadata": {
    "collapsed": true,
    "execution": {
     "iopub.execute_input": "2025-02-02T13:37:22.657904Z",
     "iopub.status.busy": "2025-02-02T13:37:22.657605Z",
     "iopub.status.idle": "2025-02-02T15:04:57.625752Z",
     "shell.execute_reply": "2025-02-02T15:04:57.624977Z",
     "shell.execute_reply.started": "2025-02-02T13:37:22.657860Z"
    },
    "jupyter": {
     "outputs_hidden": true
    },
    "trusted": true
   },
   "outputs": [
    {
     "data": {
      "application/vnd.jupyter.widget-view+json": {
       "model_id": "0c07da8019924ea79a9f67263a8df9a8",
       "version_major": 2,
       "version_minor": 0
      },
      "text/plain": [
       "tokenizer_config.json:   0%|          | 0.00/48.0 [00:00<?, ?B/s]"
      ]
     },
     "metadata": {},
     "output_type": "display_data"
    },
    {
     "data": {
      "application/vnd.jupyter.widget-view+json": {
       "model_id": "c67529d94651440fab8fcb0ac9edfd5f",
       "version_major": 2,
       "version_minor": 0
      },
      "text/plain": [
       "vocab.txt:   0%|          | 0.00/232k [00:00<?, ?B/s]"
      ]
     },
     "metadata": {},
     "output_type": "display_data"
    },
    {
     "data": {
      "application/vnd.jupyter.widget-view+json": {
       "model_id": "113300fb87ba4d92917126acf098c69a",
       "version_major": 2,
       "version_minor": 0
      },
      "text/plain": [
       "tokenizer.json:   0%|          | 0.00/466k [00:00<?, ?B/s]"
      ]
     },
     "metadata": {},
     "output_type": "display_data"
    },
    {
     "data": {
      "application/vnd.jupyter.widget-view+json": {
       "model_id": "8666512d2f1e4d669b83ab54b0d29f20",
       "version_major": 2,
       "version_minor": 0
      },
      "text/plain": [
       "config.json:   0%|          | 0.00/483 [00:00<?, ?B/s]"
      ]
     },
     "metadata": {},
     "output_type": "display_data"
    },
    {
     "data": {
      "application/vnd.jupyter.widget-view+json": {
       "model_id": "4e8d9b416efe41398ee11a8d400df43f",
       "version_major": 2,
       "version_minor": 0
      },
      "text/plain": [
       "model.safetensors:   0%|          | 0.00/268M [00:00<?, ?B/s]"
      ]
     },
     "metadata": {},
     "output_type": "display_data"
    },
    {
     "name": "stdout",
     "output_type": "stream",
     "text": [
      "Processing batch 1 of 550\n",
      "Processing batch 2 of 550\n",
      "Processing batch 3 of 550\n",
      "Processing batch 4 of 550\n",
      "Processing batch 5 of 550\n",
      "Processing batch 550 of 550\n",
      "torch.Size([17598, 768])\n"
     ]
    }
   ],
   "source": [
    "tokenizer = DistilBertTokenizer.from_pretrained('distilbert-base-uncased')\n",
    "model = DistilBertModel.from_pretrained(\"distilbert-base-uncased\")\n",
    "\n",
    "batch_size = 32 \n",
    "\n",
    "embeddings_list = []\n",
    "\n",
    "for i in range(0, len(texts), batch_size):\n",
    "    print(f\"Processing batch {i // batch_size + 1} of {len(texts) // batch_size + 1}\")\n",
    "    batch_texts = texts[i:i + batch_size]\n",
    "    \n",
    "    encoded_input = tokenizer(\n",
    "        batch_texts,\n",
    "        padding=True,            \n",
    "        truncation=True,         \n",
    "        max_length=512,          \n",
    "        return_tensors='pt'     \n",
    "    )\n",
    "    \n",
    "\n",
    "    with torch.no_grad():\n",
    "        output = model(**encoded_input)\n",
    "    \n",
    "    last_hidden_states = output.last_hidden_state\n",
    "    \n",
    "    attention_mask = encoded_input[\"attention_mask\"]\n",
    "    input_mask_expanded = attention_mask.unsqueeze(-1).expand(last_hidden_states.size()).float()\n",
    "    mean_pooled_embeddings = torch.sum(last_hidden_states * input_mask_expanded, 1) / torch.clamp(\n",
    "        input_mask_expanded.sum(1), min=1e-9\n",
    "    )\n",
    "    \n",
    "    embeddings_list.append(mean_pooled_embeddings)\n",
    "\n",
    "all_embeddings = torch.cat(embeddings_list, dim=0)\n",
    "\n",
    "print(all_embeddings.shape)"
   ]
  },
  {
   "cell_type": "code",
   "execution_count": 3,
   "metadata": {},
   "outputs": [],
   "source": [
    "clear_output(wait=True)"
   ]
  },
  {
   "cell_type": "code",
   "execution_count": 47,
   "metadata": {
    "execution": {
     "iopub.execute_input": "2025-02-02T15:09:12.417312Z",
     "iopub.status.busy": "2025-02-02T15:09:12.416993Z",
     "iopub.status.idle": "2025-02-02T15:09:12.524004Z",
     "shell.execute_reply": "2025-02-02T15:09:12.523257Z",
     "shell.execute_reply.started": "2025-02-02T15:09:12.417287Z"
    },
    "trusted": true
   },
   "outputs": [],
   "source": [
    "from sklearn.preprocessing import normalize\n",
    "\n",
    "embed_np = all_embeddings.numpy()\n",
    "normalized_embeds = normalize(embed_np, norm='l2')"
   ]
  },
  {
   "cell_type": "code",
   "execution_count": 48,
   "metadata": {
    "execution": {
     "iopub.execute_input": "2025-02-02T15:09:18.997898Z",
     "iopub.status.busy": "2025-02-02T15:09:18.997583Z",
     "iopub.status.idle": "2025-02-02T15:09:19.015987Z",
     "shell.execute_reply": "2025-02-02T15:09:19.015322Z",
     "shell.execute_reply.started": "2025-02-02T15:09:18.997849Z"
    },
    "trusted": true
   },
   "outputs": [
    {
     "data": {
      "text/html": [
       "<div>\n",
       "<style scoped>\n",
       "    .dataframe tbody tr th:only-of-type {\n",
       "        vertical-align: middle;\n",
       "    }\n",
       "\n",
       "    .dataframe tbody tr th {\n",
       "        vertical-align: top;\n",
       "    }\n",
       "\n",
       "    .dataframe thead th {\n",
       "        text-align: right;\n",
       "    }\n",
       "</style>\n",
       "<table border=\"1\" class=\"dataframe\">\n",
       "  <thead>\n",
       "    <tr style=\"text-align: right;\">\n",
       "      <th></th>\n",
       "      <th>Id</th>\n",
       "      <th>VectorData</th>\n",
       "    </tr>\n",
       "  </thead>\n",
       "  <tbody>\n",
       "    <tr>\n",
       "      <th>4</th>\n",
       "      <td>42</td>\n",
       "      <td>[-0.063417144, -0.0011946427, 0.036288198, 0.0...</td>\n",
       "    </tr>\n",
       "    <tr>\n",
       "      <th>50</th>\n",
       "      <td>90</td>\n",
       "      <td>[-0.059560403, 0.002911371, 0.038085777, 0.006...</td>\n",
       "    </tr>\n",
       "    <tr>\n",
       "      <th>88</th>\n",
       "      <td>133</td>\n",
       "      <td>[-0.04840912, 0.0020992083, 0.03166137, 0.0101...</td>\n",
       "    </tr>\n",
       "    <tr>\n",
       "      <th>135</th>\n",
       "      <td>182</td>\n",
       "      <td>[-0.060834955, 0.0035884902, 0.035789214, 0.00...</td>\n",
       "    </tr>\n",
       "    <tr>\n",
       "      <th>194</th>\n",
       "      <td>248</td>\n",
       "      <td>[-0.06397649, 0.0010772683, 0.03641214, -0.001...</td>\n",
       "    </tr>\n",
       "  </tbody>\n",
       "</table>\n",
       "</div>"
      ],
      "text/plain": [
       "      Id                                         VectorData\n",
       "4     42  [-0.063417144, -0.0011946427, 0.036288198, 0.0...\n",
       "50    90  [-0.059560403, 0.002911371, 0.038085777, 0.006...\n",
       "88   133  [-0.04840912, 0.0020992083, 0.03166137, 0.0101...\n",
       "135  182  [-0.060834955, 0.0035884902, 0.035789214, 0.00...\n",
       "194  248  [-0.06397649, 0.0010772683, 0.03641214, -0.001..."
      ]
     },
     "execution_count": 48,
     "metadata": {},
     "output_type": "execute_result"
    }
   ],
   "source": [
    "recipe_ids = vegan_recipes['RecipeId']\n",
    "embed_texts_for_database = pd.DataFrame(\n",
    "    {\n",
    "        \"Id\": recipe_ids,  \n",
    "        \"VectorData\": list(normalized_embeds)  \n",
    "    }\n",
    ")\n",
    "\n",
    "embed_texts_for_database.head()"
   ]
  },
  {
   "cell_type": "code",
   "execution_count": 49,
   "metadata": {
    "execution": {
     "iopub.execute_input": "2025-02-02T15:09:47.215187Z",
     "iopub.status.busy": "2025-02-02T15:09:47.214859Z",
     "iopub.status.idle": "2025-02-02T15:10:06.210376Z",
     "shell.execute_reply": "2025-02-02T15:10:06.209489Z",
     "shell.execute_reply.started": "2025-02-02T15:09:47.215163Z"
    },
    "trusted": true
   },
   "outputs": [
    {
     "name": "stdout",
     "output_type": "stream",
     "text": [
      "Data saved to recipes_data.json\n"
     ]
    }
   ],
   "source": [
    "import json\n",
    "\n",
    "data_save = [\n",
    "    {\n",
    "        \"RecipeId\": row['Id'],  \n",
    "        \"VectorData\": row['VectorData'].tolist()}\n",
    "    for _, row in embed_texts_for_database.iterrows()  \n",
    "]\n",
    "\n",
    "with open('recipes_data.json', 'w') as f:\n",
    "    json.dump(data_save, f, indent=4)\n",
    "\n",
    "print(\"Data saved to recipes_data.json\")"
   ]
  },
  {
   "cell_type": "code",
   "execution_count": 50,
   "metadata": {
    "execution": {
     "iopub.execute_input": "2025-02-02T15:11:00.224181Z",
     "iopub.status.busy": "2025-02-02T15:11:00.223800Z",
     "iopub.status.idle": "2025-02-02T15:11:10.579021Z",
     "shell.execute_reply": "2025-02-02T15:11:10.578168Z",
     "shell.execute_reply.started": "2025-02-02T15:11:00.224152Z"
    },
    "trusted": true
   },
   "outputs": [
    {
     "name": "stdout",
     "output_type": "stream",
     "text": [
      "Vector data saved to recipes_vectors.csv\n"
     ]
    }
   ],
   "source": [
    "embed_texts_for_database['VectorData'] = embed_texts_for_database['VectorData'].apply(lambda x: ', '.join(map(str, x)))\n",
    "\n",
    "embed_texts_for_database[['Id', 'VectorData']].to_csv('recipes_vectors.csv', index=False)\n",
    "\n",
    "print(\"Vector data saved to recipes_vectors.csv\")"
   ]
  },
  {
   "cell_type": "markdown",
   "metadata": {},
   "source": [
    "# Metadata Embeddings"
   ]
  },
  {
   "cell_type": "code",
   "execution_count": 17,
   "metadata": {
    "execution": {
     "iopub.execute_input": "2025-02-02T21:14:13.915986Z",
     "iopub.status.busy": "2025-02-02T21:14:13.915698Z",
     "iopub.status.idle": "2025-02-02T21:14:13.919761Z",
     "shell.execute_reply": "2025-02-02T21:14:13.918914Z",
     "shell.execute_reply.started": "2025-02-02T21:14:13.915964Z"
    },
    "trusted": true
   },
   "outputs": [],
   "source": [
    "metadata_cols_to_embed = ['Name', 'Description', 'RecipeCategory', 'RecipeIngredientParts', 'Keywords', 'Review']\n",
    "\n",
    "# for col in metadata_cols_to_embed:\n",
    "#     metadata_with_reviews[col] = metadata_with_reviews[col].apply(lambda x: [x] if not isinstance(x, list) else x)"
   ]
  },
  {
   "cell_type": "code",
   "execution_count": 54,
   "metadata": {
    "execution": {
     "iopub.execute_input": "2025-02-02T15:12:45.523629Z",
     "iopub.status.busy": "2025-02-02T15:12:45.523348Z",
     "iopub.status.idle": "2025-02-02T15:12:49.378569Z",
     "shell.execute_reply": "2025-02-02T15:12:49.377882Z",
     "shell.execute_reply.started": "2025-02-02T15:12:45.523608Z"
    },
    "trusted": true
   },
   "outputs": [
    {
     "name": "stderr",
     "output_type": "stream",
     "text": [
      "Token indices sequence length is longer than the specified maximum sequence length for this model (2570 > 512). Running this sequence through the model will result in indexing errors\n"
     ]
    },
    {
     "data": {
      "text/plain": [
       "DescribeResult(nobs=17598, minmax=(5, 28640), mean=181.58506648482782, variance=390943.6577914117, skewness=17.560249892109507, kurtosis=517.9911733077157)"
      ]
     },
     "execution_count": 54,
     "metadata": {},
     "output_type": "execute_result"
    }
   ],
   "source": [
    "tokenizer = AutoTokenizer.from_pretrained(\"distilbert-base-uncased\")\n",
    "\n",
    "tokenized_texts = tokenizer(metadata_with_reviews['Review'].astype(str).tolist(), padding=False, truncation=False, return_tensors = None)\n",
    "\n",
    "lengths = [len(tokens) for tokens in tokenized_texts['input_ids']]\n",
    "\n",
    "describe(lengths)"
   ]
  },
  {
   "cell_type": "code",
   "execution_count": 58,
   "metadata": {
    "execution": {
     "iopub.execute_input": "2025-01-28T19:59:58.255372Z",
     "iopub.status.busy": "2025-01-28T19:59:58.255032Z",
     "iopub.status.idle": "2025-01-28T19:59:58.724279Z",
     "shell.execute_reply": "2025-01-28T19:59:58.723455Z",
     "shell.execute_reply.started": "2025-01-28T19:59:58.255345Z"
    },
    "trusted": true
   },
   "outputs": [
    {
     "data": {
      "image/png": "[encoded data removed]",
      "text/plain": [
       "<Figure size 600x300 with 1 Axes>"
      ]
     },
     "metadata": {},
     "output_type": "display_data"
    }
   ],
   "source": [
    "plt.figure(figsize=(6, 3))\n",
    "plt.hist(lengths, bins=20, color='skyblue', edgecolor='black', alpha=0.5) \n",
    "plt.title(\"Distribution of Text Lengths\", fontsize=10)\n",
    "plt.xlabel(\"Text Length (Number of Tokens)\", fontsize=10)\n",
    "plt.ylabel(\"Frequency\", fontsize=10)\n",
    "plt.grid(axis='y', linestyle='--', alpha=0.7)\n",
    "\n",
    "# Display the plot\n",
    "plt.show()"
   ]
  },
  {
   "cell_type": "code",
   "execution_count": 43,
   "metadata": {
    "execution": {
     "iopub.execute_input": "2025-01-29T22:17:22.147967Z",
     "iopub.status.busy": "2025-01-29T22:17:22.147681Z",
     "iopub.status.idle": "2025-01-29T22:17:25.299310Z",
     "shell.execute_reply": "2025-01-29T22:17:25.298428Z",
     "shell.execute_reply.started": "2025-01-29T22:17:22.147945Z"
    },
    "trusted": true
   },
   "outputs": [
    {
     "data": {
      "application/vnd.jupyter.widget-view+json": {
       "model_id": "2b97a183bc5742ccaae5d599a33ff09a",
       "version_major": 2,
       "version_minor": 0
      },
      "text/plain": [
       "tokenizer_config.json:   0%|          | 0.00/48.0 [00:00<?, ?B/s]"
      ]
     },
     "metadata": {},
     "output_type": "display_data"
    },
    {
     "data": {
      "application/vnd.jupyter.widget-view+json": {
       "model_id": "0b544165b0c7454c839a77059bb161b5",
       "version_major": 2,
       "version_minor": 0
      },
      "text/plain": [
       "vocab.txt:   0%|          | 0.00/232k [00:00<?, ?B/s]"
      ]
     },
     "metadata": {},
     "output_type": "display_data"
    },
    {
     "data": {
      "application/vnd.jupyter.widget-view+json": {
       "model_id": "f4079f4fef6e4139921c0c3c146c3402",
       "version_major": 2,
       "version_minor": 0
      },
      "text/plain": [
       "tokenizer.json:   0%|          | 0.00/466k [00:00<?, ?B/s]"
      ]
     },
     "metadata": {},
     "output_type": "display_data"
    },
    {
     "data": {
      "application/vnd.jupyter.widget-view+json": {
       "model_id": "4626844c400d47cd9d675253f0e360ed",
       "version_major": 2,
       "version_minor": 0
      },
      "text/plain": [
       "config.json:   0%|          | 0.00/483 [00:00<?, ?B/s]"
      ]
     },
     "metadata": {},
     "output_type": "display_data"
    },
    {
     "data": {
      "application/vnd.jupyter.widget-view+json": {
       "model_id": "d91752efa47b465098f6e572c20a73d4",
       "version_major": 2,
       "version_minor": 0
      },
      "text/plain": [
       "model.safetensors:   0%|          | 0.00/268M [00:00<?, ?B/s]"
      ]
     },
     "metadata": {},
     "output_type": "display_data"
    }
   ],
   "source": [
    "tokenizer = DistilBertTokenizer.from_pretrained('distilbert-base-uncased')\n",
    "model = DistilBertModel.from_pretrained(\"distilbert-base-uncased\")"
   ]
  },
  {
   "cell_type": "code",
   "execution_count": 69,
   "metadata": {
    "execution": {
     "iopub.execute_input": "2025-02-02T15:26:38.108578Z",
     "iopub.status.busy": "2025-02-02T15:26:38.108297Z",
     "iopub.status.idle": "2025-02-02T15:26:38.112947Z",
     "shell.execute_reply": "2025-02-02T15:26:38.112201Z",
     "shell.execute_reply.started": "2025-02-02T15:26:38.108556Z"
    },
    "trusted": true
   },
   "outputs": [],
   "source": [
    "def embed_metadata(text_data):\n",
    "    inputs = tokenizer(text_data, return_tensors='pt', padding=True, truncation=True)\n",
    "    \n",
    "    with torch.no_grad():\n",
    "        outputs = model(**inputs)\n",
    "    \n",
    "    embedding = outputs.last_hidden_state.mean(dim=1)\n",
    "\n",
    "    embedding_list = embedding.squeeze().tolist()\n",
    "\n",
    "    return embedding_list"
   ]
  },
  {
   "cell_type": "code",
   "execution_count": 71,
   "metadata": {
    "execution": {
     "iopub.execute_input": "2025-02-02T15:26:51.315480Z",
     "iopub.status.busy": "2025-02-02T15:26:51.315170Z",
     "iopub.status.idle": "2025-02-02T16:27:46.400585Z",
     "shell.execute_reply": "2025-02-02T16:27:46.399678Z",
     "shell.execute_reply.started": "2025-02-02T15:26:51.315454Z"
    },
    "trusted": true
   },
   "outputs": [
    {
     "name": "stdout",
     "output_type": "stream",
     "text": [
      "Processing column: Name\n",
      "Processing column: Description\n",
      "Processing column: RecipeCategory\n",
      "Processing column: RecipeIngredientParts\n",
      "Processing column: Keywords\n",
      "Processing column: Review\n"
     ]
    }
   ],
   "source": [
    "for col in metadata_cols_to_embed:\n",
    "    print(f\"Processing column: {col}\")  \n",
    "    metadata_with_reviews[f\"{col}_embedding\"] = metadata_with_reviews[col].apply(embed_metadata)"
   ]
  },
  {
   "cell_type": "code",
   "execution_count": 74,
   "metadata": {
    "execution": {
     "iopub.execute_input": "2025-02-02T16:34:42.446532Z",
     "iopub.status.busy": "2025-02-02T16:34:42.446251Z",
     "iopub.status.idle": "2025-02-02T16:34:42.531595Z",
     "shell.execute_reply": "2025-02-02T16:34:42.530721Z",
     "shell.execute_reply.started": "2025-02-02T16:34:42.446510Z"
    },
    "trusted": true
   },
   "outputs": [
    {
     "data": {
      "text/html": [
       "<div>\n",
       "<style scoped>\n",
       "    .dataframe tbody tr th:only-of-type {\n",
       "        vertical-align: middle;\n",
       "    }\n",
       "\n",
       "    .dataframe tbody tr th {\n",
       "        vertical-align: top;\n",
       "    }\n",
       "\n",
       "    .dataframe thead th {\n",
       "        text-align: right;\n",
       "    }\n",
       "</style>\n",
       "<table border=\"1\" class=\"dataframe\">\n",
       "  <thead>\n",
       "    <tr style=\"text-align: right;\">\n",
       "      <th></th>\n",
       "      <th>RecipeId</th>\n",
       "      <th>Name</th>\n",
       "      <th>CookingTimeMinutes</th>\n",
       "      <th>PreparationTimeMinutes</th>\n",
       "      <th>TotalRecipeMinutes</th>\n",
       "      <th>Description</th>\n",
       "      <th>RecipeCategory</th>\n",
       "      <th>Keywords</th>\n",
       "      <th>RecipeIngredientQuantities</th>\n",
       "      <th>RecipeIngredientParts</th>\n",
       "      <th>AggregatedRating</th>\n",
       "      <th>ReviewCount</th>\n",
       "      <th>Calories</th>\n",
       "      <th>FatContent</th>\n",
       "      <th>SaturatedFatContent</th>\n",
       "      <th>CholesterolContent</th>\n",
       "      <th>SodiumContent</th>\n",
       "      <th>CarbohydrateContent</th>\n",
       "      <th>FiberContent</th>\n",
       "      <th>SugarContent</th>\n",
       "      <th>ProteinContent</th>\n",
       "      <th>RecipeServings</th>\n",
       "      <th>RecipeTimeCategory</th>\n",
       "      <th>Review</th>\n",
       "      <th>Name_embedding</th>\n",
       "      <th>Description_embedding</th>\n",
       "      <th>RecipeCategory_embedding</th>\n",
       "      <th>RecipeIngredientParts_embedding</th>\n",
       "      <th>Keywords_embedding</th>\n",
       "      <th>Review_embedding</th>\n",
       "      <th>Name_embedding_normalized</th>\n",
       "      <th>Description_embedding_normalized</th>\n",
       "      <th>RecipeCategory_embedding_normalized</th>\n",
       "      <th>RecipeIngredientParts_embedding_normalized</th>\n",
       "      <th>Keywords_embedding_normalized</th>\n",
       "      <th>Review_embedding_normalized</th>\n",
       "    </tr>\n",
       "  </thead>\n",
       "  <tbody>\n",
       "    <tr>\n",
       "      <th>0</th>\n",
       "      <td>42</td>\n",
       "      <td>[Cabbage Soup]</td>\n",
       "      <td>30</td>\n",
       "      <td>20</td>\n",
       "      <td>50</td>\n",
       "      <td>[Description not provided. Please generate a d...</td>\n",
       "      <td>[Vegetable]</td>\n",
       "      <td>[Low Protein, Vegan, Low Cholesterol, Healthy,...</td>\n",
       "      <td>46, 4, 1, 2, 1</td>\n",
       "      <td>[plain tomato juice, cabbage, onion, carrots, ...</td>\n",
       "      <td>4.5</td>\n",
       "      <td>11.0</td>\n",
       "      <td>103.6</td>\n",
       "      <td>0.4</td>\n",
       "      <td>0.1</td>\n",
       "      <td>0.0</td>\n",
       "      <td>959.3</td>\n",
       "      <td>25.1</td>\n",
       "      <td>4.8</td>\n",
       "      <td>17.7</td>\n",
       "      <td>4.3</td>\n",
       "      <td>4.0</td>\n",
       "      <td>Medium</td>\n",
       "      <td>[This is a very good soup.  We served ours war...</td>\n",
       "      <td>[0.11147043853998184, 0.01104094460606575, -0....</td>\n",
       "      <td>[-0.056647371500730515, -0.14212821424007416, ...</td>\n",
       "      <td>[0.2583865225315094, 0.0775633379817009, -0.24...</td>\n",
       "      <td>[-0.06790915876626968, 0.1569654941558838, 0.1...</td>\n",
       "      <td>[-0.3187265396118164, 0.015484263189136982, 0....</td>\n",
       "      <td>[-0.11408206820487976, 0.049858368933200836, 0...</td>\n",
       "      <td>[0.014551365020895334, 0.0014412862929638775, ...</td>\n",
       "      <td>[-0.005302073340523476, -0.013302898187408188,...</td>\n",
       "      <td>[0.03308006820602776, 0.009930086467296135, -0...</td>\n",
       "      <td>[-0.00730635277329166, 0.01688793226675299, 0....</td>\n",
       "      <td>[-0.04041561865382728, 0.0019634576930739364, ...</td>\n",
       "      <td>[-0.015295426205164102, 0.0066847052716300604,...</td>\n",
       "    </tr>\n",
       "    <tr>\n",
       "      <th>1</th>\n",
       "      <td>90</td>\n",
       "      <td>[Almond Paste]</td>\n",
       "      <td>10080</td>\n",
       "      <td>15</td>\n",
       "      <td>10095</td>\n",
       "      <td>[Description not provided. Please generate a d...</td>\n",
       "      <td>[Dessert]</td>\n",
       "      <td>[Fruit, Nuts, Lactose Free, Vegan, Low Cholest...</td>\n",
       "      <td>1, 3, 1, 2</td>\n",
       "      <td>[fresh lemon juice, water, sugar]</td>\n",
       "      <td>4.0</td>\n",
       "      <td>2.0</td>\n",
       "      <td>2123.5</td>\n",
       "      <td>119.8</td>\n",
       "      <td>9.0</td>\n",
       "      <td>0.0</td>\n",
       "      <td>49.1</td>\n",
       "      <td>244.0</td>\n",
       "      <td>22.6</td>\n",
       "      <td>210.7</td>\n",
       "      <td>48.9</td>\n",
       "      <td>NaN</td>\n",
       "      <td>Very Long</td>\n",
       "      <td>[I liked this recipe very much.  I would recom...</td>\n",
       "      <td>[0.14290957152843475, 0.08623308688402176, -0....</td>\n",
       "      <td>[-0.056647371500730515, -0.14212821424007416, ...</td>\n",
       "      <td>[0.145246684551239, 0.09349077194929123, -0.05...</td>\n",
       "      <td>[0.11045094579458237, 0.1101234033703804, 0.02...</td>\n",
       "      <td>[-0.18110691010951996, 0.018967995420098305, 0...</td>\n",
       "      <td>[-0.05769820138812065, 0.07190047949552536, 0....</td>\n",
       "      <td>[0.018272325558733246, 0.011025706820245153, -...</td>\n",
       "      <td>[-0.005302073340523476, -0.013302898187408188,...</td>\n",
       "      <td>[0.01873073444646906, 0.012056391014968845, -0...</td>\n",
       "      <td>[0.013385857787410277, 0.01334616200863564, 0....</td>\n",
       "      <td>[-0.023087104573134176, 0.0024179977094287604,...</td>\n",
       "      <td>[-0.007852891679524536, 0.00978586270629374, 0...</td>\n",
       "    </tr>\n",
       "    <tr>\n",
       "      <th>2</th>\n",
       "      <td>133</td>\n",
       "      <td>[Blueberry Pancake Syrup]</td>\n",
       "      <td>36</td>\n",
       "      <td>50</td>\n",
       "      <td>86</td>\n",
       "      <td>[I've made this blueberry syrup several times,...</td>\n",
       "      <td>[Sauces]</td>\n",
       "      <td>[Breakfast, Dessert, Berries, Fruit, Vegan, Fr...</td>\n",
       "      <td>4, 3, 2, 3, NA</td>\n",
       "      <td>[blueberries, water, lemons, rind of, sugar, l...</td>\n",
       "      <td>5.0</td>\n",
       "      <td>4.0</td>\n",
       "      <td>1329.7</td>\n",
       "      <td>1.0</td>\n",
       "      <td>0.1</td>\n",
       "      <td>0.0</td>\n",
       "      <td>16.6</td>\n",
       "      <td>342.8</td>\n",
       "      <td>7.1</td>\n",
       "      <td>328.9</td>\n",
       "      <td>2.2</td>\n",
       "      <td>NaN</td>\n",
       "      <td>Long</td>\n",
       "      <td>[this was wonderful - canned it in pints for f...</td>\n",
       "      <td>[-0.07431793212890625, -0.0765952542424202, -0...</td>\n",
       "      <td>[0.15627917647361755, 0.1361067295074463, 0.07...</td>\n",
       "      <td>[0.26149556040763855, 0.07175633311271667, -0....</td>\n",
       "      <td>[-0.06912896037101746, 0.13105681538581848, 0....</td>\n",
       "      <td>[-0.06459131836891174, 0.0255263801664114, 0.4...</td>\n",
       "      <td>[-0.02732006087899208, 0.07763074338436127, 0....</td>\n",
       "      <td>[-0.009007529093189184, -0.009283546530763463,...</td>\n",
       "      <td>[0.019307196807574346, 0.016815032384555558, 0...</td>\n",
       "      <td>[0.03146028024559924, 0.008632935662859905, -0...</td>\n",
       "      <td>[-0.008343223306984799, 0.01581734009592587, 0...</td>\n",
       "      <td>[-0.008413793421250924, 0.0033251169806726593,...</td>\n",
       "      <td>[-0.003633928759029627, 0.010325913701978802, ...</td>\n",
       "    </tr>\n",
       "    <tr>\n",
       "      <th>3</th>\n",
       "      <td>182</td>\n",
       "      <td>[Low-Fat Apple &amp; Apricot]</td>\n",
       "      <td>20</td>\n",
       "      <td>20</td>\n",
       "      <td>40</td>\n",
       "      <td>[Description not provided. Please generate a d...</td>\n",
       "      <td>[Dessert]</td>\n",
       "      <td>[Apple, Fruit, Vegan, Free Of..., &lt; 30 Mins, E...</td>\n",
       "      <td>20, 12, 1/2, 2, 1, 1, 1, 1, NA</td>\n",
       "      <td>[raisins, dried currant, lemon, rind of, cinna...</td>\n",
       "      <td>0.0</td>\n",
       "      <td>0.0</td>\n",
       "      <td>164.5</td>\n",
       "      <td>0.3</td>\n",
       "      <td>0.0</td>\n",
       "      <td>0.0</td>\n",
       "      <td>7.9</td>\n",
       "      <td>42.4</td>\n",
       "      <td>2.5</td>\n",
       "      <td>35.5</td>\n",
       "      <td>1.4</td>\n",
       "      <td>4.0</td>\n",
       "      <td>Medium</td>\n",
       "      <td>[No reviews]</td>\n",
       "      <td>[-0.07919036597013474, 0.10127286612987518, -0...</td>\n",
       "      <td>[-0.056647371500730515, -0.14212821424007416, ...</td>\n",
       "      <td>[0.145246684551239, 0.09349077194929123, -0.05...</td>\n",
       "      <td>[0.030376479029655457, 0.10264606773853302, 0....</td>\n",
       "      <td>[-0.05799407139420509, -0.05700257793068886, 0...</td>\n",
       "      <td>[0.1315595507621765, 0.01012955978512764, -0.0...</td>\n",
       "      <td>[-0.009063051128103941, 0.011590313447608419, ...</td>\n",
       "      <td>[-0.005302073340523476, -0.013302898187408188,...</td>\n",
       "      <td>[0.01873073444646906, 0.012056391014968845, -0...</td>\n",
       "      <td>[0.0034912107555268657, 0.011797254558418464, ...</td>\n",
       "      <td>[-0.007332070449903797, -0.007206717982826506,...</td>\n",
       "      <td>[0.016654536905414345, 0.001282332801378884, -...</td>\n",
       "    </tr>\n",
       "    <tr>\n",
       "      <th>4</th>\n",
       "      <td>248</td>\n",
       "      <td>[Mustard Dill Sauce I]</td>\n",
       "      <td>30</td>\n",
       "      <td>30</td>\n",
       "      <td>60</td>\n",
       "      <td>[Description not provided. Please generate a d...</td>\n",
       "      <td>[Low Protein]</td>\n",
       "      <td>[\"&lt; 30 Mins\"]</td>\n",
       "      <td>1/2, 6, 1/4, 2, 1/2, 6</td>\n",
       "      <td>[spicy brown mustard, sugar, distilled white v...</td>\n",
       "      <td>0.0</td>\n",
       "      <td>0.0</td>\n",
       "      <td>921.1</td>\n",
       "      <td>76.5</td>\n",
       "      <td>9.6</td>\n",
       "      <td>0.0</td>\n",
       "      <td>935.7</td>\n",
       "      <td>58.6</td>\n",
       "      <td>3.4</td>\n",
       "      <td>53.0</td>\n",
       "      <td>4.5</td>\n",
       "      <td>NaN</td>\n",
       "      <td>Medium</td>\n",
       "      <td>[No reviews]</td>\n",
       "      <td>[0.1524062156677246, 0.005579456686973572, 0.0...</td>\n",
       "      <td>[-0.056647371500730515, -0.14212821424007416, ...</td>\n",
       "      <td>[-0.14529363811016083, 0.0016862933989614248, ...</td>\n",
       "      <td>[-0.13319963216781616, 0.0899091437458992, -0....</td>\n",
       "      <td>[0.10910818725824356, -0.23899807035923004, 0....</td>\n",
       "      <td>[0.1315595507621765, 0.01012955978512764, -0.0...</td>\n",
       "      <td>[0.02096985376921858, 0.0007676877896673738, 0...</td>\n",
       "      <td>[-0.005302073340523476, -0.013302898187408188,...</td>\n",
       "      <td>[-0.018452583675198277, 0.0002141626464173047,...</td>\n",
       "      <td>[-0.015068841328454754, 0.010171399117508523, ...</td>\n",
       "      <td>[0.013830243836382638, -0.03029471639621021, 0...</td>\n",
       "      <td>[0.016654536905414345, 0.001282332801378884, -...</td>\n",
       "    </tr>\n",
       "  </tbody>\n",
       "</table>\n",
       "</div>"
      ],
      "text/plain": [
       "   RecipeId                       Name  CookingTimeMinutes  \\\n",
       "0        42             [Cabbage Soup]                  30   \n",
       "1        90             [Almond Paste]               10080   \n",
       "2       133  [Blueberry Pancake Syrup]                  36   \n",
       "3       182  [Low-Fat Apple & Apricot]                  20   \n",
       "4       248     [Mustard Dill Sauce I]                  30   \n",
       "\n",
       "   PreparationTimeMinutes  TotalRecipeMinutes  \\\n",
       "0                      20                  50   \n",
       "1                      15               10095   \n",
       "2                      50                  86   \n",
       "3                      20                  40   \n",
       "4                      30                  60   \n",
       "\n",
       "                                         Description RecipeCategory  \\\n",
       "0  [Description not provided. Please generate a d...    [Vegetable]   \n",
       "1  [Description not provided. Please generate a d...      [Dessert]   \n",
       "2  [I've made this blueberry syrup several times,...       [Sauces]   \n",
       "3  [Description not provided. Please generate a d...      [Dessert]   \n",
       "4  [Description not provided. Please generate a d...  [Low Protein]   \n",
       "\n",
       "                                            Keywords  \\\n",
       "0  [Low Protein, Vegan, Low Cholesterol, Healthy,...   \n",
       "1  [Fruit, Nuts, Lactose Free, Vegan, Low Cholest...   \n",
       "2  [Breakfast, Dessert, Berries, Fruit, Vegan, Fr...   \n",
       "3  [Apple, Fruit, Vegan, Free Of..., < 30 Mins, E...   \n",
       "4                                      [\"< 30 Mins\"]   \n",
       "\n",
       "       RecipeIngredientQuantities  \\\n",
       "0                  46, 4, 1, 2, 1   \n",
       "1                      1, 3, 1, 2   \n",
       "2                  4, 3, 2, 3, NA   \n",
       "3  20, 12, 1/2, 2, 1, 1, 1, 1, NA   \n",
       "4          1/2, 6, 1/4, 2, 1/2, 6   \n",
       "\n",
       "                               RecipeIngredientParts  AggregatedRating  \\\n",
       "0  [plain tomato juice, cabbage, onion, carrots, ...               4.5   \n",
       "1                  [fresh lemon juice, water, sugar]               4.0   \n",
       "2  [blueberries, water, lemons, rind of, sugar, l...               5.0   \n",
       "3  [raisins, dried currant, lemon, rind of, cinna...               0.0   \n",
       "4  [spicy brown mustard, sugar, distilled white v...               0.0   \n",
       "\n",
       "   ReviewCount  Calories  FatContent  SaturatedFatContent  CholesterolContent  \\\n",
       "0         11.0     103.6         0.4                  0.1                 0.0   \n",
       "1          2.0    2123.5       119.8                  9.0                 0.0   \n",
       "2          4.0    1329.7         1.0                  0.1                 0.0   \n",
       "3          0.0     164.5         0.3                  0.0                 0.0   \n",
       "4          0.0     921.1        76.5                  9.6                 0.0   \n",
       "\n",
       "   SodiumContent  CarbohydrateContent  FiberContent  SugarContent  \\\n",
       "0          959.3                 25.1           4.8          17.7   \n",
       "1           49.1                244.0          22.6         210.7   \n",
       "2           16.6                342.8           7.1         328.9   \n",
       "3            7.9                 42.4           2.5          35.5   \n",
       "4          935.7                 58.6           3.4          53.0   \n",
       "\n",
       "   ProteinContent  RecipeServings RecipeTimeCategory  \\\n",
       "0             4.3             4.0             Medium   \n",
       "1            48.9             NaN          Very Long   \n",
       "2             2.2             NaN               Long   \n",
       "3             1.4             4.0             Medium   \n",
       "4             4.5             NaN             Medium   \n",
       "\n",
       "                                              Review  \\\n",
       "0  [This is a very good soup.  We served ours war...   \n",
       "1  [I liked this recipe very much.  I would recom...   \n",
       "2  [this was wonderful - canned it in pints for f...   \n",
       "3                                       [No reviews]   \n",
       "4                                       [No reviews]   \n",
       "\n",
       "                                      Name_embedding  \\\n",
       "0  [0.11147043853998184, 0.01104094460606575, -0....   \n",
       "1  [0.14290957152843475, 0.08623308688402176, -0....   \n",
       "2  [-0.07431793212890625, -0.0765952542424202, -0...   \n",
       "3  [-0.07919036597013474, 0.10127286612987518, -0...   \n",
       "4  [0.1524062156677246, 0.005579456686973572, 0.0...   \n",
       "\n",
       "                               Description_embedding  \\\n",
       "0  [-0.056647371500730515, -0.14212821424007416, ...   \n",
       "1  [-0.056647371500730515, -0.14212821424007416, ...   \n",
       "2  [0.15627917647361755, 0.1361067295074463, 0.07...   \n",
       "3  [-0.056647371500730515, -0.14212821424007416, ...   \n",
       "4  [-0.056647371500730515, -0.14212821424007416, ...   \n",
       "\n",
       "                            RecipeCategory_embedding  \\\n",
       "0  [0.2583865225315094, 0.0775633379817009, -0.24...   \n",
       "1  [0.145246684551239, 0.09349077194929123, -0.05...   \n",
       "2  [0.26149556040763855, 0.07175633311271667, -0....   \n",
       "3  [0.145246684551239, 0.09349077194929123, -0.05...   \n",
       "4  [-0.14529363811016083, 0.0016862933989614248, ...   \n",
       "\n",
       "                     RecipeIngredientParts_embedding  \\\n",
       "0  [-0.06790915876626968, 0.1569654941558838, 0.1...   \n",
       "1  [0.11045094579458237, 0.1101234033703804, 0.02...   \n",
       "2  [-0.06912896037101746, 0.13105681538581848, 0....   \n",
       "3  [0.030376479029655457, 0.10264606773853302, 0....   \n",
       "4  [-0.13319963216781616, 0.0899091437458992, -0....   \n",
       "\n",
       "                                  Keywords_embedding  \\\n",
       "0  [-0.3187265396118164, 0.015484263189136982, 0....   \n",
       "1  [-0.18110691010951996, 0.018967995420098305, 0...   \n",
       "2  [-0.06459131836891174, 0.0255263801664114, 0.4...   \n",
       "3  [-0.05799407139420509, -0.05700257793068886, 0...   \n",
       "4  [0.10910818725824356, -0.23899807035923004, 0....   \n",
       "\n",
       "                                    Review_embedding  \\\n",
       "0  [-0.11408206820487976, 0.049858368933200836, 0...   \n",
       "1  [-0.05769820138812065, 0.07190047949552536, 0....   \n",
       "2  [-0.02732006087899208, 0.07763074338436127, 0....   \n",
       "3  [0.1315595507621765, 0.01012955978512764, -0.0...   \n",
       "4  [0.1315595507621765, 0.01012955978512764, -0.0...   \n",
       "\n",
       "                           Name_embedding_normalized  \\\n",
       "0  [0.014551365020895334, 0.0014412862929638775, ...   \n",
       "1  [0.018272325558733246, 0.011025706820245153, -...   \n",
       "2  [-0.009007529093189184, -0.009283546530763463,...   \n",
       "3  [-0.009063051128103941, 0.011590313447608419, ...   \n",
       "4  [0.02096985376921858, 0.0007676877896673738, 0...   \n",
       "\n",
       "                    Description_embedding_normalized  \\\n",
       "0  [-0.005302073340523476, -0.013302898187408188,...   \n",
       "1  [-0.005302073340523476, -0.013302898187408188,...   \n",
       "2  [0.019307196807574346, 0.016815032384555558, 0...   \n",
       "3  [-0.005302073340523476, -0.013302898187408188,...   \n",
       "4  [-0.005302073340523476, -0.013302898187408188,...   \n",
       "\n",
       "                 RecipeCategory_embedding_normalized  \\\n",
       "0  [0.03308006820602776, 0.009930086467296135, -0...   \n",
       "1  [0.01873073444646906, 0.012056391014968845, -0...   \n",
       "2  [0.03146028024559924, 0.008632935662859905, -0...   \n",
       "3  [0.01873073444646906, 0.012056391014968845, -0...   \n",
       "4  [-0.018452583675198277, 0.0002141626464173047,...   \n",
       "\n",
       "          RecipeIngredientParts_embedding_normalized  \\\n",
       "0  [-0.00730635277329166, 0.01688793226675299, 0....   \n",
       "1  [0.013385857787410277, 0.01334616200863564, 0....   \n",
       "2  [-0.008343223306984799, 0.01581734009592587, 0...   \n",
       "3  [0.0034912107555268657, 0.011797254558418464, ...   \n",
       "4  [-0.015068841328454754, 0.010171399117508523, ...   \n",
       "\n",
       "                       Keywords_embedding_normalized  \\\n",
       "0  [-0.04041561865382728, 0.0019634576930739364, ...   \n",
       "1  [-0.023087104573134176, 0.0024179977094287604,...   \n",
       "2  [-0.008413793421250924, 0.0033251169806726593,...   \n",
       "3  [-0.007332070449903797, -0.007206717982826506,...   \n",
       "4  [0.013830243836382638, -0.03029471639621021, 0...   \n",
       "\n",
       "                         Review_embedding_normalized  \n",
       "0  [-0.015295426205164102, 0.0066847052716300604,...  \n",
       "1  [-0.007852891679524536, 0.00978586270629374, 0...  \n",
       "2  [-0.003633928759029627, 0.010325913701978802, ...  \n",
       "3  [0.016654536905414345, 0.001282332801378884, -...  \n",
       "4  [0.016654536905414345, 0.001282332801378884, -...  "
      ]
     },
     "execution_count": 74,
     "metadata": {},
     "output_type": "execute_result"
    }
   ],
   "source": [
    "metadata_with_reviews.head()"
   ]
  },
  {
   "cell_type": "code",
   "execution_count": 18,
   "metadata": {
    "execution": {
     "iopub.execute_input": "2025-02-02T21:14:17.557762Z",
     "iopub.status.busy": "2025-02-02T21:14:17.557456Z",
     "iopub.status.idle": "2025-02-02T21:14:17.561739Z",
     "shell.execute_reply": "2025-02-02T21:14:17.560827Z",
     "shell.execute_reply.started": "2025-02-02T21:14:17.557738Z"
    },
    "trusted": true
   },
   "outputs": [],
   "source": [
    "embedding_columns = [\n",
    "    'Name_embedding', 'Description_embedding', \n",
    "    'RecipeCategory_embedding', 'RecipeIngredientParts_embedding', \n",
    "    'Keywords_embedding', 'Review_embedding'\n",
    "]\n",
    "\n",
    "# for col in embedding_columns:\n",
    "\n",
    "#     embeddings = metadata_with_reviews[col].apply(lambda x: np.array(x))  \n",
    "#     embed_np = np.vstack(embeddings)\n",
    "#     normalized_embeds = normalize(embed_np, norm='l2')\n",
    "#     metadata_with_reviews[f\"{col}_normalized\"] = list(normalized_embeds)"
   ]
  },
  {
   "cell_type": "code",
   "execution_count": 75,
   "metadata": {
    "execution": {
     "iopub.execute_input": "2025-02-02T16:37:22.829298Z",
     "iopub.status.busy": "2025-02-02T16:37:22.828950Z",
     "iopub.status.idle": "2025-02-02T16:47:00.678430Z",
     "shell.execute_reply": "2025-02-02T16:47:00.677654Z",
     "shell.execute_reply.started": "2025-02-02T16:37:22.829264Z"
    },
    "trusted": true
   },
   "outputs": [
    {
     "name": "stdout",
     "output_type": "stream",
     "text": [
      "Vector data saved to metadata_embed_all_cols.csv\n"
     ]
    }
   ],
   "source": [
    "metadata_with_reviews.to_csv('metadata_embed_all_cols.csv', index=False)\n",
    "\n",
    "print(\"Vector data saved to metadata_embed_all_cols.csv\")"
   ]
  },
  {
   "cell_type": "code",
   "execution_count": 2,
   "metadata": {
    "execution": {
     "iopub.execute_input": "2025-02-02T20:53:16.582782Z",
     "iopub.status.busy": "2025-02-02T20:53:16.582480Z",
     "iopub.status.idle": "2025-02-02T20:54:05.149905Z",
     "shell.execute_reply": "2025-02-02T20:54:05.149118Z",
     "shell.execute_reply.started": "2025-02-02T20:53:16.582748Z"
    },
    "trusted": true
   },
   "outputs": [],
   "source": [
    "file_path = '/kaggle/input/metadata'\n",
    "pd.set_option('display.max_columns', None)\n",
    "metadata_with_reviews = pd.read_csv(file_path + '/metadata_embed_all_cols.csv')"
   ]
  },
  {
   "cell_type": "code",
   "execution_count": 19,
   "metadata": {
    "execution": {
     "iopub.execute_input": "2025-02-02T21:14:20.303010Z",
     "iopub.status.busy": "2025-02-02T21:14:20.302691Z",
     "iopub.status.idle": "2025-02-02T21:14:20.333605Z",
     "shell.execute_reply": "2025-02-02T21:14:20.332873Z",
     "shell.execute_reply.started": "2025-02-02T21:14:20.302980Z"
    },
    "trusted": true
   },
   "outputs": [],
   "source": [
    "metadata_with_reviews = metadata_with_reviews.drop(columns=metadata_cols_to_embed + embedding_columns)"
   ]
  },
  {
   "cell_type": "code",
   "execution_count": 5,
   "metadata": {
    "execution": {
     "iopub.execute_input": "2025-02-02T20:56:54.760405Z",
     "iopub.status.busy": "2025-02-02T20:56:54.760065Z",
     "iopub.status.idle": "2025-02-02T20:56:54.803754Z",
     "shell.execute_reply": "2025-02-02T20:56:54.803136Z",
     "shell.execute_reply.started": "2025-02-02T20:56:54.760381Z"
    },
    "trusted": true
   },
   "outputs": [],
   "source": [
    "def convert_to_list(value):\n",
    "    if isinstance(value, str):\n",
    "        return [int(x) if x.isdigit() else None for x in value.split(\", \")]\n",
    "    return value \n",
    "\n",
    "metadata_with_reviews[\"RecipeIngredientQuantities\"] = metadata_with_reviews[\"RecipeIngredientQuantities\"].apply(convert_to_list)"
   ]
  },
  {
   "cell_type": "code",
   "execution_count": 6,
   "metadata": {
    "execution": {
     "iopub.execute_input": "2025-02-02T20:56:56.324489Z",
     "iopub.status.busy": "2025-02-02T20:56:56.324145Z",
     "iopub.status.idle": "2025-02-02T20:56:56.415597Z",
     "shell.execute_reply": "2025-02-02T20:56:56.414921Z",
     "shell.execute_reply.started": "2025-02-02T20:56:56.324463Z"
    },
    "trusted": true
   },
   "outputs": [],
   "source": [
    "metadata_with_reviews = metadata_with_reviews.replace({np.nan: None})"
   ]
  },
  {
   "cell_type": "code",
   "execution_count": 7,
   "metadata": {
    "execution": {
     "iopub.execute_input": "2025-02-02T20:58:12.284779Z",
     "iopub.status.busy": "2025-02-02T20:58:12.284465Z",
     "iopub.status.idle": "2025-02-02T20:58:30.881039Z",
     "shell.execute_reply": "2025-02-02T20:58:30.880383Z",
     "shell.execute_reply.started": "2025-02-02T20:58:12.284758Z"
    },
    "trusted": true
   },
   "outputs": [],
   "source": [
    "def convert_embedding_string(embedding_string):\n",
    "    # Remove the square brackets\n",
    "    embedding_string = embedding_string.strip('[]')\n",
    "    \n",
    "    # Split the string by spaces to get each individual element\n",
    "    embedding_list = embedding_string.split()\n",
    "    \n",
    "    # Convert each element into a float and return it as a list\n",
    "    embedding_floats = [float(x) for x in embedding_list]\n",
    "    return embedding_floats\n",
    "\n",
    "embedding_columns_norm = [\n",
    "    \"Name_embedding_normalized\", \"Description_embedding_normalized\",\n",
    "    \"RecipeCategory_embedding_normalized\", \"RecipeIngredientParts_embedding_normalized\",\n",
    "    \"Keywords_embedding_normalized\", \"Review_embedding_normalized\"\n",
    "]\n",
    "\n",
    "for col in embedding_columns_norm:\n",
    "    metadata_with_reviews[col] = metadata_with_reviews[col].apply(convert_embedding_string)"
   ]
  },
  {
   "cell_type": "code",
   "execution_count": 20,
   "metadata": {
    "execution": {
     "iopub.execute_input": "2025-02-02T21:14:25.598971Z",
     "iopub.status.busy": "2025-02-02T21:14:25.598686Z",
     "iopub.status.idle": "2025-02-02T21:14:25.638616Z",
     "shell.execute_reply": "2025-02-02T21:14:25.637884Z",
     "shell.execute_reply.started": "2025-02-02T21:14:25.598948Z"
    },
    "trusted": true
   },
   "outputs": [
    {
     "data": {
      "text/html": [
       "<div>\n",
       "<style scoped>\n",
       "    .dataframe tbody tr th:only-of-type {\n",
       "        vertical-align: middle;\n",
       "    }\n",
       "\n",
       "    .dataframe tbody tr th {\n",
       "        vertical-align: top;\n",
       "    }\n",
       "\n",
       "    .dataframe thead th {\n",
       "        text-align: right;\n",
       "    }\n",
       "</style>\n",
       "<table border=\"1\" class=\"dataframe\">\n",
       "  <thead>\n",
       "    <tr style=\"text-align: right;\">\n",
       "      <th></th>\n",
       "      <th>RecipeId</th>\n",
       "      <th>CookingTimeMinutes</th>\n",
       "      <th>PreparationTimeMinutes</th>\n",
       "      <th>TotalRecipeMinutes</th>\n",
       "      <th>RecipeIngredientQuantities</th>\n",
       "      <th>AggregatedRating</th>\n",
       "      <th>ReviewCount</th>\n",
       "      <th>Calories</th>\n",
       "      <th>FatContent</th>\n",
       "      <th>SaturatedFatContent</th>\n",
       "      <th>CholesterolContent</th>\n",
       "      <th>SodiumContent</th>\n",
       "      <th>CarbohydrateContent</th>\n",
       "      <th>FiberContent</th>\n",
       "      <th>SugarContent</th>\n",
       "      <th>ProteinContent</th>\n",
       "      <th>RecipeServings</th>\n",
       "      <th>RecipeTimeCategory</th>\n",
       "      <th>Name_embedding_normalized</th>\n",
       "      <th>Description_embedding_normalized</th>\n",
       "      <th>RecipeCategory_embedding_normalized</th>\n",
       "      <th>RecipeIngredientParts_embedding_normalized</th>\n",
       "      <th>Keywords_embedding_normalized</th>\n",
       "      <th>Review_embedding_normalized</th>\n",
       "    </tr>\n",
       "  </thead>\n",
       "  <tbody>\n",
       "    <tr>\n",
       "      <th>0</th>\n",
       "      <td>42</td>\n",
       "      <td>30</td>\n",
       "      <td>20</td>\n",
       "      <td>50</td>\n",
       "      <td>[46, 4, 1, 2, 1]</td>\n",
       "      <td>4.5</td>\n",
       "      <td>11.0</td>\n",
       "      <td>103.6</td>\n",
       "      <td>0.4</td>\n",
       "      <td>0.1</td>\n",
       "      <td>0.0</td>\n",
       "      <td>959.3</td>\n",
       "      <td>25.1</td>\n",
       "      <td>4.8</td>\n",
       "      <td>17.7</td>\n",
       "      <td>4.3</td>\n",
       "      <td>4.0</td>\n",
       "      <td>Medium</td>\n",
       "      <td>[0.014551365, 0.00144128629, -0.0450013956, 0....</td>\n",
       "      <td>[-0.00530207334, -0.0133028982, -0.00344163006...</td>\n",
       "      <td>[0.0330800682, 0.00993008647, -0.0316792038, 0...</td>\n",
       "      <td>[-0.00730635277, 0.0168879323, 0.0129905029, 0...</td>\n",
       "      <td>[-0.0404156187, 0.00196345769, 0.0309701885, 0...</td>\n",
       "      <td>[-0.0152954262, 0.00668470527, 0.0161962478, 0...</td>\n",
       "    </tr>\n",
       "    <tr>\n",
       "      <th>1</th>\n",
       "      <td>90</td>\n",
       "      <td>10080</td>\n",
       "      <td>15</td>\n",
       "      <td>10095</td>\n",
       "      <td>[1, 3, 1, 2]</td>\n",
       "      <td>4.0</td>\n",
       "      <td>2.0</td>\n",
       "      <td>2123.5</td>\n",
       "      <td>119.8</td>\n",
       "      <td>9.0</td>\n",
       "      <td>0.0</td>\n",
       "      <td>49.1</td>\n",
       "      <td>244.0</td>\n",
       "      <td>22.6</td>\n",
       "      <td>210.7</td>\n",
       "      <td>48.9</td>\n",
       "      <td>None</td>\n",
       "      <td>Very Long</td>\n",
       "      <td>[0.01827233, 0.01102571, -0.03225231, 0.016608...</td>\n",
       "      <td>[-0.00530207334, -0.0133028982, -0.00344163006...</td>\n",
       "      <td>[0.0187307344, 0.012056391, -0.00672038077, 0....</td>\n",
       "      <td>[0.0133858578, 0.013346162, 0.0026506235, 0.04...</td>\n",
       "      <td>[-0.0230871046, 0.00241799771, 0.0350617778, 0...</td>\n",
       "      <td>[-0.00785289168, 0.00978586271, 0.0185655671, ...</td>\n",
       "    </tr>\n",
       "    <tr>\n",
       "      <th>2</th>\n",
       "      <td>133</td>\n",
       "      <td>36</td>\n",
       "      <td>50</td>\n",
       "      <td>86</td>\n",
       "      <td>[4, 3, 2, 3, None]</td>\n",
       "      <td>5.0</td>\n",
       "      <td>4.0</td>\n",
       "      <td>1329.7</td>\n",
       "      <td>1.0</td>\n",
       "      <td>0.1</td>\n",
       "      <td>0.0</td>\n",
       "      <td>16.6</td>\n",
       "      <td>342.8</td>\n",
       "      <td>7.1</td>\n",
       "      <td>328.9</td>\n",
       "      <td>2.2</td>\n",
       "      <td>None</td>\n",
       "      <td>Long</td>\n",
       "      <td>[-0.00900752909, -0.00928354653, -0.0068938623...</td>\n",
       "      <td>[0.0193071968, 0.0168150324, 0.00888831661, 0....</td>\n",
       "      <td>[0.0314602802, 0.00863293566, -0.0245967044, 0...</td>\n",
       "      <td>[-0.00834322331, 0.0158173401, 0.0182966437, 0...</td>\n",
       "      <td>[-0.00841379342, 0.00332511698, 0.0533059549, ...</td>\n",
       "      <td>[-0.00363392876, 0.0103259137, 0.0361631219, 0...</td>\n",
       "    </tr>\n",
       "    <tr>\n",
       "      <th>3</th>\n",
       "      <td>182</td>\n",
       "      <td>20</td>\n",
       "      <td>20</td>\n",
       "      <td>40</td>\n",
       "      <td>[20, 12, None, 2, 1, 1, 1, 1, None]</td>\n",
       "      <td>0.0</td>\n",
       "      <td>0.0</td>\n",
       "      <td>164.5</td>\n",
       "      <td>0.3</td>\n",
       "      <td>0.0</td>\n",
       "      <td>0.0</td>\n",
       "      <td>7.9</td>\n",
       "      <td>42.4</td>\n",
       "      <td>2.5</td>\n",
       "      <td>35.5</td>\n",
       "      <td>1.4</td>\n",
       "      <td>4.0</td>\n",
       "      <td>Medium</td>\n",
       "      <td>[-0.00906305113, 0.0115903134, -0.00262362654,...</td>\n",
       "      <td>[-0.00530207334, -0.0133028982, -0.00344163006...</td>\n",
       "      <td>[0.0187307344, 0.012056391, -0.00672038077, 0....</td>\n",
       "      <td>[0.00349121076, 0.0117972546, 0.0296686234, 0....</td>\n",
       "      <td>[-0.00733207045, -0.00720671798, 0.0343952905,...</td>\n",
       "      <td>[0.0166545369, 0.0012823328, -0.00742303272, 0...</td>\n",
       "    </tr>\n",
       "    <tr>\n",
       "      <th>4</th>\n",
       "      <td>248</td>\n",
       "      <td>30</td>\n",
       "      <td>30</td>\n",
       "      <td>60</td>\n",
       "      <td>[None, 6, None, 2, None, 6]</td>\n",
       "      <td>0.0</td>\n",
       "      <td>0.0</td>\n",
       "      <td>921.1</td>\n",
       "      <td>76.5</td>\n",
       "      <td>9.6</td>\n",
       "      <td>0.0</td>\n",
       "      <td>935.7</td>\n",
       "      <td>58.6</td>\n",
       "      <td>3.4</td>\n",
       "      <td>53.0</td>\n",
       "      <td>4.5</td>\n",
       "      <td>None</td>\n",
       "      <td>Medium</td>\n",
       "      <td>[0.0209698538, 0.00076768779, 0.00148870368, 0...</td>\n",
       "      <td>[-0.00530207334, -0.0133028982, -0.00344163006...</td>\n",
       "      <td>[-0.0184525837, 0.000214162646, -0.0242528206,...</td>\n",
       "      <td>[-0.0150688413, 0.0101713991, -0.00287114718, ...</td>\n",
       "      <td>[0.0138302438, -0.0302947164, 0.052978378, -0....</td>\n",
       "      <td>[0.0166545369, 0.0012823328, -0.00742303272, 0...</td>\n",
       "    </tr>\n",
       "  </tbody>\n",
       "</table>\n",
       "</div>"
      ],
      "text/plain": [
       "   RecipeId  CookingTimeMinutes  PreparationTimeMinutes  TotalRecipeMinutes  \\\n",
       "0        42                  30                      20                  50   \n",
       "1        90               10080                      15               10095   \n",
       "2       133                  36                      50                  86   \n",
       "3       182                  20                      20                  40   \n",
       "4       248                  30                      30                  60   \n",
       "\n",
       "            RecipeIngredientQuantities AggregatedRating ReviewCount Calories  \\\n",
       "0                     [46, 4, 1, 2, 1]              4.5        11.0    103.6   \n",
       "1                         [1, 3, 1, 2]              4.0         2.0   2123.5   \n",
       "2                   [4, 3, 2, 3, None]              5.0         4.0   1329.7   \n",
       "3  [20, 12, None, 2, 1, 1, 1, 1, None]              0.0         0.0    164.5   \n",
       "4          [None, 6, None, 2, None, 6]              0.0         0.0    921.1   \n",
       "\n",
       "  FatContent SaturatedFatContent CholesterolContent SodiumContent  \\\n",
       "0        0.4                 0.1                0.0         959.3   \n",
       "1      119.8                 9.0                0.0          49.1   \n",
       "2        1.0                 0.1                0.0          16.6   \n",
       "3        0.3                 0.0                0.0           7.9   \n",
       "4       76.5                 9.6                0.0         935.7   \n",
       "\n",
       "  CarbohydrateContent FiberContent SugarContent ProteinContent RecipeServings  \\\n",
       "0                25.1          4.8         17.7            4.3            4.0   \n",
       "1               244.0         22.6        210.7           48.9           None   \n",
       "2               342.8          7.1        328.9            2.2           None   \n",
       "3                42.4          2.5         35.5            1.4            4.0   \n",
       "4                58.6          3.4         53.0            4.5           None   \n",
       "\n",
       "  RecipeTimeCategory                          Name_embedding_normalized  \\\n",
       "0             Medium  [0.014551365, 0.00144128629, -0.0450013956, 0....   \n",
       "1          Very Long  [0.01827233, 0.01102571, -0.03225231, 0.016608...   \n",
       "2               Long  [-0.00900752909, -0.00928354653, -0.0068938623...   \n",
       "3             Medium  [-0.00906305113, 0.0115903134, -0.00262362654,...   \n",
       "4             Medium  [0.0209698538, 0.00076768779, 0.00148870368, 0...   \n",
       "\n",
       "                    Description_embedding_normalized  \\\n",
       "0  [-0.00530207334, -0.0133028982, -0.00344163006...   \n",
       "1  [-0.00530207334, -0.0133028982, -0.00344163006...   \n",
       "2  [0.0193071968, 0.0168150324, 0.00888831661, 0....   \n",
       "3  [-0.00530207334, -0.0133028982, -0.00344163006...   \n",
       "4  [-0.00530207334, -0.0133028982, -0.00344163006...   \n",
       "\n",
       "                 RecipeCategory_embedding_normalized  \\\n",
       "0  [0.0330800682, 0.00993008647, -0.0316792038, 0...   \n",
       "1  [0.0187307344, 0.012056391, -0.00672038077, 0....   \n",
       "2  [0.0314602802, 0.00863293566, -0.0245967044, 0...   \n",
       "3  [0.0187307344, 0.012056391, -0.00672038077, 0....   \n",
       "4  [-0.0184525837, 0.000214162646, -0.0242528206,...   \n",
       "\n",
       "          RecipeIngredientParts_embedding_normalized  \\\n",
       "0  [-0.00730635277, 0.0168879323, 0.0129905029, 0...   \n",
       "1  [0.0133858578, 0.013346162, 0.0026506235, 0.04...   \n",
       "2  [-0.00834322331, 0.0158173401, 0.0182966437, 0...   \n",
       "3  [0.00349121076, 0.0117972546, 0.0296686234, 0....   \n",
       "4  [-0.0150688413, 0.0101713991, -0.00287114718, ...   \n",
       "\n",
       "                       Keywords_embedding_normalized  \\\n",
       "0  [-0.0404156187, 0.00196345769, 0.0309701885, 0...   \n",
       "1  [-0.0230871046, 0.00241799771, 0.0350617778, 0...   \n",
       "2  [-0.00841379342, 0.00332511698, 0.0533059549, ...   \n",
       "3  [-0.00733207045, -0.00720671798, 0.0343952905,...   \n",
       "4  [0.0138302438, -0.0302947164, 0.052978378, -0....   \n",
       "\n",
       "                         Review_embedding_normalized  \n",
       "0  [-0.0152954262, 0.00668470527, 0.0161962478, 0...  \n",
       "1  [-0.00785289168, 0.00978586271, 0.0185655671, ...  \n",
       "2  [-0.00363392876, 0.0103259137, 0.0361631219, 0...  \n",
       "3  [0.0166545369, 0.0012823328, -0.00742303272, 0...  \n",
       "4  [0.0166545369, 0.0012823328, -0.00742303272, 0...  "
      ]
     },
     "execution_count": 20,
     "metadata": {},
     "output_type": "execute_result"
    }
   ],
   "source": [
    "metadata_with_reviews.head()"
   ]
  },
  {
   "cell_type": "code",
   "execution_count": 25,
   "metadata": {
    "collapsed": true,
    "execution": {
     "iopub.execute_input": "2025-02-02T21:21:16.935793Z",
     "iopub.status.busy": "2025-02-02T21:21:16.935472Z",
     "iopub.status.idle": "2025-02-02T21:21:17.721535Z",
     "shell.execute_reply": "2025-02-02T21:21:17.720710Z",
     "shell.execute_reply.started": "2025-02-02T21:21:16.935765Z"
    },
    "jupyter": {
     "outputs_hidden": true
    },
    "trusted": true
   },
   "outputs": [
    {
     "name": "stdout",
     "output_type": "stream",
     "text": [
      "['{\"RecipeId\":42,\"CookingTimeMinutes\":30,\"PreparationTimeMinutes\":20,\"TotalRecipeMinutes\":50,\"RecipeIngredientQuantities\":[46,4,1,2,1],\"AggregatedRating\":4.5,\"ReviewCount\":11.0,\"Calories\":103.6,\"FatContent\":0.4,\"SaturatedFatContent\":0.1,\"CholesterolContent\":0.0,\"SodiumContent\":959.3,\"CarbohydrateContent\":25.1,\"FiberContent\":4.8,\"SugarContent\":17.7,\"ProteinContent\":4.3,\"RecipeServings\":4.0,\"RecipeTimeCategory\":\"Medium\",\"Name_embedding_normalized\":[0.014551365,0.0014412863,-0.0450013956,0.0109033312,0.0138146431,-0.0005652185,0.0118900793,0.0462791427,-0.0120191948,-0.0157450337,-0.0069310462,-0.0296950977,-0.0020471425,0.0098968665,-0.0393789211,0.0103750111,0.0226781175,0.0064112952,-0.0170044512,0.0173518171,0.0194373121,-0.0519738464,-0.014241095,0.0155050603,0.0253909102,-0.00799178,-0.0213970986,0.0107321682,-0.0000924485..."
     ]
    }
   ],
   "source": [
    "with open('metadata_with_reviews.json', 'r') as file:\n",
    "    # Read lines to see if they contain valid JSON objects\n",
    "    lines = file.readlines()\n",
    "\n",
    "# Check if there are extra lines or malformed entries\n",
    "print(lines[:1]) "
   ]
  },
  {
   "cell_type": "code",
   "execution_count": 4,
   "metadata": {},
   "outputs": [],
   "source": [
    "clear_output(wait=True)"
   ]
  },
  {
   "cell_type": "code",
   "execution_count": 22,
   "metadata": {
    "execution": {
     "iopub.execute_input": "2025-02-02T21:15:19.980098Z",
     "iopub.status.busy": "2025-02-02T21:15:19.979807Z",
     "iopub.status.idle": "2025-02-02T21:15:35.434305Z",
     "shell.execute_reply": "2025-02-02T21:15:35.433364Z",
     "shell.execute_reply.started": "2025-02-02T21:15:19.980070Z"
    },
    "trusted": true
   },
   "outputs": [],
   "source": [
    "import json\n",
    "\n",
    "metadata_with_reviews.to_json(\"metadata_with_reviews.json\", orient=\"records\", lines=True)\n"
   ]
  },
  {
   "cell_type": "code",
   "execution_count": 26,
   "metadata": {
    "execution": {
     "iopub.execute_input": "2025-02-02T21:22:54.591983Z",
     "iopub.status.busy": "2025-02-02T21:22:54.591672Z",
     "iopub.status.idle": "2025-02-02T21:23:49.165985Z",
     "shell.execute_reply": "2025-02-02T21:23:49.164978Z",
     "shell.execute_reply.started": "2025-02-02T21:22:54.591961Z"
    },
    "trusted": true
   },
   "outputs": [],
   "source": [
    "metadata_with_reviews.to_csv(\"metadata_with_reviews.csv\", index=False)"
   ]
  }
 ],
 "metadata": {
  "kaggle": {
   "accelerator": "none",
   "dataSources": [
    {
     "datasetId": 1063627,
     "sourceId": 1789966,
     "sourceType": "datasetVersion"
    },
    {
     "datasetId": 6591332,
     "sourceId": 10645038,
     "sourceType": "datasetVersion"
    },
    {
     "sourceId": 220480037,
     "sourceType": "kernelVersion"
    }
   ],
   "dockerImageVersionId": 30840,
   "isGpuEnabled": false,
   "isInternetEnabled": true,
   "language": "python",
   "sourceType": "notebook"
  },
  "kernelspec": {
   "display_name": "base",
   "language": "python",
   "name": "python3"
  },
  "language_info": {
   "codemirror_mode": {
    "name": "ipython",
    "version": 3
   },
   "file_extension": ".py",
   "mimetype": "text/x-python",
   "name": "python",
   "nbconvert_exporter": "python",
   "pygments_lexer": "ipython3",
   "version": "3.9.18"
  }
 },
 "nbformat": 4,
 "nbformat_minor": 4
}
